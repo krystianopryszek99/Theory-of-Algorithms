{
 "cells": [
  {
   "cell_type": "markdown",
   "id": "005c3cf1",
   "metadata": {},
   "source": [
    "# Post Correspondence Problem\n",
    "\n",
    "https://en.wikipedia.org/wiki/Post_correspondence_problem\n",
    "\n",
    "*** \n",
    "\n",
    "## Explanation of the Post Correspondence Problem\n",
    "\n",
    "Emil Post introduced the Post Correspondence Problem [[1]](#References) in 1946 as an undecidable decision problem. In Post Correspondence Problem we are given a collection of **Dominos** which are like tiles, each containing two strings one on each side. Post Correspondence Problem is an example of a problem that does not mention Turing Machines in its statement, yet it is undecidable. Post Correspondence Problem can be represented in two ways: **Domino Form** and **Table Form**.\n",
    "\n",
    "### Domino's Form\n",
    "\n",
    "A single domino consists of the numerator (top part) and denominator (bottom part) and looks like the following [[2]](#References):\n",
    "\n",
    "$$ \\left  [ \\frac{a}{b} \\right ] $$\n",
    "\n",
    "The collection of dominos looks like the following:\n",
    "\n",
    "$$ \\left \\{ \\left [ \\frac{b}{ca} \\right ], \\left [ \\frac{a}{ab} \\right ] , \\left [ \\frac{ca}{a} \\right ], \\left [ \\frac{abc}{c} \\right ]\\right \\} $$\n",
    "\n",
    "The task is to find a sequence of dominoes such that the top and bottom strings are the same. If you combine the symbols on the top and the symbols on the bottom, the symbols on the top and the symbols on the bottom should match. They should form the same string. \n",
    "\n",
    "The rule is that you can arrange these dominoes however you like and you can use each domino as many times as you wish. We are not limited to using same dominoes just once. You can use the same Domino several times.\n",
    "\n",
    "$$ \\left [ \\frac{a}{ab} \\right ] \\left [ \\frac{b}{ca} \\right ] \\left [ \\frac{ca}{a} \\right ] \\left [ \\frac{a}{ab} \\right ] \\left [ \\frac{abc}{c} \\right ] $$\n",
    "\n",
    "The top string we get: **abcaaabc** which is the same as the bottom. \n",
    "\n",
    "### Table Form\n",
    "This is another example of Post Correspondence Problem in a table form. **A** represents the top part of the domino and **B** represents the bottom part of the domino. **1,2 and 3** represent domino numbers. \n",
    "For example, the first domino has 1 at the top and 111 at the bottom, and so on.\n",
    "\n",
    "|  | A| B | |\n",
    "| :- | :- | :- |:- |\n",
    "| **1)** | 10 | 101 | $$ \\rightarrow \\frac{10}{101} $$ |\n",
    "| **2)** | 011 | 11 |$$ \\rightarrow \\frac{011}{11} $$ |\n",
    "| **3)** | 101 | 011 | $$ \\rightarrow \\frac{101}{011} $$ |\n",
    "\n",
    "**Possibility  1.**\n",
    "\n",
    "1010\n",
    "\n",
    "101101\n",
    "\n",
    "*Not correct possibility  !*\n",
    "\n",
    "**Possibility  2.**\n",
    "\n",
    "10011\n",
    "\n",
    "10111\n",
    "\n",
    "*Not correct possibility !*\n",
    "\n",
    "**Possibility  3.**\n",
    "\n",
    "10101101101......\n",
    "\n",
    "101011011011.....\n",
    "\n",
    "*Not correct possibility !* The only possibility we can use is domino 3 which means it will continue to leave 1. \n",
    "\n",
    "This PCP does not have a solution which means not all PCP can be solved. \n",
    "\n",
    "\n",
    "### Definition of the Post Correspondence Problem\n",
    "\n",
    "The alphabet **A** has at least two symbols [[1]](#References). There are two finite lists as input to the problem: \n",
    "\n",
    "${\\displaystyle \\alpha _{1},\\ldots ,\\alpha _{N}}$ and ${\\displaystyle \\beta _{1},\\ldots ,\\beta _{N}}$\n",
    "\n",
    "A sequence of indices can be used to solve this problem  ${\\displaystyle (i_{k})_{1\\leq k\\leq K}}$ with ${\\displaystyle K\\geq 1}$ and ${\\displaystyle 1\\leq i_{k}\\leq N}$ for all ${\\displaystyle k}$ such that\n",
    "\n",
    "$\\alpha _{{i_{1}}}\\ldots \\alpha _{{i_{K}}}=\\beta _{{i_{1}}}\\ldots \\beta _{{i_{K}}}$.\n",
    "\n",
    "It is then a matter of deciding whether such a solution exists or not.\n",
    "\n",
    "### Explanation of what an undecidable problem is in computability theory\n",
    "\n",
    "In computability theory an undecidable problem is defined as type of computational problem that accepts yes/no answers [[4]](#References). Undecidable Problems are those that we are unable to construct an algorithm that can solve our problem correctly in finite time.\n",
    "\n",
    "#### Proof of Undecidability of Post Correspondence Problem\n",
    "\n",
    "The Post Correspondence Problem is an undecidable decision problem. There is no specific algorithm to prove that any Post Correspondence Problem has solution or not. Post Correspondence Problem undecidability is most commonly proven by reducing Turing Machine to Post Correspondence Problem [[5]](#References). The following can be used to simulate PCP's input string **S** as a turning machine:\n",
    "\n",
    "$M = (Q, \\Sigma , \\Gamma, \\delta,q_{0}, q_{accept}, q_{reject})$\n",
    "\n",
    "$Q, \\Sigma , \\Gamma$ and $\\delta$ are the state set, input alphabet, tape alphabet and transition function of M. \n",
    "\n",
    "The input will match only if it is accepted by the Turing machine. If there is a match in the input string, the Turing machine halts in the accepting state. The acceptance problem is undecidable, Post Correspondence Problem is also undecidable.  \n",
    "\n",
    "In the definition of a Turing machine, it consists of three parts in its full state [[1]](#References):\n",
    "\n",
    "- Current contents of the tape.\n",
    "- Current state of the finite state machine which operates the tape head.\n",
    "- Current position of the tape head on the tape.\n",
    "\n",
    "The tape has an infinite number of cells, but only some prefixes of these will non-blank.\n",
    "\n",
    "***"
   ]
  },
  {
   "cell_type": "markdown",
   "id": "b2012abd",
   "metadata": {},
   "source": [
    "## Bounded PCP\n",
    "\n",
    "Bounded Post Correspondence Problem is one of the most important variants of Post Correspondence Problem [[1]](#References). If we can find a match using no more than k tiles, including repeated tiles, the problem can be solved using brute force search which solves the problem in time $O\\left ( 2^{k} \\right )$. However, the problem is NP-complete, so it is difficult to improve.\n",
    "\n",
    "The NP-complete stands for nondeterministic polynomial-time complete [[6]](#References). The term nondeterministic refers to nondeterministic Turing machines, a way of formalizing the idea of a brute-force search algorithm mathematically. A polynomial time can be defined as the amount of time needed for deterministic algorithms to check a solution for deterministic Turing machines to perform the search. The term complete refers to simulatimg everything in the same complexity class.\n",
    "\n",
    "Complexity represented as \"easy\", \"medium\", \"hard\" and \"hardest\" labels.\n",
    "- Easy: $P$\n",
    "- Medium: $NP$\n",
    "- Hard: $NP-Complete$\n",
    "- Hardest: $NP-Hard$\n",
    "\n",
    "![Euler diagram](https://upload.wikimedia.org/wikipedia/commons/thumb/a/a0/P_np_np-complete_np-hard.svg/640px-P_np_np-complete_np-hard.svg.png)\n",
    "*The left side of the diagram is valid under the assumption that $P\\neq NP$ and the right side is valid under the assumption that $P=NP$.*\n",
    "\n",
    "### Complexity classes\n",
    "\n",
    "$P$: Stands for polynomial-time, and it's all the decision problems which can be solved by a deterministic Turing machine in polynomial time [[7]](#References).\n",
    "\n",
    "$NP$: Contains all decision problems. These are yes or no answers for which the yes answers can be verified in $O\\left ( 2^{k} \\right )$.\n",
    "\n",
    "$NP-Complete$: As mentioned above, NP-Complete is a way of formalizing the idea of a brute-force search algorithm mathematically.\n",
    "\n",
    "$NP-Hard$: Stands for non-deterministic polynomial-time hardness. They are problems that are \"at least as hard as the hardest problems in NP\".\n",
    "\n",
    "***"
   ]
  },
  {
   "cell_type": "markdown",
   "id": "31886825",
   "metadata": {},
   "source": [
    "$$ |S| \\leq K \\qquad \\in \\mathbb{N} $$"
   ]
  },
  {
   "cell_type": "markdown",
   "id": "8af26ce8",
   "metadata": {},
   "source": [
    "<br>\n",
    "\n",
    "## The Problem\n",
    "\n",
    "***"
   ]
  },
  {
   "cell_type": "code",
   "execution_count": 1,
   "id": "2e8a97b7",
   "metadata": {},
   "outputs": [],
   "source": [
    "A = ['a', 'b']"
   ]
  },
  {
   "cell_type": "code",
   "execution_count": 2,
   "id": "cc99feef",
   "metadata": {},
   "outputs": [],
   "source": [
    "# First List.\n",
    "L1 = ['a', 'ab', 'bba']"
   ]
  },
  {
   "cell_type": "code",
   "execution_count": 3,
   "id": "a2f6a871",
   "metadata": {},
   "outputs": [
    {
     "data": {
      "text/plain": [
       "['a', 'ab', 'bba']"
      ]
     },
     "execution_count": 3,
     "metadata": {},
     "output_type": "execute_result"
    }
   ],
   "source": [
    "L1"
   ]
  },
  {
   "cell_type": "code",
   "execution_count": 4,
   "id": "8df3d777",
   "metadata": {},
   "outputs": [],
   "source": [
    "# Second list.\n",
    "L2 = ['baa', 'aa', 'bb']"
   ]
  },
  {
   "cell_type": "code",
   "execution_count": 5,
   "id": "cd7261db",
   "metadata": {},
   "outputs": [
    {
     "data": {
      "text/plain": [
       "['baa', 'aa', 'bb']"
      ]
     },
     "execution_count": 5,
     "metadata": {},
     "output_type": "execute_result"
    }
   ],
   "source": [
    "L2"
   ]
  },
  {
   "cell_type": "code",
   "execution_count": 6,
   "id": "af0bd0ef",
   "metadata": {},
   "outputs": [],
   "source": [
    "# A proposed solution.\n",
    "S = [2, 1, 2, 0]"
   ]
  },
  {
   "cell_type": "code",
   "execution_count": 7,
   "id": "7ca3762a",
   "metadata": {},
   "outputs": [],
   "source": [
    "# Apply the proposed solution to a tuple.\n",
    "def apply(S, L):\n",
    "    S_on_L = [''.join(L[i]) for i in S]\n",
    "    return ''.join(S_on_L)"
   ]
  },
  {
   "cell_type": "code",
   "execution_count": 8,
   "id": "ed15f722",
   "metadata": {},
   "outputs": [
    {
     "data": {
      "text/plain": [
       "'bbaabbbaa'"
      ]
     },
     "execution_count": 8,
     "metadata": {},
     "output_type": "execute_result"
    }
   ],
   "source": [
    "# Apply S to L1.\n",
    "apply(S, L1)"
   ]
  },
  {
   "cell_type": "code",
   "execution_count": 9,
   "id": "e9a70122",
   "metadata": {},
   "outputs": [
    {
     "data": {
      "text/plain": [
       "'bbaabbbaa'"
      ]
     },
     "execution_count": 9,
     "metadata": {},
     "output_type": "execute_result"
    }
   ],
   "source": [
    "# Apply S to L2.\n",
    "apply(S, L2)"
   ]
  },
  {
   "cell_type": "code",
   "execution_count": 10,
   "id": "257bb9f8",
   "metadata": {},
   "outputs": [
    {
     "data": {
      "text/plain": [
       "True"
      ]
     },
     "execution_count": 10,
     "metadata": {},
     "output_type": "execute_result"
    }
   ],
   "source": [
    "# Get Python to check if the proposed solution is a solution.\n",
    "apply(S, L1) == apply(S, L2)"
   ]
  },
  {
   "cell_type": "code",
   "execution_count": 11,
   "id": "0dca9613",
   "metadata": {},
   "outputs": [
    {
     "data": {
      "text/plain": [
       "'bbaabbbaabbaabbbaa'"
      ]
     },
     "execution_count": 11,
     "metadata": {},
     "output_type": "execute_result"
    }
   ],
   "source": [
    "# Another solution - there are infinitely many.\n",
    "apply((2, 1, 2, 0, 2, 1, 2, 0), L1)"
   ]
  },
  {
   "cell_type": "code",
   "execution_count": 12,
   "id": "5b43706f",
   "metadata": {},
   "outputs": [
    {
     "data": {
      "text/plain": [
       "'bbaabbbaabbaabbbaa'"
      ]
     },
     "execution_count": 12,
     "metadata": {},
     "output_type": "execute_result"
    }
   ],
   "source": [
    "apply((2, 1, 2, 0, 2, 1, 2, 0), L2)"
   ]
  },
  {
   "cell_type": "markdown",
   "id": "5ae0ee1a",
   "metadata": {},
   "source": [
    "<br>\n",
    "\n",
    "## No Correspondence\n",
    "\n",
    "Created two new lists *L3* and *L4* to show that the lists don't correspond.\n",
    "\n",
    "***"
   ]
  },
  {
   "cell_type": "code",
   "execution_count": 13,
   "id": "f6193736",
   "metadata": {},
   "outputs": [],
   "source": [
    "# List 1.\n",
    "L3 = ['ab', 'bba']"
   ]
  },
  {
   "cell_type": "code",
   "execution_count": 14,
   "id": "9b95fbfb",
   "metadata": {},
   "outputs": [
    {
     "data": {
      "text/plain": [
       "['ab', 'bba']"
      ]
     },
     "execution_count": 14,
     "metadata": {},
     "output_type": "execute_result"
    }
   ],
   "source": [
    "L3"
   ]
  },
  {
   "cell_type": "code",
   "execution_count": 15,
   "id": "1e7aedcc",
   "metadata": {},
   "outputs": [],
   "source": [
    "# List 2.\n",
    "L4 = ['aa', 'bb']"
   ]
  },
  {
   "cell_type": "code",
   "execution_count": 16,
   "id": "13b4800a",
   "metadata": {},
   "outputs": [
    {
     "data": {
      "text/plain": [
       "['aa', 'bb']"
      ]
     },
     "execution_count": 16,
     "metadata": {},
     "output_type": "execute_result"
    }
   ],
   "source": [
    "L4"
   ]
  },
  {
   "cell_type": "code",
   "execution_count": 17,
   "id": "d8a645fd",
   "metadata": {},
   "outputs": [
    {
     "data": {
      "text/plain": [
       "[2, 1, 2, 0]"
      ]
     },
     "execution_count": 17,
     "metadata": {},
     "output_type": "execute_result"
    }
   ],
   "source": [
    "S"
   ]
  },
  {
   "cell_type": "markdown",
   "id": "8ba23820",
   "metadata": {},
   "source": [
    "$$ (L_1, L_2) \\rightarrow \\{True, False\\} \\qquad |L_1| = |L_2| $$"
   ]
  },
  {
   "cell_type": "code",
   "execution_count": 18,
   "id": "d2435ff3",
   "metadata": {},
   "outputs": [],
   "source": [
    "# A very useful module in the Python standard library\n",
    "from itertools import product"
   ]
  },
  {
   "cell_type": "markdown",
   "id": "ef350dc7",
   "metadata": {},
   "source": [
    "### Cartesian Product\n",
    "\n",
    "https://en.wikipedia.org/wiki/Cartesian_product\n",
    "\n",
    "A Cartesian product is a set that is constructed from two sets and contains all pairs of elements of the sets. One element of the pair comes from the first set and the other from the second set [[9]](#References)."
   ]
  },
  {
   "cell_type": "code",
   "execution_count": 19,
   "id": "897c77ee",
   "metadata": {},
   "outputs": [],
   "source": [
    "def cartesian_product(L, K):\n",
    "    L1 = []\n",
    "    # Find the cartesian product of a list.\n",
    "    for i in range(1, K + 1):\n",
    "        for element in product(L, repeat = i):\n",
    "            # Join each solution.\n",
    "            joined_element = ''.join(element)\n",
    "            # Append it to the joined element.\n",
    "            L1.append(joined_element)\n",
    "    return L1  "
   ]
  },
  {
   "cell_type": "code",
   "execution_count": 20,
   "id": "495aac1a",
   "metadata": {},
   "outputs": [
    {
     "name": "stdout",
     "output_type": "stream",
     "text": [
      "['a', 'ab', 'bba', 'aa', 'aab', 'abba', 'aba', 'abab', 'abbba', 'bbaa', 'bbaab', 'bbabba', 'aaa', 'aaab', 'aabba', 'aaba', 'aabab', 'aabbba', 'abbaa', 'abbaab', 'abbabba', 'abaa', 'abaab', 'ababba', 'ababa', 'ababab', 'ababbba', 'abbbaa', 'abbbaab', 'abbbabba', 'bbaaa', 'bbaaab', 'bbaabba', 'bbaaba', 'bbaabab', 'bbaabbba', 'bbabbaa', 'bbabbaab', 'bbabbabba', 'aaaa', 'aaaab', 'aaabba', 'aaaba', 'aaabab', 'aaabbba', 'aabbaa', 'aabbaab', 'aabbabba', 'aabaa', 'aabaab', 'aababba', 'aababa', 'aababab', 'aababbba', 'aabbbaa', 'aabbbaab', 'aabbbabba', 'abbaaa', 'abbaaab', 'abbaabba', 'abbaaba', 'abbaabab', 'abbaabbba', 'abbabbaa', 'abbabbaab', 'abbabbabba', 'abaaa', 'abaaab', 'abaabba', 'abaaba', 'abaabab', 'abaabbba', 'ababbaa', 'ababbaab', 'ababbabba', 'ababaa', 'ababaab', 'abababba', 'abababa', 'abababab', 'abababbba', 'ababbbaa', 'ababbbaab', 'ababbbabba', 'abbbaaa', 'abbbaaab', 'abbbaabba', 'abbbaaba', 'abbbaabab', 'abbbaabbba', 'abbbabbaa', 'abbbabbaab', 'abbbabbabba', 'bbaaaa', 'bbaaaab', 'bbaaabba', 'bbaaaba', 'bbaaabab', 'bbaaabbba', 'bbaabbaa', 'bbaabbaab', 'bbaabbabba', 'bbaabaa', 'bbaabaab', 'bbaababba', 'bbaababa', 'bbaababab', 'bbaababbba', 'bbaabbbaa', 'bbaabbbaab', 'bbaabbbabba', 'bbabbaaa', 'bbabbaaab', 'bbabbaabba', 'bbabbaaba', 'bbabbaabab', 'bbabbaabbba', 'bbabbabbaa', 'bbabbabbaab', 'bbabbabbabba']\n"
     ]
    }
   ],
   "source": [
    "print(cartesian_product(L1, 4))"
   ]
  },
  {
   "cell_type": "code",
   "execution_count": 21,
   "id": "d2225b63",
   "metadata": {},
   "outputs": [
    {
     "name": "stdout",
     "output_type": "stream",
     "text": [
      "['baa', 'aa', 'bb', 'baabaa', 'baaaa', 'baabb', 'aabaa', 'aaaa', 'aabb', 'bbbaa', 'bbaa', 'bbbb', 'baabaabaa', 'baabaaaa', 'baabaabb', 'baaaabaa', 'baaaaaa', 'baaaabb', 'baabbbaa', 'baabbaa', 'baabbbb', 'aabaabaa', 'aabaaaa', 'aabaabb', 'aaaabaa', 'aaaaaa', 'aaaabb', 'aabbbaa', 'aabbaa', 'aabbbb', 'bbbaabaa', 'bbbaaaa', 'bbbaabb', 'bbaabaa', 'bbaaaa', 'bbaabb', 'bbbbbaa', 'bbbbaa', 'bbbbbb', 'baabaabaabaa', 'baabaabaaaa', 'baabaabaabb', 'baabaaaabaa', 'baabaaaaaa', 'baabaaaabb', 'baabaabbbaa', 'baabaabbaa', 'baabaabbbb', 'baaaabaabaa', 'baaaabaaaa', 'baaaabaabb', 'baaaaaabaa', 'baaaaaaaa', 'baaaaaabb', 'baaaabbbaa', 'baaaabbaa', 'baaaabbbb', 'baabbbaabaa', 'baabbbaaaa', 'baabbbaabb', 'baabbaabaa', 'baabbaaaa', 'baabbaabb', 'baabbbbbaa', 'baabbbbaa', 'baabbbbbb', 'aabaabaabaa', 'aabaabaaaa', 'aabaabaabb', 'aabaaaabaa', 'aabaaaaaa', 'aabaaaabb', 'aabaabbbaa', 'aabaabbaa', 'aabaabbbb', 'aaaabaabaa', 'aaaabaaaa', 'aaaabaabb', 'aaaaaabaa', 'aaaaaaaa', 'aaaaaabb', 'aaaabbbaa', 'aaaabbaa', 'aaaabbbb', 'aabbbaabaa', 'aabbbaaaa', 'aabbbaabb', 'aabbaabaa', 'aabbaaaa', 'aabbaabb', 'aabbbbbaa', 'aabbbbaa', 'aabbbbbb', 'bbbaabaabaa', 'bbbaabaaaa', 'bbbaabaabb', 'bbbaaaabaa', 'bbbaaaaaa', 'bbbaaaabb', 'bbbaabbbaa', 'bbbaabbaa', 'bbbaabbbb', 'bbaabaabaa', 'bbaabaaaa', 'bbaabaabb', 'bbaaaabaa', 'bbaaaaaa', 'bbaaaabb', 'bbaabbbaa', 'bbaabbaa', 'bbaabbbb', 'bbbbbaabaa', 'bbbbbaaaa', 'bbbbbaabb', 'bbbbaabaa', 'bbbbaaaa', 'bbbbaabb', 'bbbbbbbaa', 'bbbbbbaa', 'bbbbbbbb']\n"
     ]
    }
   ],
   "source": [
    "print(cartesian_product(L2, 4))"
   ]
  },
  {
   "cell_type": "code",
   "execution_count": 22,
   "id": "194d1256",
   "metadata": {},
   "outputs": [],
   "source": [
    "def bpcp_solver(L1, L2, K):\n",
    "    # Check if two lists L1 and L2 are the same length.\n",
    "    if len(L1) != len(L2):\n",
    "        # Return false if they are not the same length.\n",
    "        return False\n",
    "    # Loop through the cartesian_product of both lists\n",
    "    for x, y in zip(cartesian_product(L1, K), cartesian_product(L2, K)):\n",
    "        if x == y:\n",
    "            print(\"Solution found!\")\n",
    "            return True\n",
    "    print(\"Solution not found!\")\n",
    "    return False"
   ]
  },
  {
   "cell_type": "markdown",
   "id": "9ab3c3c4",
   "metadata": {},
   "source": [
    "Correspondence for lists *L1* and *L2*. \n",
    "\n",
    "*L1* and *L2* don't correspond until $K=4$"
   ]
  },
  {
   "cell_type": "code",
   "execution_count": 23,
   "id": "4c769bdc",
   "metadata": {},
   "outputs": [
    {
     "name": "stdout",
     "output_type": "stream",
     "text": [
      "Solution not found!\n",
      "False\n"
     ]
    }
   ],
   "source": [
    "print(bpcp_solver(L1, L2, 3))"
   ]
  },
  {
   "cell_type": "code",
   "execution_count": 24,
   "id": "4b79d2d3",
   "metadata": {},
   "outputs": [
    {
     "name": "stdout",
     "output_type": "stream",
     "text": [
      "Solution found!\n",
      "True\n"
     ]
    }
   ],
   "source": [
    "print(bpcp_solver(L1, L2, 4))"
   ]
  },
  {
   "cell_type": "markdown",
   "id": "1417aaac",
   "metadata": {},
   "source": [
    "No correspondence for lists *L3* and *L4*."
   ]
  },
  {
   "cell_type": "code",
   "execution_count": 25,
   "id": "220e4f62",
   "metadata": {},
   "outputs": [
    {
     "name": "stdout",
     "output_type": "stream",
     "text": [
      "Solution not found!\n",
      "False\n"
     ]
    }
   ],
   "source": [
    "print(bpcp_solver(L3, L4, 3))"
   ]
  },
  {
   "cell_type": "code",
   "execution_count": 26,
   "id": "99b9ab80",
   "metadata": {},
   "outputs": [
    {
     "name": "stdout",
     "output_type": "stream",
     "text": [
      "Solution not found!\n",
      "False\n"
     ]
    }
   ],
   "source": [
    "print(bpcp_solver(L3, L4, 4))"
   ]
  },
  {
   "cell_type": "markdown",
   "id": "0d73d7b1",
   "metadata": {},
   "source": [
    "***\n",
    "\n",
    "## End"
   ]
  },
  {
   "cell_type": "markdown",
   "id": "ad3ce7aa",
   "metadata": {},
   "source": [
    "# References\n",
    "\n",
    "1. [*Post correspondence problem*, <br> https://en.wikipedia.org/wiki/Post_correspondence_problem](https://en.wikipedia.org/wiki/Post_correspondence_problem)\n",
    "2. [*Post Correspondace Problem - A simple undecidable problem*, <br> https://galwaymayoinstitute-my.sharepoint.com/:b:/r/personal/ian_mcloughlin_gmit_ie/Documents/share_students/sipser-pcp.pdf?csf=1&web=1&e=cSdUQW](https://galwaymayoinstitute-my.sharepoint.com/:b:/r/personal/ian_mcloughlin_gmit_ie/Documents/share_students/sipser-pcp.pdf?csf=1&web=1&e=cSdUQW)\n",
    "3. [*Post’s Correspondence Problem (PCP) Is Undecidable*, <br> https://citeseerx.ist.psu.edu/viewdoc/download?doi=10.1.1.721.2199&rep=rep1&type=pdf](https://citeseerx.ist.psu.edu/viewdoc/download?doi=10.1.1.721.2199&rep=rep1&type=pdf)\n",
    "4. [*Decidable and Undecidable problems in Theory of Computation*, <br> https://www.geeksforgeeks.org/decidable-and-undecidable-problems-in-theory-of-computation/](https://www.geeksforgeeks.org/decidable-and-undecidable-problems-in-theory-of-computation/)\n",
    "5. [*Post Correspondence Problem - GeeksforGeeks*, <br> https://www.geeksforgeeks.org/post-correspondence-problem/](https://www.geeksforgeeks.org/post-correspondence-problem/)\n",
    "6. [*NP-completeness*, <br> https://en.wikipedia.org/wiki/NP-completeness](https://en.wikipedia.org/wiki/NP-completeness)\n",
    "7. [*P, NP, NP-Hard & NP-complete problems*, <br> https://www.jntua.ac.in/gate-online-classes/registration/downloads/material/a159262902029.pdf](https://www.jntua.ac.in/gate-online-classes/registration/downloads/material/a159262902029.pdf)\n",
    "8. [*itertools - Functions creating iterators for efficient looping*, <br> https://docs.python.org/3/library/itertools.html](https://en.wikipedia.org/wiki/Post_correspondence_problem)\n",
    "9. [*Cartesian product*, <br> https://en.wikipedia.org/wiki/Cartesian_product](https://en.wikipedia.org/wiki/Cartesian_product)\n",
    "10. [*Built-in Functions - zip*, <br> https://docs.python.org/3/library/functions.html#zip](https://docs.python.org/3/library/functions.html#zip)\n",
    "\n",
    "***"
   ]
  }
 ],
 "metadata": {
  "kernelspec": {
   "display_name": "Python 3",
   "language": "python",
   "name": "python3"
  },
  "language_info": {
   "codemirror_mode": {
    "name": "ipython",
    "version": 3
   },
   "file_extension": ".py",
   "mimetype": "text/x-python",
   "name": "python",
   "nbconvert_exporter": "python",
   "pygments_lexer": "ipython3",
   "version": "3.8.8"
  }
 },
 "nbformat": 4,
 "nbformat_minor": 5
}
