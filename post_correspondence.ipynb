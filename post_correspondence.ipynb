{
 "cells": [
  {
   "cell_type": "markdown",
   "id": "005c3cf1",
   "metadata": {},
   "source": [
    "# Post Correspondence Problem\n",
    "\n",
    "https://en.wikipedia.org/wiki/Post_correspondence_problem\n",
    "\n",
    "*** \n",
    "\n",
    "## Definition and explanation of the Post Correspondence Problem\n",
    "Emil Post introduced the [Post Correspondence Problem](https://en.wikipedia.org/wiki/Post_correspondence_problem) in 1946 as an undecidable decision problem. In [Post Correspondence Problem](https://en.wikipedia.org/wiki/Post_correspondence_problem) we are given a collection of **Dominos** which are like tiles, each containing two strings one on each side. [Post Correspondence Problem](https://en.wikipedia.org/wiki/Post_correspondence_problem) is an example of a problem that does not mention Turing Machines in its statement, yet it is undecidable.\n",
    "\n",
    "A single domino consists of the numerator (top part) and denominator (bottom part) and looks like the following:\n",
    "\n",
    "$$ \\left  [ \\frac{a}{b} \\right ] $$\n",
    "\n",
    "The collection of dominos looks like the following:\n",
    "\n",
    "$$ \\left \\{ \\left [ \\frac{b}{ca} \\right ], \\left [ \\frac{a}{ab} \\right ] , \\left [ \\frac{ca}{a} \\right ], \\left [ \\frac{abc}{c} \\right ]\\right \\} $$\n",
    "\n",
    "The task is to find a sequence of dominoes such that the top and bottom strings are the same. If you combine the symbols on the top and the symbols on the bottom, the symbols on the top and the symbols on the bottom should match. They should form the same string. \n",
    "\n",
    "The rule is that you can arrange these dominoes however you like and you can use each domino as many times as you wish. We are not limited to using same dominoes just once. You can use the same Domino several times.\n",
    "\n",
    "$$ \\left [ \\frac{a}{ab} \\right ] \\left [ \\frac{b}{ca} \\right ] \\left [ \\frac{ca}{a} \\right ] \\left [ \\frac{a}{ab} \\right ] \\left [ \\frac{abc}{c} \\right ] $$\n",
    "\n",
    "The top string we get: **abcaaabc** which is the same as the bottom. \n",
    "\n",
    "### PCP example of undecidability\n",
    "\n",
    "**A** represents the top part of the domino and **B** represents the bottom part of the domino. **1,2 and 3** represent domino numbers. \n",
    "For example, the first domino has 1 at the top and 111 at the bottom, and so on.\n",
    "\n",
    "|  | A| B | |\n",
    "| :- | :- | :- |:- |\n",
    "| **1)** | 10 | 101 | $$ \\rightarrow \\frac{10}{101} $$ |\n",
    "| **2)** | 011 | 11 |$$ \\rightarrow \\frac{011}{11} $$ |\n",
    "| **3)** | 101 | 011 | $$ \\rightarrow \\frac{101}{011} $$ |\n",
    "\n",
    "**Possibility  1.**\n",
    "\n",
    "1010\n",
    "\n",
    "101101\n",
    "\n",
    "*Not correct possibility  !*\n",
    "\n",
    "**Possibility  2.**\n",
    "\n",
    "10011\n",
    "\n",
    "10111\n",
    "\n",
    "*Not correct possibility !*\n",
    "\n",
    "**Possibility  3.**\n",
    "\n",
    "10101101101......\n",
    "\n",
    "101011011011.....\n",
    "\n",
    "*Not correct possibility !* The only possibility we can use is domino 3 which means it will continue to leave 1. \n",
    "\n",
    "This PCP does not have a solution which means not all PCP can be solved. \n",
    "\n",
    "***"
   ]
  },
  {
   "cell_type": "markdown",
   "id": "23b1010b",
   "metadata": {},
   "source": [
    "## Sets\n",
    "\n",
    "https://docs.python.org/3/tutorial/datastructures.html#sets\n",
    "\n",
    "***"
   ]
  },
  {
   "cell_type": "code",
   "execution_count": 1,
   "id": "690c2f8a",
   "metadata": {},
   "outputs": [],
   "source": [
    "# Alphabet.\n",
    "A = {'a', 'b'}"
   ]
  },
  {
   "cell_type": "code",
   "execution_count": 2,
   "id": "2cb68424",
   "metadata": {
    "scrolled": true
   },
   "outputs": [
    {
     "data": {
      "text/plain": [
       "set"
      ]
     },
     "execution_count": 2,
     "metadata": {},
     "output_type": "execute_result"
    }
   ],
   "source": [
    "# Curly braces are often used for sets.\n",
    "type(A)"
   ]
  },
  {
   "cell_type": "code",
   "execution_count": 3,
   "id": "d4ff0e51",
   "metadata": {},
   "outputs": [
    {
     "data": {
      "text/plain": [
       "True"
      ]
     },
     "execution_count": 3,
     "metadata": {},
     "output_type": "execute_result"
    }
   ],
   "source": [
    "# Sets are unordered.\n",
    "{'a', 'b'} == {'b', 'a'}"
   ]
  },
  {
   "cell_type": "code",
   "execution_count": 4,
   "id": "fc08f71e",
   "metadata": {},
   "outputs": [
    {
     "data": {
      "text/plain": [
       "False"
      ]
     },
     "execution_count": 4,
     "metadata": {},
     "output_type": "execute_result"
    }
   ],
   "source": [
    "# Order does matter for lists\n",
    "['a', 'b'] == ['b', 'a']"
   ]
  },
  {
   "cell_type": "code",
   "execution_count": 5,
   "id": "7c49ee21",
   "metadata": {},
   "outputs": [
    {
     "data": {
      "text/plain": [
       "{1, 2, 3}"
      ]
     },
     "execution_count": 5,
     "metadata": {},
     "output_type": "execute_result"
    }
   ],
   "source": [
    "# Using the set() function to create a set from a list.\n",
    "set([1, 2, 3])"
   ]
  },
  {
   "cell_type": "code",
   "execution_count": 6,
   "id": "ad89d9f0",
   "metadata": {},
   "outputs": [
    {
     "data": {
      "text/plain": [
       "{1, 2, 3}"
      ]
     },
     "execution_count": 6,
     "metadata": {},
     "output_type": "execute_result"
    }
   ],
   "source": [
    "# Sets don't keep count.\n",
    "set([3, 2, 2, 1])"
   ]
  },
  {
   "cell_type": "code",
   "execution_count": 7,
   "id": "8bb7b756",
   "metadata": {},
   "outputs": [
    {
     "data": {
      "text/plain": [
       "True"
      ]
     },
     "execution_count": 7,
     "metadata": {},
     "output_type": "execute_result"
    }
   ],
   "source": [
    "# Test whether or not an item is in the set.\n",
    "1 in {1, 2, 3}"
   ]
  },
  {
   "cell_type": "code",
   "execution_count": 8,
   "id": "aba3acb1",
   "metadata": {},
   "outputs": [
    {
     "data": {
      "text/plain": [
       "False"
      ]
     },
     "execution_count": 8,
     "metadata": {},
     "output_type": "execute_result"
    }
   ],
   "source": [
    "'a' in {1, 2, 3}"
   ]
  },
  {
   "cell_type": "markdown",
   "id": "6e271fcb",
   "metadata": {},
   "source": [
    "When a set is defined, it gives rise to a decision problem.\n",
    "\n",
    "The decision problem is: is a given item in the set."
   ]
  },
  {
   "cell_type": "markdown",
   "id": "b15d50f1",
   "metadata": {},
   "source": [
    "<br>\n",
    "\n",
    "## Tuples\n",
    "\n",
    "https://docs.python.org/3/tutorial/datastructures.html#tuples-and-sequences\n",
    "\n",
    "***"
   ]
  },
  {
   "cell_type": "markdown",
   "id": "1df397a9",
   "metadata": {},
   "source": [
    "Tuples are **immutable** and **hashable**\n",
    "\n",
    "Lists are **mutable** but **not hashable**"
   ]
  },
  {
   "cell_type": "code",
   "execution_count": 9,
   "id": "4e0eda13",
   "metadata": {},
   "outputs": [
    {
     "data": {
      "text/plain": [
       "[1, 2, 3]"
      ]
     },
     "execution_count": 9,
     "metadata": {},
     "output_type": "execute_result"
    }
   ],
   "source": [
    "# List.\n",
    "[1, 2, 3]"
   ]
  },
  {
   "cell_type": "code",
   "execution_count": 10,
   "id": "eb43b1ac",
   "metadata": {},
   "outputs": [
    {
     "data": {
      "text/plain": [
       "list"
      ]
     },
     "execution_count": 10,
     "metadata": {},
     "output_type": "execute_result"
    }
   ],
   "source": [
    "# List.\n",
    "type([1, 2, 3])"
   ]
  },
  {
   "cell_type": "code",
   "execution_count": 11,
   "id": "15e0176a",
   "metadata": {},
   "outputs": [
    {
     "data": {
      "text/plain": [
       "(1, 2, 3)"
      ]
     },
     "execution_count": 11,
     "metadata": {},
     "output_type": "execute_result"
    }
   ],
   "source": [
    "# Tuple. \n",
    "(1, 2, 3)"
   ]
  },
  {
   "cell_type": "code",
   "execution_count": 12,
   "id": "09ce36c9",
   "metadata": {},
   "outputs": [
    {
     "data": {
      "text/plain": [
       "tuple"
      ]
     },
     "execution_count": 12,
     "metadata": {},
     "output_type": "execute_result"
    }
   ],
   "source": [
    "# Tuple.\n",
    "type(( 1, 2, 3))"
   ]
  },
  {
   "cell_type": "code",
   "execution_count": 13,
   "id": "5488dc85",
   "metadata": {},
   "outputs": [],
   "source": [
    "# Create a list.\n",
    "l = [1, 2, 3]"
   ]
  },
  {
   "cell_type": "code",
   "execution_count": 14,
   "id": "fa53114d",
   "metadata": {},
   "outputs": [],
   "source": [
    "# Reassign an element.\n",
    "l[1] = 4"
   ]
  },
  {
   "cell_type": "code",
   "execution_count": 15,
   "id": "d882dfb4",
   "metadata": {},
   "outputs": [
    {
     "data": {
      "text/plain": [
       "[1, 4, 3]"
      ]
     },
     "execution_count": 15,
     "metadata": {},
     "output_type": "execute_result"
    }
   ],
   "source": [
    "# The element is reassigned.\n",
    "l"
   ]
  },
  {
   "cell_type": "code",
   "execution_count": 16,
   "id": "1b8f2745",
   "metadata": {},
   "outputs": [],
   "source": [
    "# Create a tuple.\n",
    "t = (1, 2, 3)"
   ]
  },
  {
   "cell_type": "code",
   "execution_count": 17,
   "id": "0d428e5b",
   "metadata": {},
   "outputs": [],
   "source": [
    "# Try to reassign an element.\n",
    "# t[1] = 4"
   ]
  },
  {
   "cell_type": "code",
   "execution_count": 18,
   "id": "5c8f5ab0",
   "metadata": {},
   "outputs": [],
   "source": [
    "# Can't hash a list.\n",
    "# hash(l)\n",
    "# Gives an error."
   ]
  },
  {
   "cell_type": "code",
   "execution_count": 19,
   "id": "00b775ae",
   "metadata": {},
   "outputs": [
    {
     "data": {
      "text/plain": [
       "529344067295497451"
      ]
     },
     "execution_count": 19,
     "metadata": {},
     "output_type": "execute_result"
    }
   ],
   "source": [
    "# Can hash a tuple.\n",
    "hash(t)"
   ]
  },
  {
   "cell_type": "code",
   "execution_count": 20,
   "id": "d4765b2a",
   "metadata": {},
   "outputs": [
    {
     "data": {
      "text/plain": [
       "'0x7589b9fe71bcceb'"
      ]
     },
     "execution_count": 20,
     "metadata": {},
     "output_type": "execute_result"
    }
   ],
   "source": [
    "# Usual output from a hash function is in hex.\n",
    "hex(hash(t))"
   ]
  },
  {
   "cell_type": "code",
   "execution_count": 21,
   "id": "f17e01a7",
   "metadata": {},
   "outputs": [
    {
     "data": {
      "text/plain": [
       "3"
      ]
     },
     "execution_count": 21,
     "metadata": {},
     "output_type": "execute_result"
    }
   ],
   "source": [
    "# You can use tuples as dictionary keys.\n",
    "D = {(1, 2, 3): 3, (1, 2): 2}\n",
    "D[(1, 2, 3)]"
   ]
  },
  {
   "cell_type": "code",
   "execution_count": 22,
   "id": "451eb4b0",
   "metadata": {},
   "outputs": [],
   "source": [
    "# You can't use lists as dictionary keys.\n",
    "# = {[1, 2, 3]: 3, [1, 2]: 2}"
   ]
  },
  {
   "cell_type": "code",
   "execution_count": 23,
   "id": "5953386a",
   "metadata": {},
   "outputs": [],
   "source": [
    "# Tuples can be used for assignment - you don't have to use round brackets.\n",
    "a, b = 1, 2"
   ]
  },
  {
   "cell_type": "code",
   "execution_count": 24,
   "id": "a570075e",
   "metadata": {},
   "outputs": [
    {
     "data": {
      "text/plain": [
       "1"
      ]
     },
     "execution_count": 24,
     "metadata": {},
     "output_type": "execute_result"
    }
   ],
   "source": [
    "a"
   ]
  },
  {
   "cell_type": "code",
   "execution_count": 25,
   "id": "9f1f9f30",
   "metadata": {},
   "outputs": [
    {
     "data": {
      "text/plain": [
       "2"
      ]
     },
     "execution_count": 25,
     "metadata": {},
     "output_type": "execute_result"
    }
   ],
   "source": [
    "b"
   ]
  },
  {
   "cell_type": "code",
   "execution_count": 26,
   "id": "30e3605c",
   "metadata": {},
   "outputs": [
    {
     "data": {
      "text/plain": [
       "{1, 2, 3}"
      ]
     },
     "execution_count": 26,
     "metadata": {},
     "output_type": "execute_result"
    }
   ],
   "source": [
    "# Some contexts require the round brackets.\n",
    "set((1, 2, 3))"
   ]
  },
  {
   "cell_type": "markdown",
   "id": "8af26ce8",
   "metadata": {},
   "source": [
    "<br>\n",
    "\n",
    "## The Problem\n",
    "\n",
    "***"
   ]
  },
  {
   "cell_type": "code",
   "execution_count": 27,
   "id": "2e8a97b7",
   "metadata": {},
   "outputs": [],
   "source": [
    "A = ['a', 'b']"
   ]
  },
  {
   "cell_type": "code",
   "execution_count": 28,
   "id": "cc99feef",
   "metadata": {},
   "outputs": [],
   "source": [
    "# First List.\n",
    "L1 = ['a', 'ab', 'bba']"
   ]
  },
  {
   "cell_type": "code",
   "execution_count": 29,
   "id": "a2f6a871",
   "metadata": {},
   "outputs": [
    {
     "data": {
      "text/plain": [
       "['a', 'ab', 'bba']"
      ]
     },
     "execution_count": 29,
     "metadata": {},
     "output_type": "execute_result"
    }
   ],
   "source": [
    "L1"
   ]
  },
  {
   "cell_type": "code",
   "execution_count": 30,
   "id": "8df3d777",
   "metadata": {},
   "outputs": [],
   "source": [
    "# Second list.\n",
    "L2 = ['baa', 'aa', 'bb']"
   ]
  },
  {
   "cell_type": "code",
   "execution_count": 31,
   "id": "cd7261db",
   "metadata": {},
   "outputs": [
    {
     "data": {
      "text/plain": [
       "['baa', 'aa', 'bb']"
      ]
     },
     "execution_count": 31,
     "metadata": {},
     "output_type": "execute_result"
    }
   ],
   "source": [
    "L2"
   ]
  },
  {
   "cell_type": "code",
   "execution_count": 32,
   "id": "af0bd0ef",
   "metadata": {},
   "outputs": [],
   "source": [
    "# A proposed solution.\n",
    "S = [2, 1, 2, 0]"
   ]
  },
  {
   "cell_type": "code",
   "execution_count": 33,
   "id": "7ca3762a",
   "metadata": {},
   "outputs": [],
   "source": [
    "# Apply the proposed solution to a tuple.\n",
    "def apply(S, L):\n",
    "    S_on_L = [''.join(L[i]) for i in S]\n",
    "    return ''.join(S_on_L)"
   ]
  },
  {
   "cell_type": "code",
   "execution_count": 34,
   "id": "ed15f722",
   "metadata": {},
   "outputs": [
    {
     "data": {
      "text/plain": [
       "'bbaabbbaa'"
      ]
     },
     "execution_count": 34,
     "metadata": {},
     "output_type": "execute_result"
    }
   ],
   "source": [
    "# Apply S to L1.\n",
    "apply(S, L1)"
   ]
  },
  {
   "cell_type": "code",
   "execution_count": 35,
   "id": "e9a70122",
   "metadata": {},
   "outputs": [
    {
     "data": {
      "text/plain": [
       "'bbaabbbaa'"
      ]
     },
     "execution_count": 35,
     "metadata": {},
     "output_type": "execute_result"
    }
   ],
   "source": [
    "# Apply S to L2.\n",
    "apply(S, L2)"
   ]
  },
  {
   "cell_type": "code",
   "execution_count": 36,
   "id": "257bb9f8",
   "metadata": {},
   "outputs": [
    {
     "data": {
      "text/plain": [
       "True"
      ]
     },
     "execution_count": 36,
     "metadata": {},
     "output_type": "execute_result"
    }
   ],
   "source": [
    "# Get Python to check if the proposed solution is a solution.\n",
    "apply(S, L1) == apply(S, L2)"
   ]
  },
  {
   "cell_type": "code",
   "execution_count": 37,
   "id": "0dca9613",
   "metadata": {},
   "outputs": [
    {
     "data": {
      "text/plain": [
       "'bbaabbbaabbaabbbaa'"
      ]
     },
     "execution_count": 37,
     "metadata": {},
     "output_type": "execute_result"
    }
   ],
   "source": [
    "# Another solution - there are infinitely many.\n",
    "apply((2, 1, 2, 0, 2, 1, 2, 0), L1)"
   ]
  },
  {
   "cell_type": "code",
   "execution_count": 38,
   "id": "5b43706f",
   "metadata": {},
   "outputs": [
    {
     "data": {
      "text/plain": [
       "'bbaabbbaabbaabbbaa'"
      ]
     },
     "execution_count": 38,
     "metadata": {},
     "output_type": "execute_result"
    }
   ],
   "source": [
    "apply((2, 1, 2, 0, 2, 1, 2, 0), L2)"
   ]
  },
  {
   "cell_type": "markdown",
   "id": "5ae0ee1a",
   "metadata": {},
   "source": [
    "<br>\n",
    "\n",
    "## No Correspondence\n",
    "\n",
    "Created two new lists *L3* and *L4* to show that the lists don't correspond.\n",
    "\n",
    "***"
   ]
  },
  {
   "cell_type": "code",
   "execution_count": 39,
   "id": "f6193736",
   "metadata": {},
   "outputs": [],
   "source": [
    "# List 1.\n",
    "L3 = ['ab', 'bba']"
   ]
  },
  {
   "cell_type": "code",
   "execution_count": 40,
   "id": "1e7aedcc",
   "metadata": {},
   "outputs": [],
   "source": [
    "# List 2.\n",
    "L4 = ['aa', 'bb']"
   ]
  },
  {
   "cell_type": "code",
   "execution_count": 41,
   "id": "d8a645fd",
   "metadata": {},
   "outputs": [
    {
     "data": {
      "text/plain": [
       "[2, 1, 2, 0]"
      ]
     },
     "execution_count": 41,
     "metadata": {},
     "output_type": "execute_result"
    }
   ],
   "source": [
    "S"
   ]
  },
  {
   "cell_type": "markdown",
   "id": "8ba23820",
   "metadata": {},
   "source": [
    "$$ (L_1, L_2) \\rightarrow \\{True, False\\} \\qquad |L_1| = |L_2| $$"
   ]
  },
  {
   "cell_type": "markdown",
   "id": "7d6cbdac",
   "metadata": {},
   "source": [
    "## Bounded PCP\n",
    "\n",
    "Bounded Post Correspondence Problem is one of the most important variants of [Post Correspondence Problem](https://en.wikipedia.org/wiki/Post_correspondence_problem). If we can find a match using no more than k tiles, including repeated tiles, the problem can be solved using brute force search which solves the problem in time $O\\left ( 2^{k} \\right )$. However, the problem is NP-complete, so it is difficult to improve.\n",
    "\n",
    "The [NP-complete](https://en.wikipedia.org/wiki/NP-completeness) stands for nondeterministic polynomial-time complete. The term nondeterministic refers to nondeterministic Turing machines, a way of formalizing the idea of a brute-force search algorithm mathematically. A polynomial time can be defined as the amount of time needed for deterministic algorithms to check a solution for deterministic Turing machines to perform the search. The term complete refers to simulatimg everything in the same complexity class.\n",
    "\n",
    "![Countdown logo](https://upload.wikimedia.org/wikipedia/commons/thumb/a/a0/P_np_np-complete_np-hard.svg/640px-P_np_np-complete_np-hard.svg.png)\n",
    "\n",
    "The left side of the diagram is valid under the assumption that $P\\neq NP$ and the right side is valid under the assumption that $P=NP$.\n",
    "***"
   ]
  },
  {
   "cell_type": "markdown",
   "id": "f687bf38",
   "metadata": {},
   "source": [
    "$$ |S| \\leq K \\qquad \\in \\mathbb{N} $$"
   ]
  },
  {
   "cell_type": "code",
   "execution_count": 42,
   "id": "d2435ff3",
   "metadata": {},
   "outputs": [],
   "source": [
    "# A very useful module in the Python standard library\n",
    "from itertools import product"
   ]
  },
  {
   "cell_type": "markdown",
   "id": "ef350dc7",
   "metadata": {},
   "source": [
    "### Cartesian Product\n",
    "\n",
    "https://en.wikipedia.org/wiki/Cartesian_product\n",
    "\n",
    "A Cartesian product is a set that is constructed from two sets and contains all pairs of elements of the sets. One element of the pair comes from the first set and the other from the second set."
   ]
  },
  {
   "cell_type": "code",
   "execution_count": 43,
   "id": "897c77ee",
   "metadata": {},
   "outputs": [],
   "source": [
    "def cartesian_product(L, K):\n",
    "    L1 = []\n",
    "    # Find the cartesian product of a list.\n",
    "    for i in range(1, K + 1):\n",
    "        for roll in product(L, repeat = i):\n",
    "            joined_roll = ''.join(roll)\n",
    "            L1.append(joined_roll)\n",
    "    return L1  "
   ]
  },
  {
   "cell_type": "code",
   "execution_count": 44,
   "id": "0939e862",
   "metadata": {},
   "outputs": [],
   "source": [
    "def bpcp_solver(L1, L2, K):\n",
    "    for x in cartesian_product(L1, K):\n",
    "        for y in cartesian_product(L2, K):\n",
    "            if x == y:\n",
    "                return True           \n",
    "    return False "
   ]
  },
  {
   "cell_type": "markdown",
   "id": "9ab3c3c4",
   "metadata": {},
   "source": [
    "Correspondence for lists *L1* and *L2*."
   ]
  },
  {
   "cell_type": "code",
   "execution_count": 45,
   "id": "93cb461b",
   "metadata": {},
   "outputs": [
    {
     "name": "stdout",
     "output_type": "stream",
     "text": [
      "False\n"
     ]
    }
   ],
   "source": [
    "print(bpcp_solver(L1, L2, 1))"
   ]
  },
  {
   "cell_type": "code",
   "execution_count": 46,
   "id": "dcf15449",
   "metadata": {},
   "outputs": [
    {
     "name": "stdout",
     "output_type": "stream",
     "text": [
      "True\n"
     ]
    }
   ],
   "source": [
    "print(bpcp_solver(L1, L2, 2))"
   ]
  },
  {
   "cell_type": "code",
   "execution_count": 47,
   "id": "4b79d2d3",
   "metadata": {},
   "outputs": [
    {
     "name": "stdout",
     "output_type": "stream",
     "text": [
      "True\n"
     ]
    }
   ],
   "source": [
    "print(bpcp_solver(L1, L2, 3))"
   ]
  },
  {
   "cell_type": "markdown",
   "id": "1417aaac",
   "metadata": {},
   "source": [
    "No correspondence for lists *L3* and *L4*."
   ]
  },
  {
   "cell_type": "code",
   "execution_count": 48,
   "id": "99b9ab80",
   "metadata": {},
   "outputs": [
    {
     "name": "stdout",
     "output_type": "stream",
     "text": [
      "False\n"
     ]
    }
   ],
   "source": [
    "print(bpcp_solver(L3, L4, 2))"
   ]
  },
  {
   "cell_type": "markdown",
   "id": "0d73d7b1",
   "metadata": {},
   "source": [
    "***\n",
    "\n",
    "## End"
   ]
  }
 ],
 "metadata": {
  "kernelspec": {
   "display_name": "Python 3",
   "language": "python",
   "name": "python3"
  },
  "language_info": {
   "codemirror_mode": {
    "name": "ipython",
    "version": 3
   },
   "file_extension": ".py",
   "mimetype": "text/x-python",
   "name": "python",
   "nbconvert_exporter": "python",
   "pygments_lexer": "ipython3",
   "version": "3.8.8"
  }
 },
 "nbformat": 4,
 "nbformat_minor": 5
}
