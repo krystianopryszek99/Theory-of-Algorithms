{
 "cells": [
  {
   "cell_type": "markdown",
   "id": "ad72df42",
   "metadata": {},
   "source": [
    "# Computing with the Integers\n",
    "\n",
    "***"
   ]
  },
  {
   "cell_type": "code",
   "execution_count": 1,
   "id": "e7050766",
   "metadata": {},
   "outputs": [],
   "source": [
    "def double(i):\n",
    "    return 2 * i"
   ]
  },
  {
   "cell_type": "code",
   "execution_count": 2,
   "id": "c1f4d574",
   "metadata": {},
   "outputs": [],
   "source": [
    "eg_list_of_inputs = [-9, -8, -7, -6, -5, -4, -3, -2, -1, 0, 1, 2, 3, 4, 5, 6, 7, 8, 9]"
   ]
  },
  {
   "cell_type": "code",
   "execution_count": 3,
   "id": "d82a9cb0",
   "metadata": {},
   "outputs": [
    {
     "data": {
      "text/plain": [
       "[-18, -16, -14, -12, -10, -8, -6, -4, -2, 0, 2, 4, 6, 8, 10, 12, 14, 16, 18]"
      ]
     },
     "execution_count": 3,
     "metadata": {},
     "output_type": "execute_result"
    }
   ],
   "source": [
    "eg_list_of_outputs = list(map(double, eg_list_of_inputs))\n",
    "eg_list_of_outputs"
   ]
  },
  {
   "cell_type": "code",
   "execution_count": 4,
   "id": "a99ab2a4",
   "metadata": {},
   "outputs": [
    {
     "name": "stdout",
     "output_type": "stream",
     "text": [
      " -9 -> -18\n",
      " -8 -> -16\n",
      " -7 -> -14\n",
      " -6 -> -12\n",
      " -5 -> -10\n",
      " -4 ->  -8\n",
      " -3 ->  -6\n",
      " -2 ->  -4\n",
      " -1 ->  -2\n",
      "  0 ->   0\n",
      "  1 ->   2\n",
      "  2 ->   4\n",
      "  3 ->   6\n",
      "  4 ->   8\n",
      "  5 ->  10\n",
      "  6 ->  12\n",
      "  7 ->  14\n",
      "  8 ->  16\n",
      "  9 ->  18\n"
     ]
    }
   ],
   "source": [
    "for i in range(-9, 10):\n",
    "    print(f'{i:3} -> {double(i):3}')"
   ]
  },
  {
   "cell_type": "markdown",
   "id": "4334ee5c",
   "metadata": {},
   "source": [
    "<br>\n",
    "\n",
    "$ f: \\mathbb{Z} \\rightarrow 2 \\mathbb{Z} $\n",
    "\n",
    "$ \\mathbb{Z} = \\{ \\ldots, -2, -1, 0, 1, 2, \\ldots \\}$\n",
    "\n",
    "$ 2 \\mathbb{Z} = \\{ \\ldots, -2, 0, 2, \\ldots \\}$\n",
    "\n",
    "$ 2 \\mathbb{Z} \\subset \\mathbb{Z} $\n",
    "\n",
    "$ | \\mathbb{Z} | $ is $\\aleph_0$\n",
    "\n",
    "<br>"
   ]
  },
  {
   "cell_type": "markdown",
   "id": "3b9ee24d",
   "metadata": {},
   "source": [
    "# The Integers and Reals\n",
    "\n",
    "***"
   ]
  },
  {
   "cell_type": "markdown",
   "id": "d0434e9d",
   "metadata": {},
   "source": [
    "$ \\mathbb{N}_0 = \\{0, 1, 2, 3, \\ldots \\}$\n",
    "\n",
    "$ |\\mathbb{N}_0| $ is $\\aleph_0$\n",
    "\n",
    "$0 \\rightarrow 0$\n",
    "\n",
    "$1 \\rightarrow -1$\n",
    "\n",
    "$2 \\rightarrow 1$\n",
    "\n",
    "$3 \\rightarrow -2$\n",
    "\n",
    "$4 \\rightarrow 2$\n",
    "\n",
    "$\\ldots$"
   ]
  },
  {
   "cell_type": "code",
   "execution_count": 5,
   "id": "264a01b9",
   "metadata": {},
   "outputs": [
    {
     "name": "stdout",
     "output_type": "stream",
     "text": [
      " 0 -> 0.89294485624904351706...\n",
      " 1 -> 0.04028771323489177547...\n",
      " 2 -> 0.24925565454715359337...\n",
      " 3 -> 0.41441094787747811967...\n",
      " 4 -> 0.62873686132966988271...\n",
      " 5 -> 0.28302269533581370098...\n",
      " 6 -> 0.67642981517702738259...\n",
      " 7 -> 0.37428280375756883824...\n",
      " 8 -> 0.98322646595593810037...\n",
      " 9 -> 0.32000944401326991695...\n",
      "and so on\n"
     ]
    }
   ],
   "source": [
    "import random\n",
    "\n",
    "for n in range(10):\n",
    "    print(f'{n:2} -> {random.random():0.20f}...')\n",
    "print('and so on')   "
   ]
  },
  {
   "cell_type": "code",
   "execution_count": 6,
   "id": "686bff5d",
   "metadata": {},
   "outputs": [],
   "source": [
    "0.0663927917..."
   ]
  },
  {
   "cell_type": "markdown",
   "id": "502f90e3",
   "metadata": {},
   "source": [
    "$ \\mathbb{N}_0 = \\{0, 1, 2, 3, \\ldots \\}$\n",
    "\n",
    "$ \\mathbf{P}(\\mathbb{N}_0) = \\{ \\{\\}, \\{0\\}, \\{1\\}, \\{2\\}, \\{3\\}, \\ldots \\{0,1\\}  \\ldots \\}$\n",
    "\n",
    "$ |\\mathbb{P}(\\mathbb{N}_0)| $ is $\\aleph_1$"
   ]
  }
 ],
 "metadata": {
  "kernelspec": {
   "display_name": "Python 3",
   "language": "python",
   "name": "python3"
  },
  "language_info": {
   "codemirror_mode": {
    "name": "ipython",
    "version": 3
   },
   "file_extension": ".py",
   "mimetype": "text/x-python",
   "name": "python",
   "nbconvert_exporter": "python",
   "pygments_lexer": "ipython3",
   "version": "3.8.8"
  }
 },
 "nbformat": 4,
 "nbformat_minor": 5
}
