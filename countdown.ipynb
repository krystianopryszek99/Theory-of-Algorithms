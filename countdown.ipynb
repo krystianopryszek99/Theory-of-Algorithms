{
 "cells": [
  {
   "cell_type": "markdown",
   "id": "b4a5f405",
   "metadata": {},
   "source": [
    "# Countdown Numbers Game\n",
    "\n",
    "https://en.wikipedia.org/wiki/Countdown_(game_show)\n",
    "\n",
    "***"
   ]
  }
 ],
 "metadata": {
  "kernelspec": {
   "display_name": "Python 3",
   "language": "python",
   "name": "python3"
  },
  "language_info": {
   "codemirror_mode": {
    "name": "ipython",
    "version": 3
   },
   "file_extension": ".py",
   "mimetype": "text/x-python",
   "name": "python",
   "nbconvert_exporter": "python",
   "pygments_lexer": "ipython3",
   "version": "3.8.8"
  }
 },
 "nbformat": 4,
 "nbformat_minor": 5
}
