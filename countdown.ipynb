{
 "cells": [
  {
   "cell_type": "markdown",
   "id": "b4a5f405",
   "metadata": {},
   "source": [
    "![Countdown logo](https://datagenetics.com/blog/august32014/title.png)\n",
    "\n",
    "# Countdown Numbers Game\n",
    "\n",
    "https://en.wikipedia.org/wiki/Countdown_(game_show)\n",
    "\n",
    "***"
   ]
  },
  {
   "cell_type": "markdown",
   "id": "f2bb6151",
   "metadata": {},
   "source": [
    "## Overview\n",
    "\n",
    "The countdown numbers game is a popular puzzle which is played as a two player game. It is a long running game, of letters and numbers [[2]](#References).  \n",
    "\n",
    "The contestant selects six of the 24 numbers which are arranged in two groups, small and large numbers [[1]](#References). The small numbers are 1 to 10 which each appear twice and the large numbers are 25, 50, 75 and 100. The contestant has the freedom to select how many large numbers to use, the remaining four are randomly selected from the 20 small numbers. A random three digit number is then selected as a target number. The contestant role is to use four basic mathematical operations on the six number to hit the target number in 30 seconds.\n",
    "\n",
    "### Rules\n",
    "\n",
    "The rules for the Countdown numbers game are as follows: [[3]](#References)\n",
    "\n",
    "- Six numbers are selected from the 24 shuffled numbers.\n",
    "- One of the contestant can select how many large numbers to use, between none and 4.\n",
    "- A random 3 digit target number gets generated.\n",
    "- Only 4 mathematical operations are allowed: [$+$, $-$, $\\times$, $\\div$]\n",
    "- The contestant has 30 seconds to get to the generated target number.\n",
    "- Digits cannot be concatenated (you can't use a \"5\" and a \"5\" to make \"55\").\n",
    "- Fractions are not allowed.\n",
    "\n",
    "### Points\n",
    "\n",
    "The points are awarded to the contestant who is the closest to the target number [[3]](#References). The points are awarded as follows:\n",
    "\n",
    "- 10 points for reaching the target number exactly.\n",
    "- 7 points for being within a distance of 1 to 5 from the target number.\n",
    "- 5 points for being within a distance of 6 to 10 from the target number.\n",
    "- 0 if the contestant is being more than 10 away.\n",
    "\n",
    "### Example\n",
    "\n",
    "A contestant selects 2 large numbers 75 and 50, and the rest are randomly selected small numbers.\n",
    "\n",
    "$[75, 50, 2, 3, 8, 7]$\n",
    "\n",
    "The random target number is: \n",
    "\n",
    "$812$\n",
    "\n",
    "There is a number of ways to solve this:\n",
    "\n",
    "$((50 + 8) \\times 7) \\times 2 = 812$\n",
    "\n",
    "and least intuitive solution:\n",
    "\n",
    "$((((75 \\div 3) + 8) \\times 2) + 50) \\times 7 = 812$"
   ]
  },
  {
   "cell_type": "markdown",
   "id": "f755834b",
   "metadata": {},
   "source": [
    "## Discussion of the complexity of the Countdown Numbers Game\n",
    "\n",
    "It is a challenge for a human to work through all of the possible combinations of the numbers and operations to reach the target number. For the 6 drawn numbers there are 13243 possible combinations of numbers that can be selected [[6]](#References). Giving the target number 100 to 899, there are 11,905,457 solutions.\n",
    "\n",
    "*possible combinations * target number (100-999)*\n",
    "\n",
    "$13243 * 899 = 11905457$\n",
    "\n",
    "Presuming there are 900 possible target numbers (100 to 999 inclusive), there are 11,918,700 distinct solutions. There is an issue with 100 being selected as a target number. \n",
    "\n",
    "*possible combinations * target number (100-999)*\n",
    "\n",
    "$13243 * 900 = 11918700$\n",
    "\n",
    "Based on Jean-Marc Alliot's article [[2]](#References), target number 102, 104 and 108 are the easiest numbers to find, discovered by 13240 instances (99.98%). The most difficult target number to find is 947, which is only found by 9017 instances (68%). For the set of numbers *{1, 1, 2, 2, 3, 3}* it is impossible to make any target solution. \n",
    "\n",
    "***"
   ]
  },
  {
   "cell_type": "code",
   "execution_count": 1,
   "id": "a06b10c4",
   "metadata": {},
   "outputs": [],
   "source": [
    "# Permutations and combinations.\n",
    "import itertools as it"
   ]
  },
  {
   "cell_type": "code",
   "execution_count": 2,
   "id": "bc996994",
   "metadata": {},
   "outputs": [],
   "source": [
    "# Random number generation.\n",
    "import random"
   ]
  },
  {
   "cell_type": "code",
   "execution_count": 3,
   "id": "ba6def2e",
   "metadata": {},
   "outputs": [],
   "source": [
    "# Operators as functions.\n",
    "import operator"
   ]
  },
  {
   "cell_type": "markdown",
   "id": "493370c2",
   "metadata": {},
   "source": [
    "## Simulate a game \n",
    "\n",
    "***"
   ]
  },
  {
   "cell_type": "code",
   "execution_count": 4,
   "id": "82d16473",
   "metadata": {},
   "outputs": [
    {
     "data": {
      "text/plain": [
       "[25, 50, 75, 100]"
      ]
     },
     "execution_count": 4,
     "metadata": {},
     "output_type": "execute_result"
    }
   ],
   "source": [
    "# The large numbers.\n",
    "large = [25, 50, 75, 100]\n",
    "large"
   ]
  },
  {
   "cell_type": "code",
   "execution_count": 5,
   "id": "cb1f78b2",
   "metadata": {},
   "outputs": [
    {
     "data": {
      "text/plain": [
       "[1, 2, 3, 4, 5, 6, 7, 8, 9, 10, 1, 2, 3, 4, 5, 6, 7, 8, 9, 10]"
      ]
     },
     "execution_count": 5,
     "metadata": {},
     "output_type": "execute_result"
    }
   ],
   "source": [
    "# The small numbers.\n",
    "small = list(range(1, 11)) * 2\n",
    "small"
   ]
  },
  {
   "cell_type": "code",
   "execution_count": 6,
   "id": "ddb21b55",
   "metadata": {},
   "outputs": [
    {
     "data": {
      "text/plain": [
       "4"
      ]
     },
     "execution_count": 6,
     "metadata": {},
     "output_type": "execute_result"
    }
   ],
   "source": [
    "# The number of large numbers to pick - between 0 and 4 inclusive.\n",
    "no_large = random.randrange(0, 5)\n",
    "no_large"
   ]
  },
  {
   "cell_type": "code",
   "execution_count": 7,
   "id": "b3a6cdcc",
   "metadata": {},
   "outputs": [
    {
     "data": {
      "text/plain": [
       "[75, 25, 100, 50]"
      ]
     },
     "execution_count": 7,
     "metadata": {},
     "output_type": "execute_result"
    }
   ],
   "source": [
    "# Select no_large large numbers at random.\n",
    "large_rand = random.sample(large, no_large)\n",
    "large_rand"
   ]
  },
  {
   "cell_type": "code",
   "execution_count": 8,
   "id": "1462512f",
   "metadata": {},
   "outputs": [
    {
     "data": {
      "text/plain": [
       "[4, 10]"
      ]
     },
     "execution_count": 8,
     "metadata": {},
     "output_type": "execute_result"
    }
   ],
   "source": [
    "# Select (6 - no_large) small numbers at random.\n",
    "small_rand = random.sample(small, 6 - no_large)\n",
    "small_rand"
   ]
  },
  {
   "cell_type": "code",
   "execution_count": 9,
   "id": "cca9528f",
   "metadata": {},
   "outputs": [
    {
     "data": {
      "text/plain": [
       "[75, 25, 100, 50, 4, 10]"
      ]
     },
     "execution_count": 9,
     "metadata": {},
     "output_type": "execute_result"
    }
   ],
   "source": [
    "# The six random numbers in a list.\n",
    "play_nos = large_rand + small_rand\n",
    "play_nos"
   ]
  },
  {
   "cell_type": "code",
   "execution_count": 10,
   "id": "912dcbb8",
   "metadata": {},
   "outputs": [
    {
     "data": {
      "text/plain": [
       "303"
      ]
     },
     "execution_count": 10,
     "metadata": {},
     "output_type": "execute_result"
    }
   ],
   "source": [
    "# Pick a random target number.\n",
    "target = random.randrange(101, 1000)\n",
    "target"
   ]
  },
  {
   "cell_type": "code",
   "execution_count": 11,
   "id": "a402e0a3",
   "metadata": {},
   "outputs": [],
   "source": [
    "# For random numbers and samples.\n",
    "import random\n",
    "\n",
    "def new_numbers_game(no_large=None):\n",
    "    \"\"\" Returns six numbers and a target number representing a Countdown numbers game.\n",
    "    \"\"\"\n",
    "    # If no_large in None, randomly pick value between 0 and 4 inclusive.\n",
    "    if no_large is None:\n",
    "        # Randomly set the value.\n",
    "        no_large = random.randrange(0, 5)\n",
    "    \n",
    "    # Select random large numbers.\n",
    "    large_rand = random.sample([25, 50, 75, 100], no_large)\n",
    "    # select random small numbers.\n",
    "    small_rand = random.sample(list(range(1, 11)) * 2, 6 - no_large)\n",
    "    # The playing numbers.\n",
    "    play_nos = large_rand + small_rand\n",
    "    \n",
    "    # Select a target number.\n",
    "    target = random.randrange(101, 1000)\n",
    "    \n",
    "    # Return the game.\n",
    "    return play_nos, target"
   ]
  },
  {
   "cell_type": "code",
   "execution_count": 12,
   "id": "7933ddfc",
   "metadata": {},
   "outputs": [
    {
     "data": {
      "text/plain": [
       "([100, 50, 75, 1, 1, 6], 332)"
      ]
     },
     "execution_count": 12,
     "metadata": {},
     "output_type": "execute_result"
    }
   ],
   "source": [
    "# Random numbers game.\n",
    "new_numbers_game()"
   ]
  },
  {
   "cell_type": "markdown",
   "id": "887f14df",
   "metadata": {},
   "source": [
    "## Working towards a solution\n",
    "\n",
    "***"
   ]
  },
  {
   "cell_type": "code",
   "execution_count": 13,
   "id": "6b495c06",
   "metadata": {},
   "outputs": [
    {
     "data": {
      "text/plain": [
       "([1, 9, 10, 7, 3, 3], 939)"
      ]
     },
     "execution_count": 13,
     "metadata": {},
     "output_type": "execute_result"
    }
   ],
   "source": [
    "# A new example game.\n",
    "play_nos, target = new_numbers_game()\n",
    "play_nos, target "
   ]
  },
  {
   "cell_type": "code",
   "execution_count": 14,
   "id": "87d5c667",
   "metadata": {},
   "outputs": [
    {
     "name": "stdout",
     "output_type": "stream",
     "text": [
      "(1, 9)\n",
      "1 + 9 = 10\n",
      "1 * 9 = 9\n",
      "\n",
      "(1, 10)\n",
      "1 + 10 = 11\n",
      "1 * 10 = 10\n",
      "\n",
      "(1, 7)\n",
      "1 + 7 = 8\n",
      "1 * 7 = 7\n",
      "\n",
      "(1, 3)\n",
      "1 + 3 = 4\n",
      "1 * 3 = 3\n",
      "\n",
      "(1, 3)\n",
      "1 + 3 = 4\n",
      "1 * 3 = 3\n",
      "\n",
      "(9, 1)\n",
      "9 + 1 = 10\n",
      "9 * 1 = 9\n",
      "9 - 1 = 8\n",
      "9 / 1 = 9\n",
      "\n",
      "(9, 10)\n",
      "9 + 10 = 19\n",
      "9 * 10 = 90\n",
      "\n",
      "(9, 7)\n",
      "9 + 7 = 16\n",
      "9 * 7 = 63\n",
      "9 - 7 = 2\n",
      "\n",
      "(9, 3)\n",
      "9 + 3 = 12\n",
      "9 * 3 = 27\n",
      "9 - 3 = 6\n",
      "9 / 3 = 3\n",
      "\n",
      "(9, 3)\n",
      "9 + 3 = 12\n",
      "9 * 3 = 27\n",
      "9 - 3 = 6\n",
      "9 / 3 = 3\n",
      "\n",
      "(10, 1)\n",
      "10 + 1 = 11\n",
      "10 * 1 = 10\n",
      "10 - 1 = 9\n",
      "10 / 1 = 10\n",
      "\n",
      "(10, 9)\n",
      "10 + 9 = 19\n",
      "10 * 9 = 90\n",
      "10 - 9 = 1\n",
      "\n",
      "(10, 7)\n",
      "10 + 7 = 17\n",
      "10 * 7 = 70\n",
      "10 - 7 = 3\n",
      "\n",
      "(10, 3)\n",
      "10 + 3 = 13\n",
      "10 * 3 = 30\n",
      "10 - 3 = 7\n",
      "\n",
      "(10, 3)\n",
      "10 + 3 = 13\n",
      "10 * 3 = 30\n",
      "10 - 3 = 7\n",
      "\n",
      "(7, 1)\n",
      "7 + 1 = 8\n",
      "7 * 1 = 7\n",
      "7 - 1 = 6\n",
      "7 / 1 = 7\n",
      "\n",
      "(7, 9)\n",
      "7 + 9 = 16\n",
      "7 * 9 = 63\n",
      "\n",
      "(7, 10)\n",
      "7 + 10 = 17\n",
      "7 * 10 = 70\n",
      "\n",
      "(7, 3)\n",
      "7 + 3 = 10\n",
      "7 * 3 = 21\n",
      "7 - 3 = 4\n",
      "\n",
      "(7, 3)\n",
      "7 + 3 = 10\n",
      "7 * 3 = 21\n",
      "7 - 3 = 4\n",
      "\n",
      "(3, 1)\n",
      "3 + 1 = 4\n",
      "3 * 1 = 3\n",
      "3 - 1 = 2\n",
      "3 / 1 = 3\n",
      "\n",
      "(3, 9)\n",
      "3 + 9 = 12\n",
      "3 * 9 = 27\n",
      "\n",
      "(3, 10)\n",
      "3 + 10 = 13\n",
      "3 * 10 = 30\n",
      "\n",
      "(3, 7)\n",
      "3 + 7 = 10\n",
      "3 * 7 = 21\n",
      "\n",
      "(3, 3)\n",
      "3 + 3 = 6\n",
      "3 * 3 = 9\n",
      "3 / 3 = 1\n",
      "\n",
      "(3, 1)\n",
      "3 + 1 = 4\n",
      "3 * 1 = 3\n",
      "3 - 1 = 2\n",
      "3 / 1 = 3\n",
      "\n",
      "(3, 9)\n",
      "3 + 9 = 12\n",
      "3 * 9 = 27\n",
      "\n",
      "(3, 10)\n",
      "3 + 10 = 13\n",
      "3 * 10 = 30\n",
      "\n",
      "(3, 7)\n",
      "3 + 7 = 10\n",
      "3 * 7 = 21\n",
      "\n",
      "(3, 3)\n",
      "3 + 3 = 6\n",
      "3 * 3 = 9\n",
      "3 / 3 = 1\n",
      "\n"
     ]
    }
   ],
   "source": [
    "# Looping through all permutations of two playing numbers.\n",
    "for p in it.permutations(play_nos, 2):\n",
    "  # Print the two numbers.\n",
    "  print(p)\n",
    "  # Print their sum.\n",
    "  print(f'{p[0]} + {p[1]} = {p[0]+p[1]}')\n",
    "  # Print their product.\n",
    "  print(f'{p[0]} * {p[1]} = {p[0]*p[1]}')\n",
    "  # Print their difference if it is positive.\n",
    "  if p[0] - p[1] > 0:\n",
    "    print(f'{p[0]} - {p[1]} = {p[0]-p[1]}')\n",
    "  # Print their quotient if it is an integer.\n",
    "  if p[0] % p[1] == 0:\n",
    "    print(f'{p[0]} / {p[1]} = {p[0]//p[1]}')\n",
    "  # Print a blank line.\n",
    "  print()"
   ]
  },
  {
   "cell_type": "markdown",
   "id": "c83fd8e8",
   "metadata": {},
   "source": [
    "## Operators and Functions\n",
    "\n",
    "***"
   ]
  },
  {
   "cell_type": "code",
   "execution_count": 15,
   "id": "fb078835",
   "metadata": {},
   "outputs": [
    {
     "data": {
      "text/plain": [
       "9"
      ]
     },
     "execution_count": 15,
     "metadata": {},
     "output_type": "execute_result"
    }
   ],
   "source": [
    "# The + operator as a function.\n",
    "operator.add(4, 5)"
   ]
  },
  {
   "cell_type": "code",
   "execution_count": 16,
   "id": "b58ad727",
   "metadata": {},
   "outputs": [
    {
     "data": {
      "text/plain": [
       "20"
      ]
     },
     "execution_count": 16,
     "metadata": {},
     "output_type": "execute_result"
    }
   ],
   "source": [
    "# The * operator as a function.\n",
    "operator.mul(4, 5)"
   ]
  },
  {
   "cell_type": "code",
   "execution_count": 17,
   "id": "62c108e5",
   "metadata": {},
   "outputs": [
    {
     "data": {
      "text/plain": [
       "-1"
      ]
     },
     "execution_count": 17,
     "metadata": {},
     "output_type": "execute_result"
    }
   ],
   "source": [
    "# The - operator as a function.\n",
    "operator.sub(4, 5)"
   ]
  },
  {
   "cell_type": "code",
   "execution_count": 18,
   "id": "a9918351",
   "metadata": {},
   "outputs": [
    {
     "data": {
      "text/plain": [
       "0.8"
      ]
     },
     "execution_count": 18,
     "metadata": {},
     "output_type": "execute_result"
    }
   ],
   "source": [
    "# The / operator as a function.\n",
    "operator.truediv(4, 5)"
   ]
  },
  {
   "cell_type": "code",
   "execution_count": 19,
   "id": "fcc5f405",
   "metadata": {},
   "outputs": [
    {
     "data": {
      "text/plain": [
       "[<function _operator.add(a, b, /)>,\n",
       " <function _operator.mul(a, b, /)>,\n",
       " <function _operator.sub(a, b, /)>,\n",
       " <function _operator.truediv(a, b, /)>]"
      ]
     },
     "execution_count": 19,
     "metadata": {},
     "output_type": "execute_result"
    }
   ],
   "source": [
    "# The benefit of these is that they are first class objects.\n",
    "# Note the +, -, *, / operators can't be put in lists.\n",
    "ops = [operator.add, operator.mul, operator.sub, operator.truediv]\n",
    "ops"
   ]
  },
  {
   "cell_type": "code",
   "execution_count": 20,
   "id": "c63f6602",
   "metadata": {},
   "outputs": [
    {
     "name": "stdout",
     "output_type": "stream",
     "text": [
      "(<built-in function add>, <built-in function mul>, <built-in function sub>, <built-in function truediv>, <built-in function add>)\n",
      "(<built-in function add>, <built-in function mul>, <built-in function sub>, <built-in function truediv>, <built-in function mul>)\n",
      "(<built-in function add>, <built-in function mul>, <built-in function sub>, <built-in function truediv>, <built-in function sub>)\n",
      "(<built-in function add>, <built-in function mul>, <built-in function sub>, <built-in function truediv>, <built-in function truediv>)\n",
      "(<built-in function add>, <built-in function mul>, <built-in function sub>, <built-in function truediv>, <built-in function add>)\n",
      "(<built-in function add>, <built-in function mul>, <built-in function sub>, <built-in function truediv>, <built-in function mul>)\n",
      "(<built-in function add>, <built-in function mul>, <built-in function sub>, <built-in function truediv>, <built-in function sub>)\n",
      "(<built-in function add>, <built-in function mul>, <built-in function sub>, <built-in function truediv>, <built-in function truediv>)\n",
      "(<built-in function add>, <built-in function mul>, <built-in function sub>, <built-in function truediv>, <built-in function add>)\n",
      "(<built-in function add>, <built-in function mul>, <built-in function sub>, <built-in function truediv>, <built-in function mul>)\n"
     ]
    }
   ],
   "source": [
    "# Using permutations we can get all permutations with replacement of five operations.\n",
    "# We use a limit because their are a large number.\n",
    "limit = 10\n",
    "for q in it.permutations(ops * 5, 5):\n",
    "    if limit == 0:\n",
    "        break\n",
    "    print(q)\n",
    "    limit = limit -1"
   ]
  },
  {
   "cell_type": "markdown",
   "id": "bd1c6c89",
   "metadata": {},
   "source": [
    "## Permutations and Combinations\n",
    "\n",
    "***"
   ]
  },
  {
   "cell_type": "code",
   "execution_count": 21,
   "id": "bf3867b3",
   "metadata": {},
   "outputs": [
    {
     "name": "stdout",
     "output_type": "stream",
     "text": [
      "(1, 2)\n",
      "(1, 3)\n",
      "(1, 4)\n",
      "(2, 3)\n",
      "(2, 4)\n",
      "(3, 4)\n"
     ]
    }
   ],
   "source": [
    "# Example of combinations.\n",
    "# Order matters: no. Replacement: no.\n",
    "L = [1, 2, 3, 4]\n",
    "for c in it.combinations(L, 2):\n",
    "    print(c)"
   ]
  },
  {
   "cell_type": "code",
   "execution_count": 22,
   "id": "567ea948",
   "metadata": {},
   "outputs": [
    {
     "name": "stdout",
     "output_type": "stream",
     "text": [
      "(1, 1)\n",
      "(1, 2)\n",
      "(1, 3)\n",
      "(1, 4)\n",
      "(2, 2)\n",
      "(2, 3)\n",
      "(2, 4)\n",
      "(3, 3)\n",
      "(3, 4)\n",
      "(4, 4)\n"
     ]
    }
   ],
   "source": [
    "# Example of combinations with replacement.\n",
    "# Order matters: no. Replacement: yes.\n",
    "L = [1, 2, 3, 4]\n",
    "for c in it.combinations_with_replacement(L, 2):\n",
    "    print(c)"
   ]
  },
  {
   "cell_type": "code",
   "execution_count": 23,
   "id": "f4bba9ac",
   "metadata": {},
   "outputs": [
    {
     "name": "stdout",
     "output_type": "stream",
     "text": [
      "(1, 2)\n",
      "(1, 3)\n",
      "(1, 4)\n",
      "(2, 1)\n",
      "(2, 3)\n",
      "(2, 4)\n",
      "(3, 1)\n",
      "(3, 2)\n",
      "(3, 4)\n",
      "(4, 1)\n",
      "(4, 2)\n",
      "(4, 3)\n"
     ]
    }
   ],
   "source": [
    "# Example of permutations of size 2.\n",
    "# Order matters: yes. Replacement: no.\n",
    "L = [1, 2, 3, 4]\n",
    "for c in it.permutations(L, 2):\n",
    "    print(c)"
   ]
  },
  {
   "cell_type": "code",
   "execution_count": 24,
   "id": "ae3431d8",
   "metadata": {},
   "outputs": [
    {
     "name": "stdout",
     "output_type": "stream",
     "text": [
      "(1, 1)\n",
      "(1, 2)\n",
      "(1, 3)\n",
      "(1, 4)\n",
      "(2, 1)\n",
      "(2, 2)\n",
      "(2, 3)\n",
      "(2, 4)\n",
      "(3, 1)\n",
      "(3, 2)\n",
      "(3, 3)\n",
      "(3, 4)\n",
      "(4, 1)\n",
      "(4, 2)\n",
      "(4, 3)\n",
      "(4, 4)\n"
     ]
    }
   ],
   "source": [
    "# Example of products of length 2.\n",
    "# Order matters: yes. Replacement: yes.\n",
    "L = [1, 2, 3, 4]\n",
    "for c in it.product(L, repeat=2):\n",
    "    print(c)"
   ]
  },
  {
   "cell_type": "code",
   "execution_count": 25,
   "id": "18c7c798",
   "metadata": {},
   "outputs": [
    {
     "name": "stdout",
     "output_type": "stream",
     "text": [
      "(<built-in function add>, <built-in function add>, <built-in function add>, <built-in function add>, <built-in function add>)\n",
      "(<built-in function add>, <built-in function add>, <built-in function add>, <built-in function add>, <built-in function mul>)\n",
      "(<built-in function add>, <built-in function add>, <built-in function add>, <built-in function add>, <built-in function sub>)\n",
      "(<built-in function add>, <built-in function add>, <built-in function add>, <built-in function add>, <built-in function truediv>)\n",
      "(<built-in function add>, <built-in function add>, <built-in function add>, <built-in function mul>, <built-in function add>)\n",
      "(<built-in function add>, <built-in function add>, <built-in function add>, <built-in function mul>, <built-in function mul>)\n",
      "(<built-in function add>, <built-in function add>, <built-in function add>, <built-in function mul>, <built-in function sub>)\n",
      "(<built-in function add>, <built-in function add>, <built-in function add>, <built-in function mul>, <built-in function truediv>)\n",
      "(<built-in function add>, <built-in function add>, <built-in function add>, <built-in function sub>, <built-in function add>)\n",
      "(<built-in function add>, <built-in function add>, <built-in function add>, <built-in function sub>, <built-in function mul>)\n",
      "(<built-in function add>, <built-in function add>, <built-in function add>, <built-in function sub>, <built-in function sub>)\n",
      "(<built-in function add>, <built-in function add>, <built-in function add>, <built-in function sub>, <built-in function truediv>)\n",
      "(<built-in function add>, <built-in function add>, <built-in function add>, <built-in function truediv>, <built-in function add>)\n",
      "(<built-in function add>, <built-in function add>, <built-in function add>, <built-in function truediv>, <built-in function mul>)\n",
      "(<built-in function add>, <built-in function add>, <built-in function add>, <built-in function truediv>, <built-in function sub>)\n",
      "(<built-in function add>, <built-in function add>, <built-in function add>, <built-in function truediv>, <built-in function truediv>)\n",
      "(<built-in function add>, <built-in function add>, <built-in function mul>, <built-in function add>, <built-in function add>)\n",
      "(<built-in function add>, <built-in function add>, <built-in function mul>, <built-in function add>, <built-in function mul>)\n",
      "(<built-in function add>, <built-in function add>, <built-in function mul>, <built-in function add>, <built-in function sub>)\n",
      "(<built-in function add>, <built-in function add>, <built-in function mul>, <built-in function add>, <built-in function truediv>)\n",
      "(<built-in function add>, <built-in function add>, <built-in function mul>, <built-in function mul>, <built-in function add>)\n",
      "(<built-in function add>, <built-in function add>, <built-in function mul>, <built-in function mul>, <built-in function mul>)\n",
      "(<built-in function add>, <built-in function add>, <built-in function mul>, <built-in function mul>, <built-in function sub>)\n",
      "(<built-in function add>, <built-in function add>, <built-in function mul>, <built-in function mul>, <built-in function truediv>)\n",
      "(<built-in function add>, <built-in function add>, <built-in function mul>, <built-in function sub>, <built-in function add>)\n",
      "(<built-in function add>, <built-in function add>, <built-in function mul>, <built-in function sub>, <built-in function mul>)\n",
      "(<built-in function add>, <built-in function add>, <built-in function mul>, <built-in function sub>, <built-in function sub>)\n",
      "(<built-in function add>, <built-in function add>, <built-in function mul>, <built-in function sub>, <built-in function truediv>)\n",
      "(<built-in function add>, <built-in function add>, <built-in function mul>, <built-in function truediv>, <built-in function add>)\n",
      "(<built-in function add>, <built-in function add>, <built-in function mul>, <built-in function truediv>, <built-in function mul>)\n",
      "(<built-in function add>, <built-in function add>, <built-in function mul>, <built-in function truediv>, <built-in function sub>)\n",
      "(<built-in function add>, <built-in function add>, <built-in function mul>, <built-in function truediv>, <built-in function truediv>)\n",
      "(<built-in function add>, <built-in function add>, <built-in function sub>, <built-in function add>, <built-in function add>)\n",
      "(<built-in function add>, <built-in function add>, <built-in function sub>, <built-in function add>, <built-in function mul>)\n",
      "(<built-in function add>, <built-in function add>, <built-in function sub>, <built-in function add>, <built-in function sub>)\n",
      "(<built-in function add>, <built-in function add>, <built-in function sub>, <built-in function add>, <built-in function truediv>)\n",
      "(<built-in function add>, <built-in function add>, <built-in function sub>, <built-in function mul>, <built-in function add>)\n",
      "(<built-in function add>, <built-in function add>, <built-in function sub>, <built-in function mul>, <built-in function mul>)\n",
      "(<built-in function add>, <built-in function add>, <built-in function sub>, <built-in function mul>, <built-in function sub>)\n",
      "(<built-in function add>, <built-in function add>, <built-in function sub>, <built-in function mul>, <built-in function truediv>)\n",
      "(<built-in function add>, <built-in function add>, <built-in function sub>, <built-in function sub>, <built-in function add>)\n",
      "(<built-in function add>, <built-in function add>, <built-in function sub>, <built-in function sub>, <built-in function mul>)\n",
      "(<built-in function add>, <built-in function add>, <built-in function sub>, <built-in function sub>, <built-in function sub>)\n",
      "(<built-in function add>, <built-in function add>, <built-in function sub>, <built-in function sub>, <built-in function truediv>)\n",
      "(<built-in function add>, <built-in function add>, <built-in function sub>, <built-in function truediv>, <built-in function add>)\n",
      "(<built-in function add>, <built-in function add>, <built-in function sub>, <built-in function truediv>, <built-in function mul>)\n",
      "(<built-in function add>, <built-in function add>, <built-in function sub>, <built-in function truediv>, <built-in function sub>)\n",
      "(<built-in function add>, <built-in function add>, <built-in function sub>, <built-in function truediv>, <built-in function truediv>)\n",
      "(<built-in function add>, <built-in function add>, <built-in function truediv>, <built-in function add>, <built-in function add>)\n",
      "(<built-in function add>, <built-in function add>, <built-in function truediv>, <built-in function add>, <built-in function mul>)\n",
      "(<built-in function add>, <built-in function add>, <built-in function truediv>, <built-in function add>, <built-in function sub>)\n",
      "(<built-in function add>, <built-in function add>, <built-in function truediv>, <built-in function add>, <built-in function truediv>)\n",
      "(<built-in function add>, <built-in function add>, <built-in function truediv>, <built-in function mul>, <built-in function add>)\n",
      "(<built-in function add>, <built-in function add>, <built-in function truediv>, <built-in function mul>, <built-in function mul>)\n",
      "(<built-in function add>, <built-in function add>, <built-in function truediv>, <built-in function mul>, <built-in function sub>)\n",
      "(<built-in function add>, <built-in function add>, <built-in function truediv>, <built-in function mul>, <built-in function truediv>)\n",
      "(<built-in function add>, <built-in function add>, <built-in function truediv>, <built-in function sub>, <built-in function add>)\n",
      "(<built-in function add>, <built-in function add>, <built-in function truediv>, <built-in function sub>, <built-in function mul>)\n",
      "(<built-in function add>, <built-in function add>, <built-in function truediv>, <built-in function sub>, <built-in function sub>)\n",
      "(<built-in function add>, <built-in function add>, <built-in function truediv>, <built-in function sub>, <built-in function truediv>)\n",
      "(<built-in function add>, <built-in function add>, <built-in function truediv>, <built-in function truediv>, <built-in function add>)\n",
      "(<built-in function add>, <built-in function add>, <built-in function truediv>, <built-in function truediv>, <built-in function mul>)\n",
      "(<built-in function add>, <built-in function add>, <built-in function truediv>, <built-in function truediv>, <built-in function sub>)\n",
      "(<built-in function add>, <built-in function add>, <built-in function truediv>, <built-in function truediv>, <built-in function truediv>)\n",
      "(<built-in function add>, <built-in function mul>, <built-in function add>, <built-in function add>, <built-in function add>)\n",
      "(<built-in function add>, <built-in function mul>, <built-in function add>, <built-in function add>, <built-in function mul>)\n",
      "(<built-in function add>, <built-in function mul>, <built-in function add>, <built-in function add>, <built-in function sub>)\n",
      "(<built-in function add>, <built-in function mul>, <built-in function add>, <built-in function add>, <built-in function truediv>)\n",
      "(<built-in function add>, <built-in function mul>, <built-in function add>, <built-in function mul>, <built-in function add>)\n",
      "(<built-in function add>, <built-in function mul>, <built-in function add>, <built-in function mul>, <built-in function mul>)\n",
      "(<built-in function add>, <built-in function mul>, <built-in function add>, <built-in function mul>, <built-in function sub>)\n",
      "(<built-in function add>, <built-in function mul>, <built-in function add>, <built-in function mul>, <built-in function truediv>)\n",
      "(<built-in function add>, <built-in function mul>, <built-in function add>, <built-in function sub>, <built-in function add>)\n",
      "(<built-in function add>, <built-in function mul>, <built-in function add>, <built-in function sub>, <built-in function mul>)\n",
      "(<built-in function add>, <built-in function mul>, <built-in function add>, <built-in function sub>, <built-in function sub>)\n",
      "(<built-in function add>, <built-in function mul>, <built-in function add>, <built-in function sub>, <built-in function truediv>)\n",
      "(<built-in function add>, <built-in function mul>, <built-in function add>, <built-in function truediv>, <built-in function add>)\n",
      "(<built-in function add>, <built-in function mul>, <built-in function add>, <built-in function truediv>, <built-in function mul>)\n",
      "(<built-in function add>, <built-in function mul>, <built-in function add>, <built-in function truediv>, <built-in function sub>)\n",
      "(<built-in function add>, <built-in function mul>, <built-in function add>, <built-in function truediv>, <built-in function truediv>)\n",
      "(<built-in function add>, <built-in function mul>, <built-in function mul>, <built-in function add>, <built-in function add>)\n",
      "(<built-in function add>, <built-in function mul>, <built-in function mul>, <built-in function add>, <built-in function mul>)\n",
      "(<built-in function add>, <built-in function mul>, <built-in function mul>, <built-in function add>, <built-in function sub>)\n",
      "(<built-in function add>, <built-in function mul>, <built-in function mul>, <built-in function add>, <built-in function truediv>)\n",
      "(<built-in function add>, <built-in function mul>, <built-in function mul>, <built-in function mul>, <built-in function add>)\n",
      "(<built-in function add>, <built-in function mul>, <built-in function mul>, <built-in function mul>, <built-in function mul>)\n",
      "(<built-in function add>, <built-in function mul>, <built-in function mul>, <built-in function mul>, <built-in function sub>)\n",
      "(<built-in function add>, <built-in function mul>, <built-in function mul>, <built-in function mul>, <built-in function truediv>)\n",
      "(<built-in function add>, <built-in function mul>, <built-in function mul>, <built-in function sub>, <built-in function add>)\n",
      "(<built-in function add>, <built-in function mul>, <built-in function mul>, <built-in function sub>, <built-in function mul>)\n",
      "(<built-in function add>, <built-in function mul>, <built-in function mul>, <built-in function sub>, <built-in function sub>)\n",
      "(<built-in function add>, <built-in function mul>, <built-in function mul>, <built-in function sub>, <built-in function truediv>)\n",
      "(<built-in function add>, <built-in function mul>, <built-in function mul>, <built-in function truediv>, <built-in function add>)\n",
      "(<built-in function add>, <built-in function mul>, <built-in function mul>, <built-in function truediv>, <built-in function mul>)\n",
      "(<built-in function add>, <built-in function mul>, <built-in function mul>, <built-in function truediv>, <built-in function sub>)\n",
      "(<built-in function add>, <built-in function mul>, <built-in function mul>, <built-in function truediv>, <built-in function truediv>)\n",
      "(<built-in function add>, <built-in function mul>, <built-in function sub>, <built-in function add>, <built-in function add>)\n",
      "(<built-in function add>, <built-in function mul>, <built-in function sub>, <built-in function add>, <built-in function mul>)\n",
      "(<built-in function add>, <built-in function mul>, <built-in function sub>, <built-in function add>, <built-in function sub>)\n",
      "(<built-in function add>, <built-in function mul>, <built-in function sub>, <built-in function add>, <built-in function truediv>)\n"
     ]
    }
   ],
   "source": [
    "# Using product to generate all lists of five operations.\n",
    "ops = [operator.add, operator.mul, operator.sub, operator.truediv]\n",
    "limit = 100\n",
    "for q in it.product(ops, repeat=5):\n",
    "    if limit == 0:\n",
    "        break\n",
    "    print(q)\n",
    "    limit = limit - 1"
   ]
  },
  {
   "cell_type": "markdown",
   "id": "c5529e1b",
   "metadata": {},
   "source": [
    "## Reverse Polish Notation\n",
    "\n",
    "***"
   ]
  },
  {
   "cell_type": "code",
   "execution_count": 26,
   "id": "8a32cd41",
   "metadata": {},
   "outputs": [
    {
     "data": {
      "text/plain": [
       "23"
      ]
     },
     "execution_count": 26,
     "metadata": {},
     "output_type": "execute_result"
    }
   ],
   "source": [
    "# 3 4 5 * +\n",
    "3 + 4 * 5"
   ]
  },
  {
   "cell_type": "code",
   "execution_count": 27,
   "id": "2d0f7454",
   "metadata": {},
   "outputs": [
    {
     "data": {
      "text/plain": [
       "35"
      ]
     },
     "execution_count": 27,
     "metadata": {},
     "output_type": "execute_result"
    }
   ],
   "source": [
    "# 3 4 + 5 *\n",
    "(3 + 4) * 5"
   ]
  },
  {
   "cell_type": "code",
   "execution_count": 28,
   "id": "b52bfd3f",
   "metadata": {},
   "outputs": [
    {
     "data": {
      "text/plain": [
       "([100, 50, 3, 1, 3, 6], 658)"
      ]
     },
     "execution_count": 28,
     "metadata": {},
     "output_type": "execute_result"
    }
   ],
   "source": [
    "# New random nubmers game.\n",
    "play_nos, target = new_numbers_game()\n",
    "play_nos, target"
   ]
  },
  {
   "cell_type": "code",
   "execution_count": 29,
   "id": "ed66e938",
   "metadata": {},
   "outputs": [
    {
     "name": "stdout",
     "output_type": "stream",
     "text": [
      "(100, 50)\n",
      "(100, 3)\n",
      "(100, 1)\n",
      "(100, 3)\n",
      "(100, 6)\n",
      "(50, 100)\n",
      "(50, 3)\n",
      "(50, 1)\n",
      "(50, 3)\n",
      "(50, 6)\n",
      "(3, 100)\n",
      "(3, 50)\n",
      "(3, 1)\n",
      "(3, 3)\n",
      "(3, 6)\n",
      "(1, 100)\n",
      "(1, 50)\n",
      "(1, 3)\n",
      "(1, 3)\n",
      "(1, 6)\n",
      "(3, 100)\n",
      "(3, 50)\n",
      "(3, 3)\n",
      "(3, 1)\n",
      "(3, 6)\n",
      "(6, 100)\n",
      "(6, 50)\n",
      "(6, 3)\n",
      "(6, 1)\n",
      "(6, 3)\n"
     ]
    }
   ],
   "source": [
    "# Orderings of pairs.\n",
    "for pair in it.permutations(play_nos, 2):\n",
    "    print(pair)"
   ]
  },
  {
   "cell_type": "code",
   "execution_count": 30,
   "id": "008f7548",
   "metadata": {},
   "outputs": [
    {
     "data": {
      "text/plain": [
       "100"
      ]
     },
     "execution_count": 30,
     "metadata": {},
     "output_type": "execute_result"
    }
   ],
   "source": [
    "# Change the target to be something that will work for just two numbers.\n",
    "target = max(play_nos) * min(play_nos)\n",
    "target"
   ]
  },
  {
   "cell_type": "code",
   "execution_count": 31,
   "id": "7e86c5cf",
   "metadata": {},
   "outputs": [
    {
     "name": "stdout",
     "output_type": "stream",
     "text": [
      "45.1 µs ± 9 µs per loop (mean ± std. dev. of 7 runs, 10000 loops each)\n"
     ]
    }
   ],
   "source": [
    "%%timeit\n",
    "\n",
    "# Operators.\n",
    "ops = [operator.add, operator.sub, operator.mul, operator.truediv]\n",
    "\n",
    "def hits_target(z):\n",
    "    nos, op = z\n",
    "    return (op(nos[0], nos[1]) == target)\n",
    "\n",
    "# All pair, op combs that hit target.\n",
    "list(filter(hits_target, it.product(it.permutations(play_nos, 2), ops)))"
   ]
  },
  {
   "cell_type": "code",
   "execution_count": 32,
   "id": "c8441cfb",
   "metadata": {},
   "outputs": [
    {
     "data": {
      "text/plain": [
       "[((100, 1), <function _operator.mul(a, b, /)>),\n",
       " ((100, 1), <function _operator.truediv(a, b, /)>),\n",
       " ((1, 100), <function _operator.mul(a, b, /)>)]"
      ]
     },
     "execution_count": 32,
     "metadata": {},
     "output_type": "execute_result"
    }
   ],
   "source": [
    "# All pair, op combs that hit target.\n",
    "list(filter(lambda z: z[1](z[0][0], z[0][1]) == target, it.product(it.permutations(play_nos, 2), ops)))"
   ]
  },
  {
   "cell_type": "code",
   "execution_count": 33,
   "id": "305e3fb7",
   "metadata": {},
   "outputs": [
    {
     "data": {
      "text/plain": [
       "[[<function _operator.add(a, b, /)>,\n",
       "  <function _operator.mul(a, b, /)>,\n",
       "  <function _operator.sub(a, b, /)>,\n",
       "  <function _operator.truediv(a, b, /)>],\n",
       " [<function _operator.add(a, b, /)>,\n",
       "  <function _operator.mul(a, b, /)>,\n",
       "  <function _operator.sub(a, b, /)>,\n",
       "  <function _operator.truediv(a, b, /)>],\n",
       " [<function _operator.add(a, b, /)>,\n",
       "  <function _operator.mul(a, b, /)>,\n",
       "  <function _operator.sub(a, b, /)>,\n",
       "  <function _operator.truediv(a, b, /)>],\n",
       " [<function _operator.add(a, b, /)>,\n",
       "  <function _operator.mul(a, b, /)>,\n",
       "  <function _operator.sub(a, b, /)>,\n",
       "  <function _operator.truediv(a, b, /)>],\n",
       " [<function _operator.add(a, b, /)>,\n",
       "  <function _operator.mul(a, b, /)>,\n",
       "  <function _operator.sub(a, b, /)>,\n",
       "  <function _operator.truediv(a, b, /)>]]"
      ]
     },
     "execution_count": 33,
     "metadata": {},
     "output_type": "execute_result"
    }
   ],
   "source": [
    "[ops] * 5"
   ]
  },
  {
   "cell_type": "code",
   "execution_count": 34,
   "id": "d08d09af",
   "metadata": {},
   "outputs": [
    {
     "name": "stdout",
     "output_type": "stream",
     "text": [
      "(100, 50, 3, 1, 3, 6) (<built-in function add>, <built-in function add>, <built-in function add>, <built-in function add>, <built-in function add>)\n",
      "(100, 50, 3, 1, 3, 6) (<built-in function add>, <built-in function add>, <built-in function add>, <built-in function add>, <built-in function sub>)\n",
      "(100, 50, 3, 1, 3, 6) (<built-in function add>, <built-in function add>, <built-in function add>, <built-in function add>, <built-in function mul>)\n",
      "(100, 50, 3, 1, 3, 6) (<built-in function add>, <built-in function add>, <built-in function add>, <built-in function add>, <built-in function truediv>)\n",
      "(100, 50, 3, 1, 3, 6) (<built-in function add>, <built-in function add>, <built-in function add>, <built-in function sub>, <built-in function add>)\n",
      "(100, 50, 3, 1, 3, 6) (<built-in function add>, <built-in function add>, <built-in function add>, <built-in function sub>, <built-in function sub>)\n",
      "(100, 50, 3, 1, 3, 6) (<built-in function add>, <built-in function add>, <built-in function add>, <built-in function sub>, <built-in function mul>)\n",
      "(100, 50, 3, 1, 3, 6) (<built-in function add>, <built-in function add>, <built-in function add>, <built-in function sub>, <built-in function truediv>)\n",
      "(100, 50, 3, 1, 3, 6) (<built-in function add>, <built-in function add>, <built-in function add>, <built-in function mul>, <built-in function add>)\n",
      "(100, 50, 3, 1, 3, 6) (<built-in function add>, <built-in function add>, <built-in function add>, <built-in function mul>, <built-in function sub>)\n",
      "(100, 50, 3, 1, 3, 6) (<built-in function add>, <built-in function add>, <built-in function add>, <built-in function mul>, <built-in function mul>)\n",
      "(100, 50, 3, 1, 3, 6) (<built-in function add>, <built-in function add>, <built-in function add>, <built-in function mul>, <built-in function truediv>)\n",
      "(100, 50, 3, 1, 3, 6) (<built-in function add>, <built-in function add>, <built-in function add>, <built-in function truediv>, <built-in function add>)\n",
      "(100, 50, 3, 1, 3, 6) (<built-in function add>, <built-in function add>, <built-in function add>, <built-in function truediv>, <built-in function sub>)\n",
      "(100, 50, 3, 1, 3, 6) (<built-in function add>, <built-in function add>, <built-in function add>, <built-in function truediv>, <built-in function mul>)\n",
      "(100, 50, 3, 1, 3, 6) (<built-in function add>, <built-in function add>, <built-in function add>, <built-in function truediv>, <built-in function truediv>)\n",
      "(100, 50, 3, 1, 3, 6) (<built-in function add>, <built-in function add>, <built-in function sub>, <built-in function add>, <built-in function add>)\n",
      "(100, 50, 3, 1, 3, 6) (<built-in function add>, <built-in function add>, <built-in function sub>, <built-in function add>, <built-in function sub>)\n",
      "(100, 50, 3, 1, 3, 6) (<built-in function add>, <built-in function add>, <built-in function sub>, <built-in function add>, <built-in function mul>)\n",
      "(100, 50, 3, 1, 3, 6) (<built-in function add>, <built-in function add>, <built-in function sub>, <built-in function add>, <built-in function truediv>)\n",
      "(100, 50, 3, 1, 3, 6) (<built-in function add>, <built-in function add>, <built-in function sub>, <built-in function sub>, <built-in function add>)\n",
      "(100, 50, 3, 1, 3, 6) (<built-in function add>, <built-in function add>, <built-in function sub>, <built-in function sub>, <built-in function sub>)\n",
      "(100, 50, 3, 1, 3, 6) (<built-in function add>, <built-in function add>, <built-in function sub>, <built-in function sub>, <built-in function mul>)\n",
      "(100, 50, 3, 1, 3, 6) (<built-in function add>, <built-in function add>, <built-in function sub>, <built-in function sub>, <built-in function truediv>)\n",
      "(100, 50, 3, 1, 3, 6) (<built-in function add>, <built-in function add>, <built-in function sub>, <built-in function mul>, <built-in function add>)\n",
      "(100, 50, 3, 1, 3, 6) (<built-in function add>, <built-in function add>, <built-in function sub>, <built-in function mul>, <built-in function sub>)\n",
      "(100, 50, 3, 1, 3, 6) (<built-in function add>, <built-in function add>, <built-in function sub>, <built-in function mul>, <built-in function mul>)\n",
      "(100, 50, 3, 1, 3, 6) (<built-in function add>, <built-in function add>, <built-in function sub>, <built-in function mul>, <built-in function truediv>)\n",
      "(100, 50, 3, 1, 3, 6) (<built-in function add>, <built-in function add>, <built-in function sub>, <built-in function truediv>, <built-in function add>)\n",
      "(100, 50, 3, 1, 3, 6) (<built-in function add>, <built-in function add>, <built-in function sub>, <built-in function truediv>, <built-in function sub>)\n",
      "(100, 50, 3, 1, 3, 6) (<built-in function add>, <built-in function add>, <built-in function sub>, <built-in function truediv>, <built-in function mul>)\n",
      "(100, 50, 3, 1, 3, 6) (<built-in function add>, <built-in function add>, <built-in function sub>, <built-in function truediv>, <built-in function truediv>)\n",
      "(100, 50, 3, 1, 3, 6) (<built-in function add>, <built-in function add>, <built-in function mul>, <built-in function add>, <built-in function add>)\n",
      "(100, 50, 3, 1, 3, 6) (<built-in function add>, <built-in function add>, <built-in function mul>, <built-in function add>, <built-in function sub>)\n",
      "(100, 50, 3, 1, 3, 6) (<built-in function add>, <built-in function add>, <built-in function mul>, <built-in function add>, <built-in function mul>)\n",
      "(100, 50, 3, 1, 3, 6) (<built-in function add>, <built-in function add>, <built-in function mul>, <built-in function add>, <built-in function truediv>)\n",
      "(100, 50, 3, 1, 3, 6) (<built-in function add>, <built-in function add>, <built-in function mul>, <built-in function sub>, <built-in function add>)\n",
      "(100, 50, 3, 1, 3, 6) (<built-in function add>, <built-in function add>, <built-in function mul>, <built-in function sub>, <built-in function sub>)\n",
      "(100, 50, 3, 1, 3, 6) (<built-in function add>, <built-in function add>, <built-in function mul>, <built-in function sub>, <built-in function mul>)\n",
      "(100, 50, 3, 1, 3, 6) (<built-in function add>, <built-in function add>, <built-in function mul>, <built-in function sub>, <built-in function truediv>)\n",
      "(100, 50, 3, 1, 3, 6) (<built-in function add>, <built-in function add>, <built-in function mul>, <built-in function mul>, <built-in function add>)\n",
      "(100, 50, 3, 1, 3, 6) (<built-in function add>, <built-in function add>, <built-in function mul>, <built-in function mul>, <built-in function sub>)\n",
      "(100, 50, 3, 1, 3, 6) (<built-in function add>, <built-in function add>, <built-in function mul>, <built-in function mul>, <built-in function mul>)\n",
      "(100, 50, 3, 1, 3, 6) (<built-in function add>, <built-in function add>, <built-in function mul>, <built-in function mul>, <built-in function truediv>)\n",
      "(100, 50, 3, 1, 3, 6) (<built-in function add>, <built-in function add>, <built-in function mul>, <built-in function truediv>, <built-in function add>)\n",
      "(100, 50, 3, 1, 3, 6) (<built-in function add>, <built-in function add>, <built-in function mul>, <built-in function truediv>, <built-in function sub>)\n",
      "(100, 50, 3, 1, 3, 6) (<built-in function add>, <built-in function add>, <built-in function mul>, <built-in function truediv>, <built-in function mul>)\n",
      "(100, 50, 3, 1, 3, 6) (<built-in function add>, <built-in function add>, <built-in function mul>, <built-in function truediv>, <built-in function truediv>)\n",
      "(100, 50, 3, 1, 3, 6) (<built-in function add>, <built-in function add>, <built-in function truediv>, <built-in function add>, <built-in function add>)\n",
      "(100, 50, 3, 1, 3, 6) (<built-in function add>, <built-in function add>, <built-in function truediv>, <built-in function add>, <built-in function sub>)\n",
      "(100, 50, 3, 1, 3, 6) (<built-in function add>, <built-in function add>, <built-in function truediv>, <built-in function add>, <built-in function mul>)\n",
      "(100, 50, 3, 1, 3, 6) (<built-in function add>, <built-in function add>, <built-in function truediv>, <built-in function add>, <built-in function truediv>)\n",
      "(100, 50, 3, 1, 3, 6) (<built-in function add>, <built-in function add>, <built-in function truediv>, <built-in function sub>, <built-in function add>)\n",
      "(100, 50, 3, 1, 3, 6) (<built-in function add>, <built-in function add>, <built-in function truediv>, <built-in function sub>, <built-in function sub>)\n",
      "(100, 50, 3, 1, 3, 6) (<built-in function add>, <built-in function add>, <built-in function truediv>, <built-in function sub>, <built-in function mul>)\n",
      "(100, 50, 3, 1, 3, 6) (<built-in function add>, <built-in function add>, <built-in function truediv>, <built-in function sub>, <built-in function truediv>)\n",
      "(100, 50, 3, 1, 3, 6) (<built-in function add>, <built-in function add>, <built-in function truediv>, <built-in function mul>, <built-in function add>)\n",
      "(100, 50, 3, 1, 3, 6) (<built-in function add>, <built-in function add>, <built-in function truediv>, <built-in function mul>, <built-in function sub>)\n",
      "(100, 50, 3, 1, 3, 6) (<built-in function add>, <built-in function add>, <built-in function truediv>, <built-in function mul>, <built-in function mul>)\n",
      "(100, 50, 3, 1, 3, 6) (<built-in function add>, <built-in function add>, <built-in function truediv>, <built-in function mul>, <built-in function truediv>)\n",
      "(100, 50, 3, 1, 3, 6) (<built-in function add>, <built-in function add>, <built-in function truediv>, <built-in function truediv>, <built-in function add>)\n",
      "(100, 50, 3, 1, 3, 6) (<built-in function add>, <built-in function add>, <built-in function truediv>, <built-in function truediv>, <built-in function sub>)\n",
      "(100, 50, 3, 1, 3, 6) (<built-in function add>, <built-in function add>, <built-in function truediv>, <built-in function truediv>, <built-in function mul>)\n",
      "(100, 50, 3, 1, 3, 6) (<built-in function add>, <built-in function add>, <built-in function truediv>, <built-in function truediv>, <built-in function truediv>)\n",
      "(100, 50, 3, 1, 3, 6) (<built-in function add>, <built-in function sub>, <built-in function add>, <built-in function add>, <built-in function add>)\n",
      "(100, 50, 3, 1, 3, 6) (<built-in function add>, <built-in function sub>, <built-in function add>, <built-in function add>, <built-in function sub>)\n",
      "(100, 50, 3, 1, 3, 6) (<built-in function add>, <built-in function sub>, <built-in function add>, <built-in function add>, <built-in function mul>)\n",
      "(100, 50, 3, 1, 3, 6) (<built-in function add>, <built-in function sub>, <built-in function add>, <built-in function add>, <built-in function truediv>)\n",
      "(100, 50, 3, 1, 3, 6) (<built-in function add>, <built-in function sub>, <built-in function add>, <built-in function sub>, <built-in function add>)\n",
      "(100, 50, 3, 1, 3, 6) (<built-in function add>, <built-in function sub>, <built-in function add>, <built-in function sub>, <built-in function sub>)\n",
      "(100, 50, 3, 1, 3, 6) (<built-in function add>, <built-in function sub>, <built-in function add>, <built-in function sub>, <built-in function mul>)\n",
      "(100, 50, 3, 1, 3, 6) (<built-in function add>, <built-in function sub>, <built-in function add>, <built-in function sub>, <built-in function truediv>)\n",
      "(100, 50, 3, 1, 3, 6) (<built-in function add>, <built-in function sub>, <built-in function add>, <built-in function mul>, <built-in function add>)\n",
      "(100, 50, 3, 1, 3, 6) (<built-in function add>, <built-in function sub>, <built-in function add>, <built-in function mul>, <built-in function sub>)\n",
      "(100, 50, 3, 1, 3, 6) (<built-in function add>, <built-in function sub>, <built-in function add>, <built-in function mul>, <built-in function mul>)\n",
      "(100, 50, 3, 1, 3, 6) (<built-in function add>, <built-in function sub>, <built-in function add>, <built-in function mul>, <built-in function truediv>)\n",
      "(100, 50, 3, 1, 3, 6) (<built-in function add>, <built-in function sub>, <built-in function add>, <built-in function truediv>, <built-in function add>)\n",
      "(100, 50, 3, 1, 3, 6) (<built-in function add>, <built-in function sub>, <built-in function add>, <built-in function truediv>, <built-in function sub>)\n",
      "(100, 50, 3, 1, 3, 6) (<built-in function add>, <built-in function sub>, <built-in function add>, <built-in function truediv>, <built-in function mul>)\n",
      "(100, 50, 3, 1, 3, 6) (<built-in function add>, <built-in function sub>, <built-in function add>, <built-in function truediv>, <built-in function truediv>)\n",
      "(100, 50, 3, 1, 3, 6) (<built-in function add>, <built-in function sub>, <built-in function sub>, <built-in function add>, <built-in function add>)\n",
      "(100, 50, 3, 1, 3, 6) (<built-in function add>, <built-in function sub>, <built-in function sub>, <built-in function add>, <built-in function sub>)\n",
      "(100, 50, 3, 1, 3, 6) (<built-in function add>, <built-in function sub>, <built-in function sub>, <built-in function add>, <built-in function mul>)\n",
      "(100, 50, 3, 1, 3, 6) (<built-in function add>, <built-in function sub>, <built-in function sub>, <built-in function add>, <built-in function truediv>)\n",
      "(100, 50, 3, 1, 3, 6) (<built-in function add>, <built-in function sub>, <built-in function sub>, <built-in function sub>, <built-in function add>)\n",
      "(100, 50, 3, 1, 3, 6) (<built-in function add>, <built-in function sub>, <built-in function sub>, <built-in function sub>, <built-in function sub>)\n",
      "(100, 50, 3, 1, 3, 6) (<built-in function add>, <built-in function sub>, <built-in function sub>, <built-in function sub>, <built-in function mul>)\n",
      "(100, 50, 3, 1, 3, 6) (<built-in function add>, <built-in function sub>, <built-in function sub>, <built-in function sub>, <built-in function truediv>)\n",
      "(100, 50, 3, 1, 3, 6) (<built-in function add>, <built-in function sub>, <built-in function sub>, <built-in function mul>, <built-in function add>)\n",
      "(100, 50, 3, 1, 3, 6) (<built-in function add>, <built-in function sub>, <built-in function sub>, <built-in function mul>, <built-in function sub>)\n",
      "(100, 50, 3, 1, 3, 6) (<built-in function add>, <built-in function sub>, <built-in function sub>, <built-in function mul>, <built-in function mul>)\n",
      "(100, 50, 3, 1, 3, 6) (<built-in function add>, <built-in function sub>, <built-in function sub>, <built-in function mul>, <built-in function truediv>)\n",
      "(100, 50, 3, 1, 3, 6) (<built-in function add>, <built-in function sub>, <built-in function sub>, <built-in function truediv>, <built-in function add>)\n",
      "(100, 50, 3, 1, 3, 6) (<built-in function add>, <built-in function sub>, <built-in function sub>, <built-in function truediv>, <built-in function sub>)\n",
      "(100, 50, 3, 1, 3, 6) (<built-in function add>, <built-in function sub>, <built-in function sub>, <built-in function truediv>, <built-in function mul>)\n",
      "(100, 50, 3, 1, 3, 6) (<built-in function add>, <built-in function sub>, <built-in function sub>, <built-in function truediv>, <built-in function truediv>)\n",
      "(100, 50, 3, 1, 3, 6) (<built-in function add>, <built-in function sub>, <built-in function mul>, <built-in function add>, <built-in function add>)\n",
      "(100, 50, 3, 1, 3, 6) (<built-in function add>, <built-in function sub>, <built-in function mul>, <built-in function add>, <built-in function sub>)\n",
      "(100, 50, 3, 1, 3, 6) (<built-in function add>, <built-in function sub>, <built-in function mul>, <built-in function add>, <built-in function mul>)\n",
      "(100, 50, 3, 1, 3, 6) (<built-in function add>, <built-in function sub>, <built-in function mul>, <built-in function add>, <built-in function truediv>)\n",
      "(100, 50, 3, 1, 3, 6) (<built-in function add>, <built-in function sub>, <built-in function mul>, <built-in function sub>, <built-in function add>)\n",
      "(100, 50, 3, 1, 3, 6) (<built-in function add>, <built-in function sub>, <built-in function mul>, <built-in function sub>, <built-in function sub>)\n",
      "(100, 50, 3, 1, 3, 6) (<built-in function add>, <built-in function sub>, <built-in function mul>, <built-in function sub>, <built-in function mul>)\n",
      "(100, 50, 3, 1, 3, 6) (<built-in function add>, <built-in function sub>, <built-in function mul>, <built-in function sub>, <built-in function truediv>)\n",
      "(100, 50, 3, 1, 3, 6) (<built-in function add>, <built-in function sub>, <built-in function mul>, <built-in function mul>, <built-in function add>)\n",
      "(100, 50, 3, 1, 3, 6) (<built-in function add>, <built-in function sub>, <built-in function mul>, <built-in function mul>, <built-in function sub>)\n",
      "(100, 50, 3, 1, 3, 6) (<built-in function add>, <built-in function sub>, <built-in function mul>, <built-in function mul>, <built-in function mul>)\n",
      "(100, 50, 3, 1, 3, 6) (<built-in function add>, <built-in function sub>, <built-in function mul>, <built-in function mul>, <built-in function truediv>)\n",
      "(100, 50, 3, 1, 3, 6) (<built-in function add>, <built-in function sub>, <built-in function mul>, <built-in function truediv>, <built-in function add>)\n",
      "(100, 50, 3, 1, 3, 6) (<built-in function add>, <built-in function sub>, <built-in function mul>, <built-in function truediv>, <built-in function sub>)\n",
      "(100, 50, 3, 1, 3, 6) (<built-in function add>, <built-in function sub>, <built-in function mul>, <built-in function truediv>, <built-in function mul>)\n",
      "(100, 50, 3, 1, 3, 6) (<built-in function add>, <built-in function sub>, <built-in function mul>, <built-in function truediv>, <built-in function truediv>)\n",
      "(100, 50, 3, 1, 3, 6) (<built-in function add>, <built-in function sub>, <built-in function truediv>, <built-in function add>, <built-in function add>)\n",
      "(100, 50, 3, 1, 3, 6) (<built-in function add>, <built-in function sub>, <built-in function truediv>, <built-in function add>, <built-in function sub>)\n",
      "(100, 50, 3, 1, 3, 6) (<built-in function add>, <built-in function sub>, <built-in function truediv>, <built-in function add>, <built-in function mul>)\n",
      "(100, 50, 3, 1, 3, 6) (<built-in function add>, <built-in function sub>, <built-in function truediv>, <built-in function add>, <built-in function truediv>)\n",
      "(100, 50, 3, 1, 3, 6) (<built-in function add>, <built-in function sub>, <built-in function truediv>, <built-in function sub>, <built-in function add>)\n",
      "(100, 50, 3, 1, 3, 6) (<built-in function add>, <built-in function sub>, <built-in function truediv>, <built-in function sub>, <built-in function sub>)\n",
      "(100, 50, 3, 1, 3, 6) (<built-in function add>, <built-in function sub>, <built-in function truediv>, <built-in function sub>, <built-in function mul>)\n",
      "(100, 50, 3, 1, 3, 6) (<built-in function add>, <built-in function sub>, <built-in function truediv>, <built-in function sub>, <built-in function truediv>)\n",
      "(100, 50, 3, 1, 3, 6) (<built-in function add>, <built-in function sub>, <built-in function truediv>, <built-in function mul>, <built-in function add>)\n",
      "(100, 50, 3, 1, 3, 6) (<built-in function add>, <built-in function sub>, <built-in function truediv>, <built-in function mul>, <built-in function sub>)\n",
      "(100, 50, 3, 1, 3, 6) (<built-in function add>, <built-in function sub>, <built-in function truediv>, <built-in function mul>, <built-in function mul>)\n",
      "(100, 50, 3, 1, 3, 6) (<built-in function add>, <built-in function sub>, <built-in function truediv>, <built-in function mul>, <built-in function truediv>)\n",
      "(100, 50, 3, 1, 3, 6) (<built-in function add>, <built-in function sub>, <built-in function truediv>, <built-in function truediv>, <built-in function add>)\n",
      "(100, 50, 3, 1, 3, 6) (<built-in function add>, <built-in function sub>, <built-in function truediv>, <built-in function truediv>, <built-in function sub>)\n",
      "(100, 50, 3, 1, 3, 6) (<built-in function add>, <built-in function sub>, <built-in function truediv>, <built-in function truediv>, <built-in function mul>)\n",
      "(100, 50, 3, 1, 3, 6) (<built-in function add>, <built-in function sub>, <built-in function truediv>, <built-in function truediv>, <built-in function truediv>)\n",
      "(100, 50, 3, 1, 3, 6) (<built-in function add>, <built-in function mul>, <built-in function add>, <built-in function add>, <built-in function add>)\n",
      "(100, 50, 3, 1, 3, 6) (<built-in function add>, <built-in function mul>, <built-in function add>, <built-in function add>, <built-in function sub>)\n",
      "(100, 50, 3, 1, 3, 6) (<built-in function add>, <built-in function mul>, <built-in function add>, <built-in function add>, <built-in function mul>)\n",
      "(100, 50, 3, 1, 3, 6) (<built-in function add>, <built-in function mul>, <built-in function add>, <built-in function add>, <built-in function truediv>)\n",
      "(100, 50, 3, 1, 3, 6) (<built-in function add>, <built-in function mul>, <built-in function add>, <built-in function sub>, <built-in function add>)\n",
      "(100, 50, 3, 1, 3, 6) (<built-in function add>, <built-in function mul>, <built-in function add>, <built-in function sub>, <built-in function sub>)\n",
      "(100, 50, 3, 1, 3, 6) (<built-in function add>, <built-in function mul>, <built-in function add>, <built-in function sub>, <built-in function mul>)\n",
      "(100, 50, 3, 1, 3, 6) (<built-in function add>, <built-in function mul>, <built-in function add>, <built-in function sub>, <built-in function truediv>)\n",
      "(100, 50, 3, 1, 3, 6) (<built-in function add>, <built-in function mul>, <built-in function add>, <built-in function mul>, <built-in function add>)\n",
      "(100, 50, 3, 1, 3, 6) (<built-in function add>, <built-in function mul>, <built-in function add>, <built-in function mul>, <built-in function sub>)\n",
      "(100, 50, 3, 1, 3, 6) (<built-in function add>, <built-in function mul>, <built-in function add>, <built-in function mul>, <built-in function mul>)\n",
      "(100, 50, 3, 1, 3, 6) (<built-in function add>, <built-in function mul>, <built-in function add>, <built-in function mul>, <built-in function truediv>)\n",
      "(100, 50, 3, 1, 3, 6) (<built-in function add>, <built-in function mul>, <built-in function add>, <built-in function truediv>, <built-in function add>)\n",
      "(100, 50, 3, 1, 3, 6) (<built-in function add>, <built-in function mul>, <built-in function add>, <built-in function truediv>, <built-in function sub>)\n",
      "(100, 50, 3, 1, 3, 6) (<built-in function add>, <built-in function mul>, <built-in function add>, <built-in function truediv>, <built-in function mul>)\n",
      "(100, 50, 3, 1, 3, 6) (<built-in function add>, <built-in function mul>, <built-in function add>, <built-in function truediv>, <built-in function truediv>)\n",
      "(100, 50, 3, 1, 3, 6) (<built-in function add>, <built-in function mul>, <built-in function sub>, <built-in function add>, <built-in function add>)\n",
      "(100, 50, 3, 1, 3, 6) (<built-in function add>, <built-in function mul>, <built-in function sub>, <built-in function add>, <built-in function sub>)\n",
      "(100, 50, 3, 1, 3, 6) (<built-in function add>, <built-in function mul>, <built-in function sub>, <built-in function add>, <built-in function mul>)\n",
      "(100, 50, 3, 1, 3, 6) (<built-in function add>, <built-in function mul>, <built-in function sub>, <built-in function add>, <built-in function truediv>)\n",
      "(100, 50, 3, 1, 3, 6) (<built-in function add>, <built-in function mul>, <built-in function sub>, <built-in function sub>, <built-in function add>)\n",
      "(100, 50, 3, 1, 3, 6) (<built-in function add>, <built-in function mul>, <built-in function sub>, <built-in function sub>, <built-in function sub>)\n",
      "(100, 50, 3, 1, 3, 6) (<built-in function add>, <built-in function mul>, <built-in function sub>, <built-in function sub>, <built-in function mul>)\n",
      "(100, 50, 3, 1, 3, 6) (<built-in function add>, <built-in function mul>, <built-in function sub>, <built-in function sub>, <built-in function truediv>)\n",
      "(100, 50, 3, 1, 3, 6) (<built-in function add>, <built-in function mul>, <built-in function sub>, <built-in function mul>, <built-in function add>)\n",
      "(100, 50, 3, 1, 3, 6) (<built-in function add>, <built-in function mul>, <built-in function sub>, <built-in function mul>, <built-in function sub>)\n",
      "(100, 50, 3, 1, 3, 6) (<built-in function add>, <built-in function mul>, <built-in function sub>, <built-in function mul>, <built-in function mul>)\n",
      "(100, 50, 3, 1, 3, 6) (<built-in function add>, <built-in function mul>, <built-in function sub>, <built-in function mul>, <built-in function truediv>)\n",
      "(100, 50, 3, 1, 3, 6) (<built-in function add>, <built-in function mul>, <built-in function sub>, <built-in function truediv>, <built-in function add>)\n",
      "(100, 50, 3, 1, 3, 6) (<built-in function add>, <built-in function mul>, <built-in function sub>, <built-in function truediv>, <built-in function sub>)\n",
      "(100, 50, 3, 1, 3, 6) (<built-in function add>, <built-in function mul>, <built-in function sub>, <built-in function truediv>, <built-in function mul>)\n",
      "(100, 50, 3, 1, 3, 6) (<built-in function add>, <built-in function mul>, <built-in function sub>, <built-in function truediv>, <built-in function truediv>)\n",
      "(100, 50, 3, 1, 3, 6) (<built-in function add>, <built-in function mul>, <built-in function mul>, <built-in function add>, <built-in function add>)\n",
      "(100, 50, 3, 1, 3, 6) (<built-in function add>, <built-in function mul>, <built-in function mul>, <built-in function add>, <built-in function sub>)\n",
      "(100, 50, 3, 1, 3, 6) (<built-in function add>, <built-in function mul>, <built-in function mul>, <built-in function add>, <built-in function mul>)\n",
      "(100, 50, 3, 1, 3, 6) (<built-in function add>, <built-in function mul>, <built-in function mul>, <built-in function add>, <built-in function truediv>)\n",
      "(100, 50, 3, 1, 3, 6) (<built-in function add>, <built-in function mul>, <built-in function mul>, <built-in function sub>, <built-in function add>)\n",
      "(100, 50, 3, 1, 3, 6) (<built-in function add>, <built-in function mul>, <built-in function mul>, <built-in function sub>, <built-in function sub>)\n",
      "(100, 50, 3, 1, 3, 6) (<built-in function add>, <built-in function mul>, <built-in function mul>, <built-in function sub>, <built-in function mul>)\n",
      "(100, 50, 3, 1, 3, 6) (<built-in function add>, <built-in function mul>, <built-in function mul>, <built-in function sub>, <built-in function truediv>)\n",
      "(100, 50, 3, 1, 3, 6) (<built-in function add>, <built-in function mul>, <built-in function mul>, <built-in function mul>, <built-in function add>)\n",
      "(100, 50, 3, 1, 3, 6) (<built-in function add>, <built-in function mul>, <built-in function mul>, <built-in function mul>, <built-in function sub>)\n",
      "(100, 50, 3, 1, 3, 6) (<built-in function add>, <built-in function mul>, <built-in function mul>, <built-in function mul>, <built-in function mul>)\n",
      "(100, 50, 3, 1, 3, 6) (<built-in function add>, <built-in function mul>, <built-in function mul>, <built-in function mul>, <built-in function truediv>)\n",
      "(100, 50, 3, 1, 3, 6) (<built-in function add>, <built-in function mul>, <built-in function mul>, <built-in function truediv>, <built-in function add>)\n",
      "(100, 50, 3, 1, 3, 6) (<built-in function add>, <built-in function mul>, <built-in function mul>, <built-in function truediv>, <built-in function sub>)\n",
      "(100, 50, 3, 1, 3, 6) (<built-in function add>, <built-in function mul>, <built-in function mul>, <built-in function truediv>, <built-in function mul>)\n",
      "(100, 50, 3, 1, 3, 6) (<built-in function add>, <built-in function mul>, <built-in function mul>, <built-in function truediv>, <built-in function truediv>)\n",
      "(100, 50, 3, 1, 3, 6) (<built-in function add>, <built-in function mul>, <built-in function truediv>, <built-in function add>, <built-in function add>)\n",
      "(100, 50, 3, 1, 3, 6) (<built-in function add>, <built-in function mul>, <built-in function truediv>, <built-in function add>, <built-in function sub>)\n",
      "(100, 50, 3, 1, 3, 6) (<built-in function add>, <built-in function mul>, <built-in function truediv>, <built-in function add>, <built-in function mul>)\n",
      "(100, 50, 3, 1, 3, 6) (<built-in function add>, <built-in function mul>, <built-in function truediv>, <built-in function add>, <built-in function truediv>)\n",
      "(100, 50, 3, 1, 3, 6) (<built-in function add>, <built-in function mul>, <built-in function truediv>, <built-in function sub>, <built-in function add>)\n",
      "(100, 50, 3, 1, 3, 6) (<built-in function add>, <built-in function mul>, <built-in function truediv>, <built-in function sub>, <built-in function sub>)\n",
      "(100, 50, 3, 1, 3, 6) (<built-in function add>, <built-in function mul>, <built-in function truediv>, <built-in function sub>, <built-in function mul>)\n",
      "(100, 50, 3, 1, 3, 6) (<built-in function add>, <built-in function mul>, <built-in function truediv>, <built-in function sub>, <built-in function truediv>)\n",
      "(100, 50, 3, 1, 3, 6) (<built-in function add>, <built-in function mul>, <built-in function truediv>, <built-in function mul>, <built-in function add>)\n",
      "(100, 50, 3, 1, 3, 6) (<built-in function add>, <built-in function mul>, <built-in function truediv>, <built-in function mul>, <built-in function sub>)\n",
      "(100, 50, 3, 1, 3, 6) (<built-in function add>, <built-in function mul>, <built-in function truediv>, <built-in function mul>, <built-in function mul>)\n",
      "(100, 50, 3, 1, 3, 6) (<built-in function add>, <built-in function mul>, <built-in function truediv>, <built-in function mul>, <built-in function truediv>)\n",
      "(100, 50, 3, 1, 3, 6) (<built-in function add>, <built-in function mul>, <built-in function truediv>, <built-in function truediv>, <built-in function add>)\n",
      "(100, 50, 3, 1, 3, 6) (<built-in function add>, <built-in function mul>, <built-in function truediv>, <built-in function truediv>, <built-in function sub>)\n",
      "(100, 50, 3, 1, 3, 6) (<built-in function add>, <built-in function mul>, <built-in function truediv>, <built-in function truediv>, <built-in function mul>)\n",
      "(100, 50, 3, 1, 3, 6) (<built-in function add>, <built-in function mul>, <built-in function truediv>, <built-in function truediv>, <built-in function truediv>)\n",
      "(100, 50, 3, 1, 3, 6) (<built-in function add>, <built-in function truediv>, <built-in function add>, <built-in function add>, <built-in function add>)\n",
      "(100, 50, 3, 1, 3, 6) (<built-in function add>, <built-in function truediv>, <built-in function add>, <built-in function add>, <built-in function sub>)\n",
      "(100, 50, 3, 1, 3, 6) (<built-in function add>, <built-in function truediv>, <built-in function add>, <built-in function add>, <built-in function mul>)\n",
      "(100, 50, 3, 1, 3, 6) (<built-in function add>, <built-in function truediv>, <built-in function add>, <built-in function add>, <built-in function truediv>)\n",
      "(100, 50, 3, 1, 3, 6) (<built-in function add>, <built-in function truediv>, <built-in function add>, <built-in function sub>, <built-in function add>)\n",
      "(100, 50, 3, 1, 3, 6) (<built-in function add>, <built-in function truediv>, <built-in function add>, <built-in function sub>, <built-in function sub>)\n",
      "(100, 50, 3, 1, 3, 6) (<built-in function add>, <built-in function truediv>, <built-in function add>, <built-in function sub>, <built-in function mul>)\n",
      "(100, 50, 3, 1, 3, 6) (<built-in function add>, <built-in function truediv>, <built-in function add>, <built-in function sub>, <built-in function truediv>)\n",
      "(100, 50, 3, 1, 3, 6) (<built-in function add>, <built-in function truediv>, <built-in function add>, <built-in function mul>, <built-in function add>)\n",
      "(100, 50, 3, 1, 3, 6) (<built-in function add>, <built-in function truediv>, <built-in function add>, <built-in function mul>, <built-in function sub>)\n",
      "(100, 50, 3, 1, 3, 6) (<built-in function add>, <built-in function truediv>, <built-in function add>, <built-in function mul>, <built-in function mul>)\n",
      "(100, 50, 3, 1, 3, 6) (<built-in function add>, <built-in function truediv>, <built-in function add>, <built-in function mul>, <built-in function truediv>)\n",
      "(100, 50, 3, 1, 3, 6) (<built-in function add>, <built-in function truediv>, <built-in function add>, <built-in function truediv>, <built-in function add>)\n",
      "(100, 50, 3, 1, 3, 6) (<built-in function add>, <built-in function truediv>, <built-in function add>, <built-in function truediv>, <built-in function sub>)\n",
      "(100, 50, 3, 1, 3, 6) (<built-in function add>, <built-in function truediv>, <built-in function add>, <built-in function truediv>, <built-in function mul>)\n",
      "(100, 50, 3, 1, 3, 6) (<built-in function add>, <built-in function truediv>, <built-in function add>, <built-in function truediv>, <built-in function truediv>)\n",
      "(100, 50, 3, 1, 3, 6) (<built-in function add>, <built-in function truediv>, <built-in function sub>, <built-in function add>, <built-in function add>)\n",
      "(100, 50, 3, 1, 3, 6) (<built-in function add>, <built-in function truediv>, <built-in function sub>, <built-in function add>, <built-in function sub>)\n",
      "(100, 50, 3, 1, 3, 6) (<built-in function add>, <built-in function truediv>, <built-in function sub>, <built-in function add>, <built-in function mul>)\n",
      "(100, 50, 3, 1, 3, 6) (<built-in function add>, <built-in function truediv>, <built-in function sub>, <built-in function add>, <built-in function truediv>)\n",
      "(100, 50, 3, 1, 3, 6) (<built-in function add>, <built-in function truediv>, <built-in function sub>, <built-in function sub>, <built-in function add>)\n",
      "(100, 50, 3, 1, 3, 6) (<built-in function add>, <built-in function truediv>, <built-in function sub>, <built-in function sub>, <built-in function sub>)\n",
      "(100, 50, 3, 1, 3, 6) (<built-in function add>, <built-in function truediv>, <built-in function sub>, <built-in function sub>, <built-in function mul>)\n",
      "(100, 50, 3, 1, 3, 6) (<built-in function add>, <built-in function truediv>, <built-in function sub>, <built-in function sub>, <built-in function truediv>)\n",
      "(100, 50, 3, 1, 3, 6) (<built-in function add>, <built-in function truediv>, <built-in function sub>, <built-in function mul>, <built-in function add>)\n",
      "(100, 50, 3, 1, 3, 6) (<built-in function add>, <built-in function truediv>, <built-in function sub>, <built-in function mul>, <built-in function sub>)\n",
      "(100, 50, 3, 1, 3, 6) (<built-in function add>, <built-in function truediv>, <built-in function sub>, <built-in function mul>, <built-in function mul>)\n",
      "(100, 50, 3, 1, 3, 6) (<built-in function add>, <built-in function truediv>, <built-in function sub>, <built-in function mul>, <built-in function truediv>)\n",
      "(100, 50, 3, 1, 3, 6) (<built-in function add>, <built-in function truediv>, <built-in function sub>, <built-in function truediv>, <built-in function add>)\n",
      "(100, 50, 3, 1, 3, 6) (<built-in function add>, <built-in function truediv>, <built-in function sub>, <built-in function truediv>, <built-in function sub>)\n",
      "(100, 50, 3, 1, 3, 6) (<built-in function add>, <built-in function truediv>, <built-in function sub>, <built-in function truediv>, <built-in function mul>)\n",
      "(100, 50, 3, 1, 3, 6) (<built-in function add>, <built-in function truediv>, <built-in function sub>, <built-in function truediv>, <built-in function truediv>)\n",
      "(100, 50, 3, 1, 3, 6) (<built-in function add>, <built-in function truediv>, <built-in function mul>, <built-in function add>, <built-in function add>)\n",
      "(100, 50, 3, 1, 3, 6) (<built-in function add>, <built-in function truediv>, <built-in function mul>, <built-in function add>, <built-in function sub>)\n",
      "(100, 50, 3, 1, 3, 6) (<built-in function add>, <built-in function truediv>, <built-in function mul>, <built-in function add>, <built-in function mul>)\n",
      "(100, 50, 3, 1, 3, 6) (<built-in function add>, <built-in function truediv>, <built-in function mul>, <built-in function add>, <built-in function truediv>)\n",
      "(100, 50, 3, 1, 3, 6) (<built-in function add>, <built-in function truediv>, <built-in function mul>, <built-in function sub>, <built-in function add>)\n",
      "(100, 50, 3, 1, 3, 6) (<built-in function add>, <built-in function truediv>, <built-in function mul>, <built-in function sub>, <built-in function sub>)\n",
      "(100, 50, 3, 1, 3, 6) (<built-in function add>, <built-in function truediv>, <built-in function mul>, <built-in function sub>, <built-in function mul>)\n",
      "(100, 50, 3, 1, 3, 6) (<built-in function add>, <built-in function truediv>, <built-in function mul>, <built-in function sub>, <built-in function truediv>)\n",
      "(100, 50, 3, 1, 3, 6) (<built-in function add>, <built-in function truediv>, <built-in function mul>, <built-in function mul>, <built-in function add>)\n",
      "(100, 50, 3, 1, 3, 6) (<built-in function add>, <built-in function truediv>, <built-in function mul>, <built-in function mul>, <built-in function sub>)\n",
      "(100, 50, 3, 1, 3, 6) (<built-in function add>, <built-in function truediv>, <built-in function mul>, <built-in function mul>, <built-in function mul>)\n",
      "(100, 50, 3, 1, 3, 6) (<built-in function add>, <built-in function truediv>, <built-in function mul>, <built-in function mul>, <built-in function truediv>)\n",
      "(100, 50, 3, 1, 3, 6) (<built-in function add>, <built-in function truediv>, <built-in function mul>, <built-in function truediv>, <built-in function add>)\n",
      "(100, 50, 3, 1, 3, 6) (<built-in function add>, <built-in function truediv>, <built-in function mul>, <built-in function truediv>, <built-in function sub>)\n",
      "(100, 50, 3, 1, 3, 6) (<built-in function add>, <built-in function truediv>, <built-in function mul>, <built-in function truediv>, <built-in function mul>)\n",
      "(100, 50, 3, 1, 3, 6) (<built-in function add>, <built-in function truediv>, <built-in function mul>, <built-in function truediv>, <built-in function truediv>)\n",
      "(100, 50, 3, 1, 3, 6) (<built-in function add>, <built-in function truediv>, <built-in function truediv>, <built-in function add>, <built-in function add>)\n",
      "(100, 50, 3, 1, 3, 6) (<built-in function add>, <built-in function truediv>, <built-in function truediv>, <built-in function add>, <built-in function sub>)\n",
      "(100, 50, 3, 1, 3, 6) (<built-in function add>, <built-in function truediv>, <built-in function truediv>, <built-in function add>, <built-in function mul>)\n",
      "(100, 50, 3, 1, 3, 6) (<built-in function add>, <built-in function truediv>, <built-in function truediv>, <built-in function add>, <built-in function truediv>)\n",
      "(100, 50, 3, 1, 3, 6) (<built-in function add>, <built-in function truediv>, <built-in function truediv>, <built-in function sub>, <built-in function add>)\n",
      "(100, 50, 3, 1, 3, 6) (<built-in function add>, <built-in function truediv>, <built-in function truediv>, <built-in function sub>, <built-in function sub>)\n",
      "(100, 50, 3, 1, 3, 6) (<built-in function add>, <built-in function truediv>, <built-in function truediv>, <built-in function sub>, <built-in function mul>)\n",
      "(100, 50, 3, 1, 3, 6) (<built-in function add>, <built-in function truediv>, <built-in function truediv>, <built-in function sub>, <built-in function truediv>)\n",
      "(100, 50, 3, 1, 3, 6) (<built-in function add>, <built-in function truediv>, <built-in function truediv>, <built-in function mul>, <built-in function add>)\n",
      "(100, 50, 3, 1, 3, 6) (<built-in function add>, <built-in function truediv>, <built-in function truediv>, <built-in function mul>, <built-in function sub>)\n",
      "(100, 50, 3, 1, 3, 6) (<built-in function add>, <built-in function truediv>, <built-in function truediv>, <built-in function mul>, <built-in function mul>)\n",
      "(100, 50, 3, 1, 3, 6) (<built-in function add>, <built-in function truediv>, <built-in function truediv>, <built-in function mul>, <built-in function truediv>)\n",
      "(100, 50, 3, 1, 3, 6) (<built-in function add>, <built-in function truediv>, <built-in function truediv>, <built-in function truediv>, <built-in function add>)\n",
      "(100, 50, 3, 1, 3, 6) (<built-in function add>, <built-in function truediv>, <built-in function truediv>, <built-in function truediv>, <built-in function sub>)\n",
      "(100, 50, 3, 1, 3, 6) (<built-in function add>, <built-in function truediv>, <built-in function truediv>, <built-in function truediv>, <built-in function mul>)\n",
      "(100, 50, 3, 1, 3, 6) (<built-in function add>, <built-in function truediv>, <built-in function truediv>, <built-in function truediv>, <built-in function truediv>)\n",
      "(100, 50, 3, 1, 3, 6) (<built-in function sub>, <built-in function add>, <built-in function add>, <built-in function add>, <built-in function add>)\n",
      "(100, 50, 3, 1, 3, 6) (<built-in function sub>, <built-in function add>, <built-in function add>, <built-in function add>, <built-in function sub>)\n",
      "(100, 50, 3, 1, 3, 6) (<built-in function sub>, <built-in function add>, <built-in function add>, <built-in function add>, <built-in function mul>)\n",
      "(100, 50, 3, 1, 3, 6) (<built-in function sub>, <built-in function add>, <built-in function add>, <built-in function add>, <built-in function truediv>)\n",
      "(100, 50, 3, 1, 3, 6) (<built-in function sub>, <built-in function add>, <built-in function add>, <built-in function sub>, <built-in function add>)\n",
      "(100, 50, 3, 1, 3, 6) (<built-in function sub>, <built-in function add>, <built-in function add>, <built-in function sub>, <built-in function sub>)\n",
      "(100, 50, 3, 1, 3, 6) (<built-in function sub>, <built-in function add>, <built-in function add>, <built-in function sub>, <built-in function mul>)\n",
      "(100, 50, 3, 1, 3, 6) (<built-in function sub>, <built-in function add>, <built-in function add>, <built-in function sub>, <built-in function truediv>)\n",
      "(100, 50, 3, 1, 3, 6) (<built-in function sub>, <built-in function add>, <built-in function add>, <built-in function mul>, <built-in function add>)\n",
      "(100, 50, 3, 1, 3, 6) (<built-in function sub>, <built-in function add>, <built-in function add>, <built-in function mul>, <built-in function sub>)\n",
      "(100, 50, 3, 1, 3, 6) (<built-in function sub>, <built-in function add>, <built-in function add>, <built-in function mul>, <built-in function mul>)\n",
      "(100, 50, 3, 1, 3, 6) (<built-in function sub>, <built-in function add>, <built-in function add>, <built-in function mul>, <built-in function truediv>)\n",
      "(100, 50, 3, 1, 3, 6) (<built-in function sub>, <built-in function add>, <built-in function add>, <built-in function truediv>, <built-in function add>)\n",
      "(100, 50, 3, 1, 3, 6) (<built-in function sub>, <built-in function add>, <built-in function add>, <built-in function truediv>, <built-in function sub>)\n",
      "(100, 50, 3, 1, 3, 6) (<built-in function sub>, <built-in function add>, <built-in function add>, <built-in function truediv>, <built-in function mul>)\n",
      "(100, 50, 3, 1, 3, 6) (<built-in function sub>, <built-in function add>, <built-in function add>, <built-in function truediv>, <built-in function truediv>)\n",
      "(100, 50, 3, 1, 3, 6) (<built-in function sub>, <built-in function add>, <built-in function sub>, <built-in function add>, <built-in function add>)\n",
      "(100, 50, 3, 1, 3, 6) (<built-in function sub>, <built-in function add>, <built-in function sub>, <built-in function add>, <built-in function sub>)\n",
      "(100, 50, 3, 1, 3, 6) (<built-in function sub>, <built-in function add>, <built-in function sub>, <built-in function add>, <built-in function mul>)\n",
      "(100, 50, 3, 1, 3, 6) (<built-in function sub>, <built-in function add>, <built-in function sub>, <built-in function add>, <built-in function truediv>)\n",
      "(100, 50, 3, 1, 3, 6) (<built-in function sub>, <built-in function add>, <built-in function sub>, <built-in function sub>, <built-in function add>)\n",
      "(100, 50, 3, 1, 3, 6) (<built-in function sub>, <built-in function add>, <built-in function sub>, <built-in function sub>, <built-in function sub>)\n",
      "(100, 50, 3, 1, 3, 6) (<built-in function sub>, <built-in function add>, <built-in function sub>, <built-in function sub>, <built-in function mul>)\n",
      "(100, 50, 3, 1, 3, 6) (<built-in function sub>, <built-in function add>, <built-in function sub>, <built-in function sub>, <built-in function truediv>)\n",
      "(100, 50, 3, 1, 3, 6) (<built-in function sub>, <built-in function add>, <built-in function sub>, <built-in function mul>, <built-in function add>)\n",
      "(100, 50, 3, 1, 3, 6) (<built-in function sub>, <built-in function add>, <built-in function sub>, <built-in function mul>, <built-in function sub>)\n",
      "(100, 50, 3, 1, 3, 6) (<built-in function sub>, <built-in function add>, <built-in function sub>, <built-in function mul>, <built-in function mul>)\n",
      "(100, 50, 3, 1, 3, 6) (<built-in function sub>, <built-in function add>, <built-in function sub>, <built-in function mul>, <built-in function truediv>)\n",
      "(100, 50, 3, 1, 3, 6) (<built-in function sub>, <built-in function add>, <built-in function sub>, <built-in function truediv>, <built-in function add>)\n",
      "(100, 50, 3, 1, 3, 6) (<built-in function sub>, <built-in function add>, <built-in function sub>, <built-in function truediv>, <built-in function sub>)\n",
      "(100, 50, 3, 1, 3, 6) (<built-in function sub>, <built-in function add>, <built-in function sub>, <built-in function truediv>, <built-in function mul>)\n",
      "(100, 50, 3, 1, 3, 6) (<built-in function sub>, <built-in function add>, <built-in function sub>, <built-in function truediv>, <built-in function truediv>)\n",
      "(100, 50, 3, 1, 3, 6) (<built-in function sub>, <built-in function add>, <built-in function mul>, <built-in function add>, <built-in function add>)\n",
      "(100, 50, 3, 1, 3, 6) (<built-in function sub>, <built-in function add>, <built-in function mul>, <built-in function add>, <built-in function sub>)\n",
      "(100, 50, 3, 1, 3, 6) (<built-in function sub>, <built-in function add>, <built-in function mul>, <built-in function add>, <built-in function mul>)\n",
      "(100, 50, 3, 1, 3, 6) (<built-in function sub>, <built-in function add>, <built-in function mul>, <built-in function add>, <built-in function truediv>)\n",
      "(100, 50, 3, 1, 3, 6) (<built-in function sub>, <built-in function add>, <built-in function mul>, <built-in function sub>, <built-in function add>)\n",
      "(100, 50, 3, 1, 3, 6) (<built-in function sub>, <built-in function add>, <built-in function mul>, <built-in function sub>, <built-in function sub>)\n",
      "(100, 50, 3, 1, 3, 6) (<built-in function sub>, <built-in function add>, <built-in function mul>, <built-in function sub>, <built-in function mul>)\n",
      "(100, 50, 3, 1, 3, 6) (<built-in function sub>, <built-in function add>, <built-in function mul>, <built-in function sub>, <built-in function truediv>)\n",
      "(100, 50, 3, 1, 3, 6) (<built-in function sub>, <built-in function add>, <built-in function mul>, <built-in function mul>, <built-in function add>)\n",
      "(100, 50, 3, 1, 3, 6) (<built-in function sub>, <built-in function add>, <built-in function mul>, <built-in function mul>, <built-in function sub>)\n",
      "(100, 50, 3, 1, 3, 6) (<built-in function sub>, <built-in function add>, <built-in function mul>, <built-in function mul>, <built-in function mul>)\n",
      "(100, 50, 3, 1, 3, 6) (<built-in function sub>, <built-in function add>, <built-in function mul>, <built-in function mul>, <built-in function truediv>)\n",
      "(100, 50, 3, 1, 3, 6) (<built-in function sub>, <built-in function add>, <built-in function mul>, <built-in function truediv>, <built-in function add>)\n",
      "(100, 50, 3, 1, 3, 6) (<built-in function sub>, <built-in function add>, <built-in function mul>, <built-in function truediv>, <built-in function sub>)\n",
      "(100, 50, 3, 1, 3, 6) (<built-in function sub>, <built-in function add>, <built-in function mul>, <built-in function truediv>, <built-in function mul>)\n",
      "(100, 50, 3, 1, 3, 6) (<built-in function sub>, <built-in function add>, <built-in function mul>, <built-in function truediv>, <built-in function truediv>)\n",
      "(100, 50, 3, 1, 3, 6) (<built-in function sub>, <built-in function add>, <built-in function truediv>, <built-in function add>, <built-in function add>)\n",
      "(100, 50, 3, 1, 3, 6) (<built-in function sub>, <built-in function add>, <built-in function truediv>, <built-in function add>, <built-in function sub>)\n",
      "(100, 50, 3, 1, 3, 6) (<built-in function sub>, <built-in function add>, <built-in function truediv>, <built-in function add>, <built-in function mul>)\n",
      "(100, 50, 3, 1, 3, 6) (<built-in function sub>, <built-in function add>, <built-in function truediv>, <built-in function add>, <built-in function truediv>)\n",
      "(100, 50, 3, 1, 3, 6) (<built-in function sub>, <built-in function add>, <built-in function truediv>, <built-in function sub>, <built-in function add>)\n",
      "(100, 50, 3, 1, 3, 6) (<built-in function sub>, <built-in function add>, <built-in function truediv>, <built-in function sub>, <built-in function sub>)\n",
      "(100, 50, 3, 1, 3, 6) (<built-in function sub>, <built-in function add>, <built-in function truediv>, <built-in function sub>, <built-in function mul>)\n",
      "(100, 50, 3, 1, 3, 6) (<built-in function sub>, <built-in function add>, <built-in function truediv>, <built-in function sub>, <built-in function truediv>)\n",
      "(100, 50, 3, 1, 3, 6) (<built-in function sub>, <built-in function add>, <built-in function truediv>, <built-in function mul>, <built-in function add>)\n",
      "(100, 50, 3, 1, 3, 6) (<built-in function sub>, <built-in function add>, <built-in function truediv>, <built-in function mul>, <built-in function sub>)\n",
      "(100, 50, 3, 1, 3, 6) (<built-in function sub>, <built-in function add>, <built-in function truediv>, <built-in function mul>, <built-in function mul>)\n",
      "(100, 50, 3, 1, 3, 6) (<built-in function sub>, <built-in function add>, <built-in function truediv>, <built-in function mul>, <built-in function truediv>)\n",
      "(100, 50, 3, 1, 3, 6) (<built-in function sub>, <built-in function add>, <built-in function truediv>, <built-in function truediv>, <built-in function add>)\n",
      "(100, 50, 3, 1, 3, 6) (<built-in function sub>, <built-in function add>, <built-in function truediv>, <built-in function truediv>, <built-in function sub>)\n",
      "(100, 50, 3, 1, 3, 6) (<built-in function sub>, <built-in function add>, <built-in function truediv>, <built-in function truediv>, <built-in function mul>)\n",
      "(100, 50, 3, 1, 3, 6) (<built-in function sub>, <built-in function add>, <built-in function truediv>, <built-in function truediv>, <built-in function truediv>)\n",
      "(100, 50, 3, 1, 3, 6) (<built-in function sub>, <built-in function sub>, <built-in function add>, <built-in function add>, <built-in function add>)\n",
      "(100, 50, 3, 1, 3, 6) (<built-in function sub>, <built-in function sub>, <built-in function add>, <built-in function add>, <built-in function sub>)\n",
      "(100, 50, 3, 1, 3, 6) (<built-in function sub>, <built-in function sub>, <built-in function add>, <built-in function add>, <built-in function mul>)\n",
      "(100, 50, 3, 1, 3, 6) (<built-in function sub>, <built-in function sub>, <built-in function add>, <built-in function add>, <built-in function truediv>)\n",
      "(100, 50, 3, 1, 3, 6) (<built-in function sub>, <built-in function sub>, <built-in function add>, <built-in function sub>, <built-in function add>)\n",
      "(100, 50, 3, 1, 3, 6) (<built-in function sub>, <built-in function sub>, <built-in function add>, <built-in function sub>, <built-in function sub>)\n",
      "(100, 50, 3, 1, 3, 6) (<built-in function sub>, <built-in function sub>, <built-in function add>, <built-in function sub>, <built-in function mul>)\n",
      "(100, 50, 3, 1, 3, 6) (<built-in function sub>, <built-in function sub>, <built-in function add>, <built-in function sub>, <built-in function truediv>)\n",
      "(100, 50, 3, 1, 3, 6) (<built-in function sub>, <built-in function sub>, <built-in function add>, <built-in function mul>, <built-in function add>)\n",
      "(100, 50, 3, 1, 3, 6) (<built-in function sub>, <built-in function sub>, <built-in function add>, <built-in function mul>, <built-in function sub>)\n",
      "(100, 50, 3, 1, 3, 6) (<built-in function sub>, <built-in function sub>, <built-in function add>, <built-in function mul>, <built-in function mul>)\n",
      "(100, 50, 3, 1, 3, 6) (<built-in function sub>, <built-in function sub>, <built-in function add>, <built-in function mul>, <built-in function truediv>)\n",
      "(100, 50, 3, 1, 3, 6) (<built-in function sub>, <built-in function sub>, <built-in function add>, <built-in function truediv>, <built-in function add>)\n",
      "(100, 50, 3, 1, 3, 6) (<built-in function sub>, <built-in function sub>, <built-in function add>, <built-in function truediv>, <built-in function sub>)\n",
      "(100, 50, 3, 1, 3, 6) (<built-in function sub>, <built-in function sub>, <built-in function add>, <built-in function truediv>, <built-in function mul>)\n",
      "(100, 50, 3, 1, 3, 6) (<built-in function sub>, <built-in function sub>, <built-in function add>, <built-in function truediv>, <built-in function truediv>)\n",
      "(100, 50, 3, 1, 3, 6) (<built-in function sub>, <built-in function sub>, <built-in function sub>, <built-in function add>, <built-in function add>)\n",
      "(100, 50, 3, 1, 3, 6) (<built-in function sub>, <built-in function sub>, <built-in function sub>, <built-in function add>, <built-in function sub>)\n",
      "(100, 50, 3, 1, 3, 6) (<built-in function sub>, <built-in function sub>, <built-in function sub>, <built-in function add>, <built-in function mul>)\n",
      "(100, 50, 3, 1, 3, 6) (<built-in function sub>, <built-in function sub>, <built-in function sub>, <built-in function add>, <built-in function truediv>)\n",
      "(100, 50, 3, 1, 3, 6) (<built-in function sub>, <built-in function sub>, <built-in function sub>, <built-in function sub>, <built-in function add>)\n",
      "(100, 50, 3, 1, 3, 6) (<built-in function sub>, <built-in function sub>, <built-in function sub>, <built-in function sub>, <built-in function sub>)\n",
      "(100, 50, 3, 1, 3, 6) (<built-in function sub>, <built-in function sub>, <built-in function sub>, <built-in function sub>, <built-in function mul>)\n",
      "(100, 50, 3, 1, 3, 6) (<built-in function sub>, <built-in function sub>, <built-in function sub>, <built-in function sub>, <built-in function truediv>)\n",
      "(100, 50, 3, 1, 3, 6) (<built-in function sub>, <built-in function sub>, <built-in function sub>, <built-in function mul>, <built-in function add>)\n",
      "(100, 50, 3, 1, 3, 6) (<built-in function sub>, <built-in function sub>, <built-in function sub>, <built-in function mul>, <built-in function sub>)\n",
      "(100, 50, 3, 1, 3, 6) (<built-in function sub>, <built-in function sub>, <built-in function sub>, <built-in function mul>, <built-in function mul>)\n",
      "(100, 50, 3, 1, 3, 6) (<built-in function sub>, <built-in function sub>, <built-in function sub>, <built-in function mul>, <built-in function truediv>)\n",
      "(100, 50, 3, 1, 3, 6) (<built-in function sub>, <built-in function sub>, <built-in function sub>, <built-in function truediv>, <built-in function add>)\n",
      "(100, 50, 3, 1, 3, 6) (<built-in function sub>, <built-in function sub>, <built-in function sub>, <built-in function truediv>, <built-in function sub>)\n",
      "(100, 50, 3, 1, 3, 6) (<built-in function sub>, <built-in function sub>, <built-in function sub>, <built-in function truediv>, <built-in function mul>)\n",
      "(100, 50, 3, 1, 3, 6) (<built-in function sub>, <built-in function sub>, <built-in function sub>, <built-in function truediv>, <built-in function truediv>)\n",
      "(100, 50, 3, 1, 3, 6) (<built-in function sub>, <built-in function sub>, <built-in function mul>, <built-in function add>, <built-in function add>)\n",
      "(100, 50, 3, 1, 3, 6) (<built-in function sub>, <built-in function sub>, <built-in function mul>, <built-in function add>, <built-in function sub>)\n",
      "(100, 50, 3, 1, 3, 6) (<built-in function sub>, <built-in function sub>, <built-in function mul>, <built-in function add>, <built-in function mul>)\n",
      "(100, 50, 3, 1, 3, 6) (<built-in function sub>, <built-in function sub>, <built-in function mul>, <built-in function add>, <built-in function truediv>)\n",
      "(100, 50, 3, 1, 3, 6) (<built-in function sub>, <built-in function sub>, <built-in function mul>, <built-in function sub>, <built-in function add>)\n",
      "(100, 50, 3, 1, 3, 6) (<built-in function sub>, <built-in function sub>, <built-in function mul>, <built-in function sub>, <built-in function sub>)\n",
      "(100, 50, 3, 1, 3, 6) (<built-in function sub>, <built-in function sub>, <built-in function mul>, <built-in function sub>, <built-in function mul>)\n",
      "(100, 50, 3, 1, 3, 6) (<built-in function sub>, <built-in function sub>, <built-in function mul>, <built-in function sub>, <built-in function truediv>)\n",
      "(100, 50, 3, 1, 3, 6) (<built-in function sub>, <built-in function sub>, <built-in function mul>, <built-in function mul>, <built-in function add>)\n",
      "(100, 50, 3, 1, 3, 6) (<built-in function sub>, <built-in function sub>, <built-in function mul>, <built-in function mul>, <built-in function sub>)\n",
      "(100, 50, 3, 1, 3, 6) (<built-in function sub>, <built-in function sub>, <built-in function mul>, <built-in function mul>, <built-in function mul>)\n",
      "(100, 50, 3, 1, 3, 6) (<built-in function sub>, <built-in function sub>, <built-in function mul>, <built-in function mul>, <built-in function truediv>)\n",
      "(100, 50, 3, 1, 3, 6) (<built-in function sub>, <built-in function sub>, <built-in function mul>, <built-in function truediv>, <built-in function add>)\n",
      "(100, 50, 3, 1, 3, 6) (<built-in function sub>, <built-in function sub>, <built-in function mul>, <built-in function truediv>, <built-in function sub>)\n",
      "(100, 50, 3, 1, 3, 6) (<built-in function sub>, <built-in function sub>, <built-in function mul>, <built-in function truediv>, <built-in function mul>)\n",
      "(100, 50, 3, 1, 3, 6) (<built-in function sub>, <built-in function sub>, <built-in function mul>, <built-in function truediv>, <built-in function truediv>)\n",
      "(100, 50, 3, 1, 3, 6) (<built-in function sub>, <built-in function sub>, <built-in function truediv>, <built-in function add>, <built-in function add>)\n",
      "(100, 50, 3, 1, 3, 6) (<built-in function sub>, <built-in function sub>, <built-in function truediv>, <built-in function add>, <built-in function sub>)\n",
      "(100, 50, 3, 1, 3, 6) (<built-in function sub>, <built-in function sub>, <built-in function truediv>, <built-in function add>, <built-in function mul>)\n",
      "(100, 50, 3, 1, 3, 6) (<built-in function sub>, <built-in function sub>, <built-in function truediv>, <built-in function add>, <built-in function truediv>)\n",
      "(100, 50, 3, 1, 3, 6) (<built-in function sub>, <built-in function sub>, <built-in function truediv>, <built-in function sub>, <built-in function add>)\n",
      "(100, 50, 3, 1, 3, 6) (<built-in function sub>, <built-in function sub>, <built-in function truediv>, <built-in function sub>, <built-in function sub>)\n",
      "(100, 50, 3, 1, 3, 6) (<built-in function sub>, <built-in function sub>, <built-in function truediv>, <built-in function sub>, <built-in function mul>)\n",
      "(100, 50, 3, 1, 3, 6) (<built-in function sub>, <built-in function sub>, <built-in function truediv>, <built-in function sub>, <built-in function truediv>)\n",
      "(100, 50, 3, 1, 3, 6) (<built-in function sub>, <built-in function sub>, <built-in function truediv>, <built-in function mul>, <built-in function add>)\n",
      "(100, 50, 3, 1, 3, 6) (<built-in function sub>, <built-in function sub>, <built-in function truediv>, <built-in function mul>, <built-in function sub>)\n",
      "(100, 50, 3, 1, 3, 6) (<built-in function sub>, <built-in function sub>, <built-in function truediv>, <built-in function mul>, <built-in function mul>)\n",
      "(100, 50, 3, 1, 3, 6) (<built-in function sub>, <built-in function sub>, <built-in function truediv>, <built-in function mul>, <built-in function truediv>)\n",
      "(100, 50, 3, 1, 3, 6) (<built-in function sub>, <built-in function sub>, <built-in function truediv>, <built-in function truediv>, <built-in function add>)\n",
      "(100, 50, 3, 1, 3, 6) (<built-in function sub>, <built-in function sub>, <built-in function truediv>, <built-in function truediv>, <built-in function sub>)\n",
      "(100, 50, 3, 1, 3, 6) (<built-in function sub>, <built-in function sub>, <built-in function truediv>, <built-in function truediv>, <built-in function mul>)\n",
      "(100, 50, 3, 1, 3, 6) (<built-in function sub>, <built-in function sub>, <built-in function truediv>, <built-in function truediv>, <built-in function truediv>)\n",
      "(100, 50, 3, 1, 3, 6) (<built-in function sub>, <built-in function mul>, <built-in function add>, <built-in function add>, <built-in function add>)\n",
      "(100, 50, 3, 1, 3, 6) (<built-in function sub>, <built-in function mul>, <built-in function add>, <built-in function add>, <built-in function sub>)\n",
      "(100, 50, 3, 1, 3, 6) (<built-in function sub>, <built-in function mul>, <built-in function add>, <built-in function add>, <built-in function mul>)\n",
      "(100, 50, 3, 1, 3, 6) (<built-in function sub>, <built-in function mul>, <built-in function add>, <built-in function add>, <built-in function truediv>)\n",
      "(100, 50, 3, 1, 3, 6) (<built-in function sub>, <built-in function mul>, <built-in function add>, <built-in function sub>, <built-in function add>)\n",
      "(100, 50, 3, 1, 3, 6) (<built-in function sub>, <built-in function mul>, <built-in function add>, <built-in function sub>, <built-in function sub>)\n",
      "(100, 50, 3, 1, 3, 6) (<built-in function sub>, <built-in function mul>, <built-in function add>, <built-in function sub>, <built-in function mul>)\n",
      "(100, 50, 3, 1, 3, 6) (<built-in function sub>, <built-in function mul>, <built-in function add>, <built-in function sub>, <built-in function truediv>)\n",
      "(100, 50, 3, 1, 3, 6) (<built-in function sub>, <built-in function mul>, <built-in function add>, <built-in function mul>, <built-in function add>)\n",
      "(100, 50, 3, 1, 3, 6) (<built-in function sub>, <built-in function mul>, <built-in function add>, <built-in function mul>, <built-in function sub>)\n",
      "(100, 50, 3, 1, 3, 6) (<built-in function sub>, <built-in function mul>, <built-in function add>, <built-in function mul>, <built-in function mul>)\n",
      "(100, 50, 3, 1, 3, 6) (<built-in function sub>, <built-in function mul>, <built-in function add>, <built-in function mul>, <built-in function truediv>)\n",
      "(100, 50, 3, 1, 3, 6) (<built-in function sub>, <built-in function mul>, <built-in function add>, <built-in function truediv>, <built-in function add>)\n",
      "(100, 50, 3, 1, 3, 6) (<built-in function sub>, <built-in function mul>, <built-in function add>, <built-in function truediv>, <built-in function sub>)\n",
      "(100, 50, 3, 1, 3, 6) (<built-in function sub>, <built-in function mul>, <built-in function add>, <built-in function truediv>, <built-in function mul>)\n",
      "(100, 50, 3, 1, 3, 6) (<built-in function sub>, <built-in function mul>, <built-in function add>, <built-in function truediv>, <built-in function truediv>)\n",
      "(100, 50, 3, 1, 3, 6) (<built-in function sub>, <built-in function mul>, <built-in function sub>, <built-in function add>, <built-in function add>)\n",
      "(100, 50, 3, 1, 3, 6) (<built-in function sub>, <built-in function mul>, <built-in function sub>, <built-in function add>, <built-in function sub>)\n",
      "(100, 50, 3, 1, 3, 6) (<built-in function sub>, <built-in function mul>, <built-in function sub>, <built-in function add>, <built-in function mul>)\n",
      "(100, 50, 3, 1, 3, 6) (<built-in function sub>, <built-in function mul>, <built-in function sub>, <built-in function add>, <built-in function truediv>)\n",
      "(100, 50, 3, 1, 3, 6) (<built-in function sub>, <built-in function mul>, <built-in function sub>, <built-in function sub>, <built-in function add>)\n",
      "(100, 50, 3, 1, 3, 6) (<built-in function sub>, <built-in function mul>, <built-in function sub>, <built-in function sub>, <built-in function sub>)\n",
      "(100, 50, 3, 1, 3, 6) (<built-in function sub>, <built-in function mul>, <built-in function sub>, <built-in function sub>, <built-in function mul>)\n",
      "(100, 50, 3, 1, 3, 6) (<built-in function sub>, <built-in function mul>, <built-in function sub>, <built-in function sub>, <built-in function truediv>)\n",
      "(100, 50, 3, 1, 3, 6) (<built-in function sub>, <built-in function mul>, <built-in function sub>, <built-in function mul>, <built-in function add>)\n",
      "(100, 50, 3, 1, 3, 6) (<built-in function sub>, <built-in function mul>, <built-in function sub>, <built-in function mul>, <built-in function sub>)\n",
      "(100, 50, 3, 1, 3, 6) (<built-in function sub>, <built-in function mul>, <built-in function sub>, <built-in function mul>, <built-in function mul>)\n",
      "(100, 50, 3, 1, 3, 6) (<built-in function sub>, <built-in function mul>, <built-in function sub>, <built-in function mul>, <built-in function truediv>)\n",
      "(100, 50, 3, 1, 3, 6) (<built-in function sub>, <built-in function mul>, <built-in function sub>, <built-in function truediv>, <built-in function add>)\n",
      "(100, 50, 3, 1, 3, 6) (<built-in function sub>, <built-in function mul>, <built-in function sub>, <built-in function truediv>, <built-in function sub>)\n",
      "(100, 50, 3, 1, 3, 6) (<built-in function sub>, <built-in function mul>, <built-in function sub>, <built-in function truediv>, <built-in function mul>)\n",
      "(100, 50, 3, 1, 3, 6) (<built-in function sub>, <built-in function mul>, <built-in function sub>, <built-in function truediv>, <built-in function truediv>)\n",
      "(100, 50, 3, 1, 3, 6) (<built-in function sub>, <built-in function mul>, <built-in function mul>, <built-in function add>, <built-in function add>)\n",
      "(100, 50, 3, 1, 3, 6) (<built-in function sub>, <built-in function mul>, <built-in function mul>, <built-in function add>, <built-in function sub>)\n",
      "(100, 50, 3, 1, 3, 6) (<built-in function sub>, <built-in function mul>, <built-in function mul>, <built-in function add>, <built-in function mul>)\n",
      "(100, 50, 3, 1, 3, 6) (<built-in function sub>, <built-in function mul>, <built-in function mul>, <built-in function add>, <built-in function truediv>)\n",
      "(100, 50, 3, 1, 3, 6) (<built-in function sub>, <built-in function mul>, <built-in function mul>, <built-in function sub>, <built-in function add>)\n",
      "(100, 50, 3, 1, 3, 6) (<built-in function sub>, <built-in function mul>, <built-in function mul>, <built-in function sub>, <built-in function sub>)\n",
      "(100, 50, 3, 1, 3, 6) (<built-in function sub>, <built-in function mul>, <built-in function mul>, <built-in function sub>, <built-in function mul>)\n",
      "(100, 50, 3, 1, 3, 6) (<built-in function sub>, <built-in function mul>, <built-in function mul>, <built-in function sub>, <built-in function truediv>)\n",
      "(100, 50, 3, 1, 3, 6) (<built-in function sub>, <built-in function mul>, <built-in function mul>, <built-in function mul>, <built-in function add>)\n",
      "(100, 50, 3, 1, 3, 6) (<built-in function sub>, <built-in function mul>, <built-in function mul>, <built-in function mul>, <built-in function sub>)\n",
      "(100, 50, 3, 1, 3, 6) (<built-in function sub>, <built-in function mul>, <built-in function mul>, <built-in function mul>, <built-in function mul>)\n",
      "(100, 50, 3, 1, 3, 6) (<built-in function sub>, <built-in function mul>, <built-in function mul>, <built-in function mul>, <built-in function truediv>)\n",
      "(100, 50, 3, 1, 3, 6) (<built-in function sub>, <built-in function mul>, <built-in function mul>, <built-in function truediv>, <built-in function add>)\n",
      "(100, 50, 3, 1, 3, 6) (<built-in function sub>, <built-in function mul>, <built-in function mul>, <built-in function truediv>, <built-in function sub>)\n",
      "(100, 50, 3, 1, 3, 6) (<built-in function sub>, <built-in function mul>, <built-in function mul>, <built-in function truediv>, <built-in function mul>)\n",
      "(100, 50, 3, 1, 3, 6) (<built-in function sub>, <built-in function mul>, <built-in function mul>, <built-in function truediv>, <built-in function truediv>)\n",
      "(100, 50, 3, 1, 3, 6) (<built-in function sub>, <built-in function mul>, <built-in function truediv>, <built-in function add>, <built-in function add>)\n",
      "(100, 50, 3, 1, 3, 6) (<built-in function sub>, <built-in function mul>, <built-in function truediv>, <built-in function add>, <built-in function sub>)\n",
      "(100, 50, 3, 1, 3, 6) (<built-in function sub>, <built-in function mul>, <built-in function truediv>, <built-in function add>, <built-in function mul>)\n",
      "(100, 50, 3, 1, 3, 6) (<built-in function sub>, <built-in function mul>, <built-in function truediv>, <built-in function add>, <built-in function truediv>)\n",
      "(100, 50, 3, 1, 3, 6) (<built-in function sub>, <built-in function mul>, <built-in function truediv>, <built-in function sub>, <built-in function add>)\n",
      "(100, 50, 3, 1, 3, 6) (<built-in function sub>, <built-in function mul>, <built-in function truediv>, <built-in function sub>, <built-in function sub>)\n",
      "(100, 50, 3, 1, 3, 6) (<built-in function sub>, <built-in function mul>, <built-in function truediv>, <built-in function sub>, <built-in function mul>)\n",
      "(100, 50, 3, 1, 3, 6) (<built-in function sub>, <built-in function mul>, <built-in function truediv>, <built-in function sub>, <built-in function truediv>)\n",
      "(100, 50, 3, 1, 3, 6) (<built-in function sub>, <built-in function mul>, <built-in function truediv>, <built-in function mul>, <built-in function add>)\n",
      "(100, 50, 3, 1, 3, 6) (<built-in function sub>, <built-in function mul>, <built-in function truediv>, <built-in function mul>, <built-in function sub>)\n",
      "(100, 50, 3, 1, 3, 6) (<built-in function sub>, <built-in function mul>, <built-in function truediv>, <built-in function mul>, <built-in function mul>)\n",
      "(100, 50, 3, 1, 3, 6) (<built-in function sub>, <built-in function mul>, <built-in function truediv>, <built-in function mul>, <built-in function truediv>)\n",
      "(100, 50, 3, 1, 3, 6) (<built-in function sub>, <built-in function mul>, <built-in function truediv>, <built-in function truediv>, <built-in function add>)\n",
      "(100, 50, 3, 1, 3, 6) (<built-in function sub>, <built-in function mul>, <built-in function truediv>, <built-in function truediv>, <built-in function sub>)\n",
      "(100, 50, 3, 1, 3, 6) (<built-in function sub>, <built-in function mul>, <built-in function truediv>, <built-in function truediv>, <built-in function mul>)\n",
      "(100, 50, 3, 1, 3, 6) (<built-in function sub>, <built-in function mul>, <built-in function truediv>, <built-in function truediv>, <built-in function truediv>)\n",
      "(100, 50, 3, 1, 3, 6) (<built-in function sub>, <built-in function truediv>, <built-in function add>, <built-in function add>, <built-in function add>)\n",
      "(100, 50, 3, 1, 3, 6) (<built-in function sub>, <built-in function truediv>, <built-in function add>, <built-in function add>, <built-in function sub>)\n",
      "(100, 50, 3, 1, 3, 6) (<built-in function sub>, <built-in function truediv>, <built-in function add>, <built-in function add>, <built-in function mul>)\n",
      "(100, 50, 3, 1, 3, 6) (<built-in function sub>, <built-in function truediv>, <built-in function add>, <built-in function add>, <built-in function truediv>)\n",
      "(100, 50, 3, 1, 3, 6) (<built-in function sub>, <built-in function truediv>, <built-in function add>, <built-in function sub>, <built-in function add>)\n",
      "(100, 50, 3, 1, 3, 6) (<built-in function sub>, <built-in function truediv>, <built-in function add>, <built-in function sub>, <built-in function sub>)\n",
      "(100, 50, 3, 1, 3, 6) (<built-in function sub>, <built-in function truediv>, <built-in function add>, <built-in function sub>, <built-in function mul>)\n",
      "(100, 50, 3, 1, 3, 6) (<built-in function sub>, <built-in function truediv>, <built-in function add>, <built-in function sub>, <built-in function truediv>)\n",
      "(100, 50, 3, 1, 3, 6) (<built-in function sub>, <built-in function truediv>, <built-in function add>, <built-in function mul>, <built-in function add>)\n",
      "(100, 50, 3, 1, 3, 6) (<built-in function sub>, <built-in function truediv>, <built-in function add>, <built-in function mul>, <built-in function sub>)\n",
      "(100, 50, 3, 1, 3, 6) (<built-in function sub>, <built-in function truediv>, <built-in function add>, <built-in function mul>, <built-in function mul>)\n",
      "(100, 50, 3, 1, 3, 6) (<built-in function sub>, <built-in function truediv>, <built-in function add>, <built-in function mul>, <built-in function truediv>)\n",
      "(100, 50, 3, 1, 3, 6) (<built-in function sub>, <built-in function truediv>, <built-in function add>, <built-in function truediv>, <built-in function add>)\n",
      "(100, 50, 3, 1, 3, 6) (<built-in function sub>, <built-in function truediv>, <built-in function add>, <built-in function truediv>, <built-in function sub>)\n",
      "(100, 50, 3, 1, 3, 6) (<built-in function sub>, <built-in function truediv>, <built-in function add>, <built-in function truediv>, <built-in function mul>)\n",
      "(100, 50, 3, 1, 3, 6) (<built-in function sub>, <built-in function truediv>, <built-in function add>, <built-in function truediv>, <built-in function truediv>)\n",
      "(100, 50, 3, 1, 3, 6) (<built-in function sub>, <built-in function truediv>, <built-in function sub>, <built-in function add>, <built-in function add>)\n",
      "(100, 50, 3, 1, 3, 6) (<built-in function sub>, <built-in function truediv>, <built-in function sub>, <built-in function add>, <built-in function sub>)\n",
      "(100, 50, 3, 1, 3, 6) (<built-in function sub>, <built-in function truediv>, <built-in function sub>, <built-in function add>, <built-in function mul>)\n",
      "(100, 50, 3, 1, 3, 6) (<built-in function sub>, <built-in function truediv>, <built-in function sub>, <built-in function add>, <built-in function truediv>)\n",
      "(100, 50, 3, 1, 3, 6) (<built-in function sub>, <built-in function truediv>, <built-in function sub>, <built-in function sub>, <built-in function add>)\n",
      "(100, 50, 3, 1, 3, 6) (<built-in function sub>, <built-in function truediv>, <built-in function sub>, <built-in function sub>, <built-in function sub>)\n",
      "(100, 50, 3, 1, 3, 6) (<built-in function sub>, <built-in function truediv>, <built-in function sub>, <built-in function sub>, <built-in function mul>)\n",
      "(100, 50, 3, 1, 3, 6) (<built-in function sub>, <built-in function truediv>, <built-in function sub>, <built-in function sub>, <built-in function truediv>)\n",
      "(100, 50, 3, 1, 3, 6) (<built-in function sub>, <built-in function truediv>, <built-in function sub>, <built-in function mul>, <built-in function add>)\n",
      "(100, 50, 3, 1, 3, 6) (<built-in function sub>, <built-in function truediv>, <built-in function sub>, <built-in function mul>, <built-in function sub>)\n",
      "(100, 50, 3, 1, 3, 6) (<built-in function sub>, <built-in function truediv>, <built-in function sub>, <built-in function mul>, <built-in function mul>)\n",
      "(100, 50, 3, 1, 3, 6) (<built-in function sub>, <built-in function truediv>, <built-in function sub>, <built-in function mul>, <built-in function truediv>)\n",
      "(100, 50, 3, 1, 3, 6) (<built-in function sub>, <built-in function truediv>, <built-in function sub>, <built-in function truediv>, <built-in function add>)\n",
      "(100, 50, 3, 1, 3, 6) (<built-in function sub>, <built-in function truediv>, <built-in function sub>, <built-in function truediv>, <built-in function sub>)\n",
      "(100, 50, 3, 1, 3, 6) (<built-in function sub>, <built-in function truediv>, <built-in function sub>, <built-in function truediv>, <built-in function mul>)\n",
      "(100, 50, 3, 1, 3, 6) (<built-in function sub>, <built-in function truediv>, <built-in function sub>, <built-in function truediv>, <built-in function truediv>)\n",
      "(100, 50, 3, 1, 3, 6) (<built-in function sub>, <built-in function truediv>, <built-in function mul>, <built-in function add>, <built-in function add>)\n",
      "(100, 50, 3, 1, 3, 6) (<built-in function sub>, <built-in function truediv>, <built-in function mul>, <built-in function add>, <built-in function sub>)\n",
      "(100, 50, 3, 1, 3, 6) (<built-in function sub>, <built-in function truediv>, <built-in function mul>, <built-in function add>, <built-in function mul>)\n",
      "(100, 50, 3, 1, 3, 6) (<built-in function sub>, <built-in function truediv>, <built-in function mul>, <built-in function add>, <built-in function truediv>)\n",
      "(100, 50, 3, 1, 3, 6) (<built-in function sub>, <built-in function truediv>, <built-in function mul>, <built-in function sub>, <built-in function add>)\n",
      "(100, 50, 3, 1, 3, 6) (<built-in function sub>, <built-in function truediv>, <built-in function mul>, <built-in function sub>, <built-in function sub>)\n",
      "(100, 50, 3, 1, 3, 6) (<built-in function sub>, <built-in function truediv>, <built-in function mul>, <built-in function sub>, <built-in function mul>)\n",
      "(100, 50, 3, 1, 3, 6) (<built-in function sub>, <built-in function truediv>, <built-in function mul>, <built-in function sub>, <built-in function truediv>)\n",
      "(100, 50, 3, 1, 3, 6) (<built-in function sub>, <built-in function truediv>, <built-in function mul>, <built-in function mul>, <built-in function add>)\n",
      "(100, 50, 3, 1, 3, 6) (<built-in function sub>, <built-in function truediv>, <built-in function mul>, <built-in function mul>, <built-in function sub>)\n",
      "(100, 50, 3, 1, 3, 6) (<built-in function sub>, <built-in function truediv>, <built-in function mul>, <built-in function mul>, <built-in function mul>)\n",
      "(100, 50, 3, 1, 3, 6) (<built-in function sub>, <built-in function truediv>, <built-in function mul>, <built-in function mul>, <built-in function truediv>)\n",
      "(100, 50, 3, 1, 3, 6) (<built-in function sub>, <built-in function truediv>, <built-in function mul>, <built-in function truediv>, <built-in function add>)\n",
      "(100, 50, 3, 1, 3, 6) (<built-in function sub>, <built-in function truediv>, <built-in function mul>, <built-in function truediv>, <built-in function sub>)\n",
      "(100, 50, 3, 1, 3, 6) (<built-in function sub>, <built-in function truediv>, <built-in function mul>, <built-in function truediv>, <built-in function mul>)\n",
      "(100, 50, 3, 1, 3, 6) (<built-in function sub>, <built-in function truediv>, <built-in function mul>, <built-in function truediv>, <built-in function truediv>)\n",
      "(100, 50, 3, 1, 3, 6) (<built-in function sub>, <built-in function truediv>, <built-in function truediv>, <built-in function add>, <built-in function add>)\n",
      "(100, 50, 3, 1, 3, 6) (<built-in function sub>, <built-in function truediv>, <built-in function truediv>, <built-in function add>, <built-in function sub>)\n",
      "(100, 50, 3, 1, 3, 6) (<built-in function sub>, <built-in function truediv>, <built-in function truediv>, <built-in function add>, <built-in function mul>)\n",
      "(100, 50, 3, 1, 3, 6) (<built-in function sub>, <built-in function truediv>, <built-in function truediv>, <built-in function add>, <built-in function truediv>)\n",
      "(100, 50, 3, 1, 3, 6) (<built-in function sub>, <built-in function truediv>, <built-in function truediv>, <built-in function sub>, <built-in function add>)\n",
      "(100, 50, 3, 1, 3, 6) (<built-in function sub>, <built-in function truediv>, <built-in function truediv>, <built-in function sub>, <built-in function sub>)\n",
      "(100, 50, 3, 1, 3, 6) (<built-in function sub>, <built-in function truediv>, <built-in function truediv>, <built-in function sub>, <built-in function mul>)\n",
      "(100, 50, 3, 1, 3, 6) (<built-in function sub>, <built-in function truediv>, <built-in function truediv>, <built-in function sub>, <built-in function truediv>)\n",
      "(100, 50, 3, 1, 3, 6) (<built-in function sub>, <built-in function truediv>, <built-in function truediv>, <built-in function mul>, <built-in function add>)\n",
      "(100, 50, 3, 1, 3, 6) (<built-in function sub>, <built-in function truediv>, <built-in function truediv>, <built-in function mul>, <built-in function sub>)\n",
      "(100, 50, 3, 1, 3, 6) (<built-in function sub>, <built-in function truediv>, <built-in function truediv>, <built-in function mul>, <built-in function mul>)\n",
      "(100, 50, 3, 1, 3, 6) (<built-in function sub>, <built-in function truediv>, <built-in function truediv>, <built-in function mul>, <built-in function truediv>)\n",
      "(100, 50, 3, 1, 3, 6) (<built-in function sub>, <built-in function truediv>, <built-in function truediv>, <built-in function truediv>, <built-in function add>)\n",
      "(100, 50, 3, 1, 3, 6) (<built-in function sub>, <built-in function truediv>, <built-in function truediv>, <built-in function truediv>, <built-in function sub>)\n",
      "(100, 50, 3, 1, 3, 6) (<built-in function sub>, <built-in function truediv>, <built-in function truediv>, <built-in function truediv>, <built-in function mul>)\n",
      "(100, 50, 3, 1, 3, 6) (<built-in function sub>, <built-in function truediv>, <built-in function truediv>, <built-in function truediv>, <built-in function truediv>)\n",
      "(100, 50, 3, 1, 3, 6) (<built-in function mul>, <built-in function add>, <built-in function add>, <built-in function add>, <built-in function add>)\n",
      "(100, 50, 3, 1, 3, 6) (<built-in function mul>, <built-in function add>, <built-in function add>, <built-in function add>, <built-in function sub>)\n",
      "(100, 50, 3, 1, 3, 6) (<built-in function mul>, <built-in function add>, <built-in function add>, <built-in function add>, <built-in function mul>)\n",
      "(100, 50, 3, 1, 3, 6) (<built-in function mul>, <built-in function add>, <built-in function add>, <built-in function add>, <built-in function truediv>)\n",
      "(100, 50, 3, 1, 3, 6) (<built-in function mul>, <built-in function add>, <built-in function add>, <built-in function sub>, <built-in function add>)\n",
      "(100, 50, 3, 1, 3, 6) (<built-in function mul>, <built-in function add>, <built-in function add>, <built-in function sub>, <built-in function sub>)\n",
      "(100, 50, 3, 1, 3, 6) (<built-in function mul>, <built-in function add>, <built-in function add>, <built-in function sub>, <built-in function mul>)\n",
      "(100, 50, 3, 1, 3, 6) (<built-in function mul>, <built-in function add>, <built-in function add>, <built-in function sub>, <built-in function truediv>)\n",
      "(100, 50, 3, 1, 3, 6) (<built-in function mul>, <built-in function add>, <built-in function add>, <built-in function mul>, <built-in function add>)\n",
      "(100, 50, 3, 1, 3, 6) (<built-in function mul>, <built-in function add>, <built-in function add>, <built-in function mul>, <built-in function sub>)\n",
      "(100, 50, 3, 1, 3, 6) (<built-in function mul>, <built-in function add>, <built-in function add>, <built-in function mul>, <built-in function mul>)\n",
      "(100, 50, 3, 1, 3, 6) (<built-in function mul>, <built-in function add>, <built-in function add>, <built-in function mul>, <built-in function truediv>)\n",
      "(100, 50, 3, 1, 3, 6) (<built-in function mul>, <built-in function add>, <built-in function add>, <built-in function truediv>, <built-in function add>)\n",
      "(100, 50, 3, 1, 3, 6) (<built-in function mul>, <built-in function add>, <built-in function add>, <built-in function truediv>, <built-in function sub>)\n",
      "(100, 50, 3, 1, 3, 6) (<built-in function mul>, <built-in function add>, <built-in function add>, <built-in function truediv>, <built-in function mul>)\n",
      "(100, 50, 3, 1, 3, 6) (<built-in function mul>, <built-in function add>, <built-in function add>, <built-in function truediv>, <built-in function truediv>)\n",
      "(100, 50, 3, 1, 3, 6) (<built-in function mul>, <built-in function add>, <built-in function sub>, <built-in function add>, <built-in function add>)\n",
      "(100, 50, 3, 1, 3, 6) (<built-in function mul>, <built-in function add>, <built-in function sub>, <built-in function add>, <built-in function sub>)\n",
      "(100, 50, 3, 1, 3, 6) (<built-in function mul>, <built-in function add>, <built-in function sub>, <built-in function add>, <built-in function mul>)\n",
      "(100, 50, 3, 1, 3, 6) (<built-in function mul>, <built-in function add>, <built-in function sub>, <built-in function add>, <built-in function truediv>)\n",
      "(100, 50, 3, 1, 3, 6) (<built-in function mul>, <built-in function add>, <built-in function sub>, <built-in function sub>, <built-in function add>)\n",
      "(100, 50, 3, 1, 3, 6) (<built-in function mul>, <built-in function add>, <built-in function sub>, <built-in function sub>, <built-in function sub>)\n",
      "(100, 50, 3, 1, 3, 6) (<built-in function mul>, <built-in function add>, <built-in function sub>, <built-in function sub>, <built-in function mul>)\n",
      "(100, 50, 3, 1, 3, 6) (<built-in function mul>, <built-in function add>, <built-in function sub>, <built-in function sub>, <built-in function truediv>)\n",
      "(100, 50, 3, 1, 3, 6) (<built-in function mul>, <built-in function add>, <built-in function sub>, <built-in function mul>, <built-in function add>)\n",
      "(100, 50, 3, 1, 3, 6) (<built-in function mul>, <built-in function add>, <built-in function sub>, <built-in function mul>, <built-in function sub>)\n",
      "(100, 50, 3, 1, 3, 6) (<built-in function mul>, <built-in function add>, <built-in function sub>, <built-in function mul>, <built-in function mul>)\n",
      "(100, 50, 3, 1, 3, 6) (<built-in function mul>, <built-in function add>, <built-in function sub>, <built-in function mul>, <built-in function truediv>)\n",
      "(100, 50, 3, 1, 3, 6) (<built-in function mul>, <built-in function add>, <built-in function sub>, <built-in function truediv>, <built-in function add>)\n",
      "(100, 50, 3, 1, 3, 6) (<built-in function mul>, <built-in function add>, <built-in function sub>, <built-in function truediv>, <built-in function sub>)\n",
      "(100, 50, 3, 1, 3, 6) (<built-in function mul>, <built-in function add>, <built-in function sub>, <built-in function truediv>, <built-in function mul>)\n",
      "(100, 50, 3, 1, 3, 6) (<built-in function mul>, <built-in function add>, <built-in function sub>, <built-in function truediv>, <built-in function truediv>)\n",
      "(100, 50, 3, 1, 3, 6) (<built-in function mul>, <built-in function add>, <built-in function mul>, <built-in function add>, <built-in function add>)\n",
      "(100, 50, 3, 1, 3, 6) (<built-in function mul>, <built-in function add>, <built-in function mul>, <built-in function add>, <built-in function sub>)\n",
      "(100, 50, 3, 1, 3, 6) (<built-in function mul>, <built-in function add>, <built-in function mul>, <built-in function add>, <built-in function mul>)\n",
      "(100, 50, 3, 1, 3, 6) (<built-in function mul>, <built-in function add>, <built-in function mul>, <built-in function add>, <built-in function truediv>)\n",
      "(100, 50, 3, 1, 3, 6) (<built-in function mul>, <built-in function add>, <built-in function mul>, <built-in function sub>, <built-in function add>)\n",
      "(100, 50, 3, 1, 3, 6) (<built-in function mul>, <built-in function add>, <built-in function mul>, <built-in function sub>, <built-in function sub>)\n",
      "(100, 50, 3, 1, 3, 6) (<built-in function mul>, <built-in function add>, <built-in function mul>, <built-in function sub>, <built-in function mul>)\n",
      "(100, 50, 3, 1, 3, 6) (<built-in function mul>, <built-in function add>, <built-in function mul>, <built-in function sub>, <built-in function truediv>)\n",
      "(100, 50, 3, 1, 3, 6) (<built-in function mul>, <built-in function add>, <built-in function mul>, <built-in function mul>, <built-in function add>)\n",
      "(100, 50, 3, 1, 3, 6) (<built-in function mul>, <built-in function add>, <built-in function mul>, <built-in function mul>, <built-in function sub>)\n",
      "(100, 50, 3, 1, 3, 6) (<built-in function mul>, <built-in function add>, <built-in function mul>, <built-in function mul>, <built-in function mul>)\n",
      "(100, 50, 3, 1, 3, 6) (<built-in function mul>, <built-in function add>, <built-in function mul>, <built-in function mul>, <built-in function truediv>)\n",
      "(100, 50, 3, 1, 3, 6) (<built-in function mul>, <built-in function add>, <built-in function mul>, <built-in function truediv>, <built-in function add>)\n",
      "(100, 50, 3, 1, 3, 6) (<built-in function mul>, <built-in function add>, <built-in function mul>, <built-in function truediv>, <built-in function sub>)\n",
      "(100, 50, 3, 1, 3, 6) (<built-in function mul>, <built-in function add>, <built-in function mul>, <built-in function truediv>, <built-in function mul>)\n",
      "(100, 50, 3, 1, 3, 6) (<built-in function mul>, <built-in function add>, <built-in function mul>, <built-in function truediv>, <built-in function truediv>)\n",
      "(100, 50, 3, 1, 3, 6) (<built-in function mul>, <built-in function add>, <built-in function truediv>, <built-in function add>, <built-in function add>)\n",
      "(100, 50, 3, 1, 3, 6) (<built-in function mul>, <built-in function add>, <built-in function truediv>, <built-in function add>, <built-in function sub>)\n",
      "(100, 50, 3, 1, 3, 6) (<built-in function mul>, <built-in function add>, <built-in function truediv>, <built-in function add>, <built-in function mul>)\n",
      "(100, 50, 3, 1, 3, 6) (<built-in function mul>, <built-in function add>, <built-in function truediv>, <built-in function add>, <built-in function truediv>)\n",
      "(100, 50, 3, 1, 3, 6) (<built-in function mul>, <built-in function add>, <built-in function truediv>, <built-in function sub>, <built-in function add>)\n",
      "(100, 50, 3, 1, 3, 6) (<built-in function mul>, <built-in function add>, <built-in function truediv>, <built-in function sub>, <built-in function sub>)\n",
      "(100, 50, 3, 1, 3, 6) (<built-in function mul>, <built-in function add>, <built-in function truediv>, <built-in function sub>, <built-in function mul>)\n",
      "(100, 50, 3, 1, 3, 6) (<built-in function mul>, <built-in function add>, <built-in function truediv>, <built-in function sub>, <built-in function truediv>)\n",
      "(100, 50, 3, 1, 3, 6) (<built-in function mul>, <built-in function add>, <built-in function truediv>, <built-in function mul>, <built-in function add>)\n",
      "(100, 50, 3, 1, 3, 6) (<built-in function mul>, <built-in function add>, <built-in function truediv>, <built-in function mul>, <built-in function sub>)\n",
      "(100, 50, 3, 1, 3, 6) (<built-in function mul>, <built-in function add>, <built-in function truediv>, <built-in function mul>, <built-in function mul>)\n",
      "(100, 50, 3, 1, 3, 6) (<built-in function mul>, <built-in function add>, <built-in function truediv>, <built-in function mul>, <built-in function truediv>)\n",
      "(100, 50, 3, 1, 3, 6) (<built-in function mul>, <built-in function add>, <built-in function truediv>, <built-in function truediv>, <built-in function add>)\n",
      "(100, 50, 3, 1, 3, 6) (<built-in function mul>, <built-in function add>, <built-in function truediv>, <built-in function truediv>, <built-in function sub>)\n",
      "(100, 50, 3, 1, 3, 6) (<built-in function mul>, <built-in function add>, <built-in function truediv>, <built-in function truediv>, <built-in function mul>)\n",
      "(100, 50, 3, 1, 3, 6) (<built-in function mul>, <built-in function add>, <built-in function truediv>, <built-in function truediv>, <built-in function truediv>)\n",
      "(100, 50, 3, 1, 3, 6) (<built-in function mul>, <built-in function sub>, <built-in function add>, <built-in function add>, <built-in function add>)\n",
      "(100, 50, 3, 1, 3, 6) (<built-in function mul>, <built-in function sub>, <built-in function add>, <built-in function add>, <built-in function sub>)\n",
      "(100, 50, 3, 1, 3, 6) (<built-in function mul>, <built-in function sub>, <built-in function add>, <built-in function add>, <built-in function mul>)\n",
      "(100, 50, 3, 1, 3, 6) (<built-in function mul>, <built-in function sub>, <built-in function add>, <built-in function add>, <built-in function truediv>)\n",
      "(100, 50, 3, 1, 3, 6) (<built-in function mul>, <built-in function sub>, <built-in function add>, <built-in function sub>, <built-in function add>)\n",
      "(100, 50, 3, 1, 3, 6) (<built-in function mul>, <built-in function sub>, <built-in function add>, <built-in function sub>, <built-in function sub>)\n",
      "(100, 50, 3, 1, 3, 6) (<built-in function mul>, <built-in function sub>, <built-in function add>, <built-in function sub>, <built-in function mul>)\n",
      "(100, 50, 3, 1, 3, 6) (<built-in function mul>, <built-in function sub>, <built-in function add>, <built-in function sub>, <built-in function truediv>)\n",
      "(100, 50, 3, 1, 3, 6) (<built-in function mul>, <built-in function sub>, <built-in function add>, <built-in function mul>, <built-in function add>)\n",
      "(100, 50, 3, 1, 3, 6) (<built-in function mul>, <built-in function sub>, <built-in function add>, <built-in function mul>, <built-in function sub>)\n",
      "(100, 50, 3, 1, 3, 6) (<built-in function mul>, <built-in function sub>, <built-in function add>, <built-in function mul>, <built-in function mul>)\n",
      "(100, 50, 3, 1, 3, 6) (<built-in function mul>, <built-in function sub>, <built-in function add>, <built-in function mul>, <built-in function truediv>)\n",
      "(100, 50, 3, 1, 3, 6) (<built-in function mul>, <built-in function sub>, <built-in function add>, <built-in function truediv>, <built-in function add>)\n",
      "(100, 50, 3, 1, 3, 6) (<built-in function mul>, <built-in function sub>, <built-in function add>, <built-in function truediv>, <built-in function sub>)\n",
      "(100, 50, 3, 1, 3, 6) (<built-in function mul>, <built-in function sub>, <built-in function add>, <built-in function truediv>, <built-in function mul>)\n",
      "(100, 50, 3, 1, 3, 6) (<built-in function mul>, <built-in function sub>, <built-in function add>, <built-in function truediv>, <built-in function truediv>)\n",
      "(100, 50, 3, 1, 3, 6) (<built-in function mul>, <built-in function sub>, <built-in function sub>, <built-in function add>, <built-in function add>)\n",
      "(100, 50, 3, 1, 3, 6) (<built-in function mul>, <built-in function sub>, <built-in function sub>, <built-in function add>, <built-in function sub>)\n",
      "(100, 50, 3, 1, 3, 6) (<built-in function mul>, <built-in function sub>, <built-in function sub>, <built-in function add>, <built-in function mul>)\n",
      "(100, 50, 3, 1, 3, 6) (<built-in function mul>, <built-in function sub>, <built-in function sub>, <built-in function add>, <built-in function truediv>)\n",
      "(100, 50, 3, 1, 3, 6) (<built-in function mul>, <built-in function sub>, <built-in function sub>, <built-in function sub>, <built-in function add>)\n",
      "(100, 50, 3, 1, 3, 6) (<built-in function mul>, <built-in function sub>, <built-in function sub>, <built-in function sub>, <built-in function sub>)\n",
      "(100, 50, 3, 1, 3, 6) (<built-in function mul>, <built-in function sub>, <built-in function sub>, <built-in function sub>, <built-in function mul>)\n",
      "(100, 50, 3, 1, 3, 6) (<built-in function mul>, <built-in function sub>, <built-in function sub>, <built-in function sub>, <built-in function truediv>)\n",
      "(100, 50, 3, 1, 3, 6) (<built-in function mul>, <built-in function sub>, <built-in function sub>, <built-in function mul>, <built-in function add>)\n",
      "(100, 50, 3, 1, 3, 6) (<built-in function mul>, <built-in function sub>, <built-in function sub>, <built-in function mul>, <built-in function sub>)\n",
      "(100, 50, 3, 1, 3, 6) (<built-in function mul>, <built-in function sub>, <built-in function sub>, <built-in function mul>, <built-in function mul>)\n",
      "(100, 50, 3, 1, 3, 6) (<built-in function mul>, <built-in function sub>, <built-in function sub>, <built-in function mul>, <built-in function truediv>)\n",
      "(100, 50, 3, 1, 3, 6) (<built-in function mul>, <built-in function sub>, <built-in function sub>, <built-in function truediv>, <built-in function add>)\n",
      "(100, 50, 3, 1, 3, 6) (<built-in function mul>, <built-in function sub>, <built-in function sub>, <built-in function truediv>, <built-in function sub>)\n",
      "(100, 50, 3, 1, 3, 6) (<built-in function mul>, <built-in function sub>, <built-in function sub>, <built-in function truediv>, <built-in function mul>)\n",
      "(100, 50, 3, 1, 3, 6) (<built-in function mul>, <built-in function sub>, <built-in function sub>, <built-in function truediv>, <built-in function truediv>)\n",
      "(100, 50, 3, 1, 3, 6) (<built-in function mul>, <built-in function sub>, <built-in function mul>, <built-in function add>, <built-in function add>)\n",
      "(100, 50, 3, 1, 3, 6) (<built-in function mul>, <built-in function sub>, <built-in function mul>, <built-in function add>, <built-in function sub>)\n",
      "(100, 50, 3, 1, 3, 6) (<built-in function mul>, <built-in function sub>, <built-in function mul>, <built-in function add>, <built-in function mul>)\n",
      "(100, 50, 3, 1, 3, 6) (<built-in function mul>, <built-in function sub>, <built-in function mul>, <built-in function add>, <built-in function truediv>)\n",
      "(100, 50, 3, 1, 3, 6) (<built-in function mul>, <built-in function sub>, <built-in function mul>, <built-in function sub>, <built-in function add>)\n",
      "(100, 50, 3, 1, 3, 6) (<built-in function mul>, <built-in function sub>, <built-in function mul>, <built-in function sub>, <built-in function sub>)\n",
      "(100, 50, 3, 1, 3, 6) (<built-in function mul>, <built-in function sub>, <built-in function mul>, <built-in function sub>, <built-in function mul>)\n",
      "(100, 50, 3, 1, 3, 6) (<built-in function mul>, <built-in function sub>, <built-in function mul>, <built-in function sub>, <built-in function truediv>)\n",
      "(100, 50, 3, 1, 3, 6) (<built-in function mul>, <built-in function sub>, <built-in function mul>, <built-in function mul>, <built-in function add>)\n",
      "(100, 50, 3, 1, 3, 6) (<built-in function mul>, <built-in function sub>, <built-in function mul>, <built-in function mul>, <built-in function sub>)\n",
      "(100, 50, 3, 1, 3, 6) (<built-in function mul>, <built-in function sub>, <built-in function mul>, <built-in function mul>, <built-in function mul>)\n",
      "(100, 50, 3, 1, 3, 6) (<built-in function mul>, <built-in function sub>, <built-in function mul>, <built-in function mul>, <built-in function truediv>)\n",
      "(100, 50, 3, 1, 3, 6) (<built-in function mul>, <built-in function sub>, <built-in function mul>, <built-in function truediv>, <built-in function add>)\n",
      "(100, 50, 3, 1, 3, 6) (<built-in function mul>, <built-in function sub>, <built-in function mul>, <built-in function truediv>, <built-in function sub>)\n",
      "(100, 50, 3, 1, 3, 6) (<built-in function mul>, <built-in function sub>, <built-in function mul>, <built-in function truediv>, <built-in function mul>)\n",
      "(100, 50, 3, 1, 3, 6) (<built-in function mul>, <built-in function sub>, <built-in function mul>, <built-in function truediv>, <built-in function truediv>)\n",
      "(100, 50, 3, 1, 3, 6) (<built-in function mul>, <built-in function sub>, <built-in function truediv>, <built-in function add>, <built-in function add>)\n",
      "(100, 50, 3, 1, 3, 6) (<built-in function mul>, <built-in function sub>, <built-in function truediv>, <built-in function add>, <built-in function sub>)\n",
      "(100, 50, 3, 1, 3, 6) (<built-in function mul>, <built-in function sub>, <built-in function truediv>, <built-in function add>, <built-in function mul>)\n",
      "(100, 50, 3, 1, 3, 6) (<built-in function mul>, <built-in function sub>, <built-in function truediv>, <built-in function add>, <built-in function truediv>)\n",
      "(100, 50, 3, 1, 3, 6) (<built-in function mul>, <built-in function sub>, <built-in function truediv>, <built-in function sub>, <built-in function add>)\n",
      "(100, 50, 3, 1, 3, 6) (<built-in function mul>, <built-in function sub>, <built-in function truediv>, <built-in function sub>, <built-in function sub>)\n",
      "(100, 50, 3, 1, 3, 6) (<built-in function mul>, <built-in function sub>, <built-in function truediv>, <built-in function sub>, <built-in function mul>)\n",
      "(100, 50, 3, 1, 3, 6) (<built-in function mul>, <built-in function sub>, <built-in function truediv>, <built-in function sub>, <built-in function truediv>)\n",
      "(100, 50, 3, 1, 3, 6) (<built-in function mul>, <built-in function sub>, <built-in function truediv>, <built-in function mul>, <built-in function add>)\n",
      "(100, 50, 3, 1, 3, 6) (<built-in function mul>, <built-in function sub>, <built-in function truediv>, <built-in function mul>, <built-in function sub>)\n",
      "(100, 50, 3, 1, 3, 6) (<built-in function mul>, <built-in function sub>, <built-in function truediv>, <built-in function mul>, <built-in function mul>)\n",
      "(100, 50, 3, 1, 3, 6) (<built-in function mul>, <built-in function sub>, <built-in function truediv>, <built-in function mul>, <built-in function truediv>)\n",
      "(100, 50, 3, 1, 3, 6) (<built-in function mul>, <built-in function sub>, <built-in function truediv>, <built-in function truediv>, <built-in function add>)\n",
      "(100, 50, 3, 1, 3, 6) (<built-in function mul>, <built-in function sub>, <built-in function truediv>, <built-in function truediv>, <built-in function sub>)\n",
      "(100, 50, 3, 1, 3, 6) (<built-in function mul>, <built-in function sub>, <built-in function truediv>, <built-in function truediv>, <built-in function mul>)\n",
      "(100, 50, 3, 1, 3, 6) (<built-in function mul>, <built-in function sub>, <built-in function truediv>, <built-in function truediv>, <built-in function truediv>)\n",
      "(100, 50, 3, 1, 3, 6) (<built-in function mul>, <built-in function mul>, <built-in function add>, <built-in function add>, <built-in function add>)\n",
      "(100, 50, 3, 1, 3, 6) (<built-in function mul>, <built-in function mul>, <built-in function add>, <built-in function add>, <built-in function sub>)\n",
      "(100, 50, 3, 1, 3, 6) (<built-in function mul>, <built-in function mul>, <built-in function add>, <built-in function add>, <built-in function mul>)\n",
      "(100, 50, 3, 1, 3, 6) (<built-in function mul>, <built-in function mul>, <built-in function add>, <built-in function add>, <built-in function truediv>)\n",
      "(100, 50, 3, 1, 3, 6) (<built-in function mul>, <built-in function mul>, <built-in function add>, <built-in function sub>, <built-in function add>)\n",
      "(100, 50, 3, 1, 3, 6) (<built-in function mul>, <built-in function mul>, <built-in function add>, <built-in function sub>, <built-in function sub>)\n",
      "(100, 50, 3, 1, 3, 6) (<built-in function mul>, <built-in function mul>, <built-in function add>, <built-in function sub>, <built-in function mul>)\n",
      "(100, 50, 3, 1, 3, 6) (<built-in function mul>, <built-in function mul>, <built-in function add>, <built-in function sub>, <built-in function truediv>)\n",
      "(100, 50, 3, 1, 3, 6) (<built-in function mul>, <built-in function mul>, <built-in function add>, <built-in function mul>, <built-in function add>)\n",
      "(100, 50, 3, 1, 3, 6) (<built-in function mul>, <built-in function mul>, <built-in function add>, <built-in function mul>, <built-in function sub>)\n",
      "(100, 50, 3, 1, 3, 6) (<built-in function mul>, <built-in function mul>, <built-in function add>, <built-in function mul>, <built-in function mul>)\n",
      "(100, 50, 3, 1, 3, 6) (<built-in function mul>, <built-in function mul>, <built-in function add>, <built-in function mul>, <built-in function truediv>)\n",
      "(100, 50, 3, 1, 3, 6) (<built-in function mul>, <built-in function mul>, <built-in function add>, <built-in function truediv>, <built-in function add>)\n",
      "(100, 50, 3, 1, 3, 6) (<built-in function mul>, <built-in function mul>, <built-in function add>, <built-in function truediv>, <built-in function sub>)\n",
      "(100, 50, 3, 1, 3, 6) (<built-in function mul>, <built-in function mul>, <built-in function add>, <built-in function truediv>, <built-in function mul>)\n",
      "(100, 50, 3, 1, 3, 6) (<built-in function mul>, <built-in function mul>, <built-in function add>, <built-in function truediv>, <built-in function truediv>)\n",
      "(100, 50, 3, 1, 3, 6) (<built-in function mul>, <built-in function mul>, <built-in function sub>, <built-in function add>, <built-in function add>)\n",
      "(100, 50, 3, 1, 3, 6) (<built-in function mul>, <built-in function mul>, <built-in function sub>, <built-in function add>, <built-in function sub>)\n",
      "(100, 50, 3, 1, 3, 6) (<built-in function mul>, <built-in function mul>, <built-in function sub>, <built-in function add>, <built-in function mul>)\n",
      "(100, 50, 3, 1, 3, 6) (<built-in function mul>, <built-in function mul>, <built-in function sub>, <built-in function add>, <built-in function truediv>)\n",
      "(100, 50, 3, 1, 3, 6) (<built-in function mul>, <built-in function mul>, <built-in function sub>, <built-in function sub>, <built-in function add>)\n",
      "(100, 50, 3, 1, 3, 6) (<built-in function mul>, <built-in function mul>, <built-in function sub>, <built-in function sub>, <built-in function sub>)\n",
      "(100, 50, 3, 1, 3, 6) (<built-in function mul>, <built-in function mul>, <built-in function sub>, <built-in function sub>, <built-in function mul>)\n",
      "(100, 50, 3, 1, 3, 6) (<built-in function mul>, <built-in function mul>, <built-in function sub>, <built-in function sub>, <built-in function truediv>)\n",
      "(100, 50, 3, 1, 3, 6) (<built-in function mul>, <built-in function mul>, <built-in function sub>, <built-in function mul>, <built-in function add>)\n",
      "(100, 50, 3, 1, 3, 6) (<built-in function mul>, <built-in function mul>, <built-in function sub>, <built-in function mul>, <built-in function sub>)\n",
      "(100, 50, 3, 1, 3, 6) (<built-in function mul>, <built-in function mul>, <built-in function sub>, <built-in function mul>, <built-in function mul>)\n",
      "(100, 50, 3, 1, 3, 6) (<built-in function mul>, <built-in function mul>, <built-in function sub>, <built-in function mul>, <built-in function truediv>)\n",
      "(100, 50, 3, 1, 3, 6) (<built-in function mul>, <built-in function mul>, <built-in function sub>, <built-in function truediv>, <built-in function add>)\n",
      "(100, 50, 3, 1, 3, 6) (<built-in function mul>, <built-in function mul>, <built-in function sub>, <built-in function truediv>, <built-in function sub>)\n",
      "(100, 50, 3, 1, 3, 6) (<built-in function mul>, <built-in function mul>, <built-in function sub>, <built-in function truediv>, <built-in function mul>)\n",
      "(100, 50, 3, 1, 3, 6) (<built-in function mul>, <built-in function mul>, <built-in function sub>, <built-in function truediv>, <built-in function truediv>)\n",
      "(100, 50, 3, 1, 3, 6) (<built-in function mul>, <built-in function mul>, <built-in function mul>, <built-in function add>, <built-in function add>)\n",
      "(100, 50, 3, 1, 3, 6) (<built-in function mul>, <built-in function mul>, <built-in function mul>, <built-in function add>, <built-in function sub>)\n",
      "(100, 50, 3, 1, 3, 6) (<built-in function mul>, <built-in function mul>, <built-in function mul>, <built-in function add>, <built-in function mul>)\n",
      "(100, 50, 3, 1, 3, 6) (<built-in function mul>, <built-in function mul>, <built-in function mul>, <built-in function add>, <built-in function truediv>)\n",
      "(100, 50, 3, 1, 3, 6) (<built-in function mul>, <built-in function mul>, <built-in function mul>, <built-in function sub>, <built-in function add>)\n",
      "(100, 50, 3, 1, 3, 6) (<built-in function mul>, <built-in function mul>, <built-in function mul>, <built-in function sub>, <built-in function sub>)\n",
      "(100, 50, 3, 1, 3, 6) (<built-in function mul>, <built-in function mul>, <built-in function mul>, <built-in function sub>, <built-in function mul>)\n",
      "(100, 50, 3, 1, 3, 6) (<built-in function mul>, <built-in function mul>, <built-in function mul>, <built-in function sub>, <built-in function truediv>)\n",
      "(100, 50, 3, 1, 3, 6) (<built-in function mul>, <built-in function mul>, <built-in function mul>, <built-in function mul>, <built-in function add>)\n",
      "(100, 50, 3, 1, 3, 6) (<built-in function mul>, <built-in function mul>, <built-in function mul>, <built-in function mul>, <built-in function sub>)\n",
      "(100, 50, 3, 1, 3, 6) (<built-in function mul>, <built-in function mul>, <built-in function mul>, <built-in function mul>, <built-in function mul>)\n",
      "(100, 50, 3, 1, 3, 6) (<built-in function mul>, <built-in function mul>, <built-in function mul>, <built-in function mul>, <built-in function truediv>)\n",
      "(100, 50, 3, 1, 3, 6) (<built-in function mul>, <built-in function mul>, <built-in function mul>, <built-in function truediv>, <built-in function add>)\n",
      "(100, 50, 3, 1, 3, 6) (<built-in function mul>, <built-in function mul>, <built-in function mul>, <built-in function truediv>, <built-in function sub>)\n",
      "(100, 50, 3, 1, 3, 6) (<built-in function mul>, <built-in function mul>, <built-in function mul>, <built-in function truediv>, <built-in function mul>)\n",
      "(100, 50, 3, 1, 3, 6) (<built-in function mul>, <built-in function mul>, <built-in function mul>, <built-in function truediv>, <built-in function truediv>)\n",
      "(100, 50, 3, 1, 3, 6) (<built-in function mul>, <built-in function mul>, <built-in function truediv>, <built-in function add>, <built-in function add>)\n",
      "(100, 50, 3, 1, 3, 6) (<built-in function mul>, <built-in function mul>, <built-in function truediv>, <built-in function add>, <built-in function sub>)\n",
      "(100, 50, 3, 1, 3, 6) (<built-in function mul>, <built-in function mul>, <built-in function truediv>, <built-in function add>, <built-in function mul>)\n",
      "(100, 50, 3, 1, 3, 6) (<built-in function mul>, <built-in function mul>, <built-in function truediv>, <built-in function add>, <built-in function truediv>)\n",
      "(100, 50, 3, 1, 3, 6) (<built-in function mul>, <built-in function mul>, <built-in function truediv>, <built-in function sub>, <built-in function add>)\n",
      "(100, 50, 3, 1, 3, 6) (<built-in function mul>, <built-in function mul>, <built-in function truediv>, <built-in function sub>, <built-in function sub>)\n",
      "(100, 50, 3, 1, 3, 6) (<built-in function mul>, <built-in function mul>, <built-in function truediv>, <built-in function sub>, <built-in function mul>)\n",
      "(100, 50, 3, 1, 3, 6) (<built-in function mul>, <built-in function mul>, <built-in function truediv>, <built-in function sub>, <built-in function truediv>)\n",
      "(100, 50, 3, 1, 3, 6) (<built-in function mul>, <built-in function mul>, <built-in function truediv>, <built-in function mul>, <built-in function add>)\n",
      "(100, 50, 3, 1, 3, 6) (<built-in function mul>, <built-in function mul>, <built-in function truediv>, <built-in function mul>, <built-in function sub>)\n",
      "(100, 50, 3, 1, 3, 6) (<built-in function mul>, <built-in function mul>, <built-in function truediv>, <built-in function mul>, <built-in function mul>)\n",
      "(100, 50, 3, 1, 3, 6) (<built-in function mul>, <built-in function mul>, <built-in function truediv>, <built-in function mul>, <built-in function truediv>)\n",
      "(100, 50, 3, 1, 3, 6) (<built-in function mul>, <built-in function mul>, <built-in function truediv>, <built-in function truediv>, <built-in function add>)\n",
      "(100, 50, 3, 1, 3, 6) (<built-in function mul>, <built-in function mul>, <built-in function truediv>, <built-in function truediv>, <built-in function sub>)\n",
      "(100, 50, 3, 1, 3, 6) (<built-in function mul>, <built-in function mul>, <built-in function truediv>, <built-in function truediv>, <built-in function mul>)\n",
      "(100, 50, 3, 1, 3, 6) (<built-in function mul>, <built-in function mul>, <built-in function truediv>, <built-in function truediv>, <built-in function truediv>)\n",
      "(100, 50, 3, 1, 3, 6) (<built-in function mul>, <built-in function truediv>, <built-in function add>, <built-in function add>, <built-in function add>)\n",
      "(100, 50, 3, 1, 3, 6) (<built-in function mul>, <built-in function truediv>, <built-in function add>, <built-in function add>, <built-in function sub>)\n",
      "(100, 50, 3, 1, 3, 6) (<built-in function mul>, <built-in function truediv>, <built-in function add>, <built-in function add>, <built-in function mul>)\n",
      "(100, 50, 3, 1, 3, 6) (<built-in function mul>, <built-in function truediv>, <built-in function add>, <built-in function add>, <built-in function truediv>)\n",
      "(100, 50, 3, 1, 3, 6) (<built-in function mul>, <built-in function truediv>, <built-in function add>, <built-in function sub>, <built-in function add>)\n",
      "(100, 50, 3, 1, 3, 6) (<built-in function mul>, <built-in function truediv>, <built-in function add>, <built-in function sub>, <built-in function sub>)\n",
      "(100, 50, 3, 1, 3, 6) (<built-in function mul>, <built-in function truediv>, <built-in function add>, <built-in function sub>, <built-in function mul>)\n",
      "(100, 50, 3, 1, 3, 6) (<built-in function mul>, <built-in function truediv>, <built-in function add>, <built-in function sub>, <built-in function truediv>)\n",
      "(100, 50, 3, 1, 3, 6) (<built-in function mul>, <built-in function truediv>, <built-in function add>, <built-in function mul>, <built-in function add>)\n",
      "(100, 50, 3, 1, 3, 6) (<built-in function mul>, <built-in function truediv>, <built-in function add>, <built-in function mul>, <built-in function sub>)\n",
      "(100, 50, 3, 1, 3, 6) (<built-in function mul>, <built-in function truediv>, <built-in function add>, <built-in function mul>, <built-in function mul>)\n",
      "(100, 50, 3, 1, 3, 6) (<built-in function mul>, <built-in function truediv>, <built-in function add>, <built-in function mul>, <built-in function truediv>)\n",
      "(100, 50, 3, 1, 3, 6) (<built-in function mul>, <built-in function truediv>, <built-in function add>, <built-in function truediv>, <built-in function add>)\n",
      "(100, 50, 3, 1, 3, 6) (<built-in function mul>, <built-in function truediv>, <built-in function add>, <built-in function truediv>, <built-in function sub>)\n",
      "(100, 50, 3, 1, 3, 6) (<built-in function mul>, <built-in function truediv>, <built-in function add>, <built-in function truediv>, <built-in function mul>)\n",
      "(100, 50, 3, 1, 3, 6) (<built-in function mul>, <built-in function truediv>, <built-in function add>, <built-in function truediv>, <built-in function truediv>)\n",
      "(100, 50, 3, 1, 3, 6) (<built-in function mul>, <built-in function truediv>, <built-in function sub>, <built-in function add>, <built-in function add>)\n",
      "(100, 50, 3, 1, 3, 6) (<built-in function mul>, <built-in function truediv>, <built-in function sub>, <built-in function add>, <built-in function sub>)\n",
      "(100, 50, 3, 1, 3, 6) (<built-in function mul>, <built-in function truediv>, <built-in function sub>, <built-in function add>, <built-in function mul>)\n",
      "(100, 50, 3, 1, 3, 6) (<built-in function mul>, <built-in function truediv>, <built-in function sub>, <built-in function add>, <built-in function truediv>)\n",
      "(100, 50, 3, 1, 3, 6) (<built-in function mul>, <built-in function truediv>, <built-in function sub>, <built-in function sub>, <built-in function add>)\n",
      "(100, 50, 3, 1, 3, 6) (<built-in function mul>, <built-in function truediv>, <built-in function sub>, <built-in function sub>, <built-in function sub>)\n",
      "(100, 50, 3, 1, 3, 6) (<built-in function mul>, <built-in function truediv>, <built-in function sub>, <built-in function sub>, <built-in function mul>)\n",
      "(100, 50, 3, 1, 3, 6) (<built-in function mul>, <built-in function truediv>, <built-in function sub>, <built-in function sub>, <built-in function truediv>)\n",
      "(100, 50, 3, 1, 3, 6) (<built-in function mul>, <built-in function truediv>, <built-in function sub>, <built-in function mul>, <built-in function add>)\n",
      "(100, 50, 3, 1, 3, 6) (<built-in function mul>, <built-in function truediv>, <built-in function sub>, <built-in function mul>, <built-in function sub>)\n",
      "(100, 50, 3, 1, 3, 6) (<built-in function mul>, <built-in function truediv>, <built-in function sub>, <built-in function mul>, <built-in function mul>)\n",
      "(100, 50, 3, 1, 3, 6) (<built-in function mul>, <built-in function truediv>, <built-in function sub>, <built-in function mul>, <built-in function truediv>)\n",
      "(100, 50, 3, 1, 3, 6) (<built-in function mul>, <built-in function truediv>, <built-in function sub>, <built-in function truediv>, <built-in function add>)\n",
      "(100, 50, 3, 1, 3, 6) (<built-in function mul>, <built-in function truediv>, <built-in function sub>, <built-in function truediv>, <built-in function sub>)\n",
      "(100, 50, 3, 1, 3, 6) (<built-in function mul>, <built-in function truediv>, <built-in function sub>, <built-in function truediv>, <built-in function mul>)\n",
      "(100, 50, 3, 1, 3, 6) (<built-in function mul>, <built-in function truediv>, <built-in function sub>, <built-in function truediv>, <built-in function truediv>)\n",
      "(100, 50, 3, 1, 3, 6) (<built-in function mul>, <built-in function truediv>, <built-in function mul>, <built-in function add>, <built-in function add>)\n",
      "(100, 50, 3, 1, 3, 6) (<built-in function mul>, <built-in function truediv>, <built-in function mul>, <built-in function add>, <built-in function sub>)\n",
      "(100, 50, 3, 1, 3, 6) (<built-in function mul>, <built-in function truediv>, <built-in function mul>, <built-in function add>, <built-in function mul>)\n",
      "(100, 50, 3, 1, 3, 6) (<built-in function mul>, <built-in function truediv>, <built-in function mul>, <built-in function add>, <built-in function truediv>)\n",
      "(100, 50, 3, 1, 3, 6) (<built-in function mul>, <built-in function truediv>, <built-in function mul>, <built-in function sub>, <built-in function add>)\n",
      "(100, 50, 3, 1, 3, 6) (<built-in function mul>, <built-in function truediv>, <built-in function mul>, <built-in function sub>, <built-in function sub>)\n",
      "(100, 50, 3, 1, 3, 6) (<built-in function mul>, <built-in function truediv>, <built-in function mul>, <built-in function sub>, <built-in function mul>)\n",
      "(100, 50, 3, 1, 3, 6) (<built-in function mul>, <built-in function truediv>, <built-in function mul>, <built-in function sub>, <built-in function truediv>)\n",
      "(100, 50, 3, 1, 3, 6) (<built-in function mul>, <built-in function truediv>, <built-in function mul>, <built-in function mul>, <built-in function add>)\n",
      "(100, 50, 3, 1, 3, 6) (<built-in function mul>, <built-in function truediv>, <built-in function mul>, <built-in function mul>, <built-in function sub>)\n",
      "(100, 50, 3, 1, 3, 6) (<built-in function mul>, <built-in function truediv>, <built-in function mul>, <built-in function mul>, <built-in function mul>)\n",
      "(100, 50, 3, 1, 3, 6) (<built-in function mul>, <built-in function truediv>, <built-in function mul>, <built-in function mul>, <built-in function truediv>)\n",
      "(100, 50, 3, 1, 3, 6) (<built-in function mul>, <built-in function truediv>, <built-in function mul>, <built-in function truediv>, <built-in function add>)\n",
      "(100, 50, 3, 1, 3, 6) (<built-in function mul>, <built-in function truediv>, <built-in function mul>, <built-in function truediv>, <built-in function sub>)\n",
      "(100, 50, 3, 1, 3, 6) (<built-in function mul>, <built-in function truediv>, <built-in function mul>, <built-in function truediv>, <built-in function mul>)\n",
      "(100, 50, 3, 1, 3, 6) (<built-in function mul>, <built-in function truediv>, <built-in function mul>, <built-in function truediv>, <built-in function truediv>)\n",
      "(100, 50, 3, 1, 3, 6) (<built-in function mul>, <built-in function truediv>, <built-in function truediv>, <built-in function add>, <built-in function add>)\n",
      "(100, 50, 3, 1, 3, 6) (<built-in function mul>, <built-in function truediv>, <built-in function truediv>, <built-in function add>, <built-in function sub>)\n",
      "(100, 50, 3, 1, 3, 6) (<built-in function mul>, <built-in function truediv>, <built-in function truediv>, <built-in function add>, <built-in function mul>)\n",
      "(100, 50, 3, 1, 3, 6) (<built-in function mul>, <built-in function truediv>, <built-in function truediv>, <built-in function add>, <built-in function truediv>)\n",
      "(100, 50, 3, 1, 3, 6) (<built-in function mul>, <built-in function truediv>, <built-in function truediv>, <built-in function sub>, <built-in function add>)\n",
      "(100, 50, 3, 1, 3, 6) (<built-in function mul>, <built-in function truediv>, <built-in function truediv>, <built-in function sub>, <built-in function sub>)\n",
      "(100, 50, 3, 1, 3, 6) (<built-in function mul>, <built-in function truediv>, <built-in function truediv>, <built-in function sub>, <built-in function mul>)\n",
      "(100, 50, 3, 1, 3, 6) (<built-in function mul>, <built-in function truediv>, <built-in function truediv>, <built-in function sub>, <built-in function truediv>)\n",
      "(100, 50, 3, 1, 3, 6) (<built-in function mul>, <built-in function truediv>, <built-in function truediv>, <built-in function mul>, <built-in function add>)\n",
      "(100, 50, 3, 1, 3, 6) (<built-in function mul>, <built-in function truediv>, <built-in function truediv>, <built-in function mul>, <built-in function sub>)\n",
      "(100, 50, 3, 1, 3, 6) (<built-in function mul>, <built-in function truediv>, <built-in function truediv>, <built-in function mul>, <built-in function mul>)\n",
      "(100, 50, 3, 1, 3, 6) (<built-in function mul>, <built-in function truediv>, <built-in function truediv>, <built-in function mul>, <built-in function truediv>)\n",
      "(100, 50, 3, 1, 3, 6) (<built-in function mul>, <built-in function truediv>, <built-in function truediv>, <built-in function truediv>, <built-in function add>)\n",
      "(100, 50, 3, 1, 3, 6) (<built-in function mul>, <built-in function truediv>, <built-in function truediv>, <built-in function truediv>, <built-in function sub>)\n",
      "(100, 50, 3, 1, 3, 6) (<built-in function mul>, <built-in function truediv>, <built-in function truediv>, <built-in function truediv>, <built-in function mul>)\n",
      "(100, 50, 3, 1, 3, 6) (<built-in function mul>, <built-in function truediv>, <built-in function truediv>, <built-in function truediv>, <built-in function truediv>)\n",
      "(100, 50, 3, 1, 3, 6) (<built-in function truediv>, <built-in function add>, <built-in function add>, <built-in function add>, <built-in function add>)\n",
      "(100, 50, 3, 1, 3, 6) (<built-in function truediv>, <built-in function add>, <built-in function add>, <built-in function add>, <built-in function sub>)\n",
      "(100, 50, 3, 1, 3, 6) (<built-in function truediv>, <built-in function add>, <built-in function add>, <built-in function add>, <built-in function mul>)\n",
      "(100, 50, 3, 1, 3, 6) (<built-in function truediv>, <built-in function add>, <built-in function add>, <built-in function add>, <built-in function truediv>)\n",
      "(100, 50, 3, 1, 3, 6) (<built-in function truediv>, <built-in function add>, <built-in function add>, <built-in function sub>, <built-in function add>)\n",
      "(100, 50, 3, 1, 3, 6) (<built-in function truediv>, <built-in function add>, <built-in function add>, <built-in function sub>, <built-in function sub>)\n",
      "(100, 50, 3, 1, 3, 6) (<built-in function truediv>, <built-in function add>, <built-in function add>, <built-in function sub>, <built-in function mul>)\n",
      "(100, 50, 3, 1, 3, 6) (<built-in function truediv>, <built-in function add>, <built-in function add>, <built-in function sub>, <built-in function truediv>)\n",
      "(100, 50, 3, 1, 3, 6) (<built-in function truediv>, <built-in function add>, <built-in function add>, <built-in function mul>, <built-in function add>)\n",
      "(100, 50, 3, 1, 3, 6) (<built-in function truediv>, <built-in function add>, <built-in function add>, <built-in function mul>, <built-in function sub>)\n",
      "(100, 50, 3, 1, 3, 6) (<built-in function truediv>, <built-in function add>, <built-in function add>, <built-in function mul>, <built-in function mul>)\n",
      "(100, 50, 3, 1, 3, 6) (<built-in function truediv>, <built-in function add>, <built-in function add>, <built-in function mul>, <built-in function truediv>)\n",
      "(100, 50, 3, 1, 3, 6) (<built-in function truediv>, <built-in function add>, <built-in function add>, <built-in function truediv>, <built-in function add>)\n",
      "(100, 50, 3, 1, 3, 6) (<built-in function truediv>, <built-in function add>, <built-in function add>, <built-in function truediv>, <built-in function sub>)\n",
      "(100, 50, 3, 1, 3, 6) (<built-in function truediv>, <built-in function add>, <built-in function add>, <built-in function truediv>, <built-in function mul>)\n",
      "(100, 50, 3, 1, 3, 6) (<built-in function truediv>, <built-in function add>, <built-in function add>, <built-in function truediv>, <built-in function truediv>)\n",
      "(100, 50, 3, 1, 3, 6) (<built-in function truediv>, <built-in function add>, <built-in function sub>, <built-in function add>, <built-in function add>)\n",
      "(100, 50, 3, 1, 3, 6) (<built-in function truediv>, <built-in function add>, <built-in function sub>, <built-in function add>, <built-in function sub>)\n",
      "(100, 50, 3, 1, 3, 6) (<built-in function truediv>, <built-in function add>, <built-in function sub>, <built-in function add>, <built-in function mul>)\n",
      "(100, 50, 3, 1, 3, 6) (<built-in function truediv>, <built-in function add>, <built-in function sub>, <built-in function add>, <built-in function truediv>)\n",
      "(100, 50, 3, 1, 3, 6) (<built-in function truediv>, <built-in function add>, <built-in function sub>, <built-in function sub>, <built-in function add>)\n",
      "(100, 50, 3, 1, 3, 6) (<built-in function truediv>, <built-in function add>, <built-in function sub>, <built-in function sub>, <built-in function sub>)\n",
      "(100, 50, 3, 1, 3, 6) (<built-in function truediv>, <built-in function add>, <built-in function sub>, <built-in function sub>, <built-in function mul>)\n",
      "(100, 50, 3, 1, 3, 6) (<built-in function truediv>, <built-in function add>, <built-in function sub>, <built-in function sub>, <built-in function truediv>)\n",
      "(100, 50, 3, 1, 3, 6) (<built-in function truediv>, <built-in function add>, <built-in function sub>, <built-in function mul>, <built-in function add>)\n",
      "(100, 50, 3, 1, 3, 6) (<built-in function truediv>, <built-in function add>, <built-in function sub>, <built-in function mul>, <built-in function sub>)\n",
      "(100, 50, 3, 1, 3, 6) (<built-in function truediv>, <built-in function add>, <built-in function sub>, <built-in function mul>, <built-in function mul>)\n",
      "(100, 50, 3, 1, 3, 6) (<built-in function truediv>, <built-in function add>, <built-in function sub>, <built-in function mul>, <built-in function truediv>)\n",
      "(100, 50, 3, 1, 3, 6) (<built-in function truediv>, <built-in function add>, <built-in function sub>, <built-in function truediv>, <built-in function add>)\n",
      "(100, 50, 3, 1, 3, 6) (<built-in function truediv>, <built-in function add>, <built-in function sub>, <built-in function truediv>, <built-in function sub>)\n",
      "(100, 50, 3, 1, 3, 6) (<built-in function truediv>, <built-in function add>, <built-in function sub>, <built-in function truediv>, <built-in function mul>)\n",
      "(100, 50, 3, 1, 3, 6) (<built-in function truediv>, <built-in function add>, <built-in function sub>, <built-in function truediv>, <built-in function truediv>)\n",
      "(100, 50, 3, 1, 3, 6) (<built-in function truediv>, <built-in function add>, <built-in function mul>, <built-in function add>, <built-in function add>)\n",
      "(100, 50, 3, 1, 3, 6) (<built-in function truediv>, <built-in function add>, <built-in function mul>, <built-in function add>, <built-in function sub>)\n",
      "(100, 50, 3, 1, 3, 6) (<built-in function truediv>, <built-in function add>, <built-in function mul>, <built-in function add>, <built-in function mul>)\n",
      "(100, 50, 3, 1, 3, 6) (<built-in function truediv>, <built-in function add>, <built-in function mul>, <built-in function add>, <built-in function truediv>)\n",
      "(100, 50, 3, 1, 3, 6) (<built-in function truediv>, <built-in function add>, <built-in function mul>, <built-in function sub>, <built-in function add>)\n",
      "(100, 50, 3, 1, 3, 6) (<built-in function truediv>, <built-in function add>, <built-in function mul>, <built-in function sub>, <built-in function sub>)\n",
      "(100, 50, 3, 1, 3, 6) (<built-in function truediv>, <built-in function add>, <built-in function mul>, <built-in function sub>, <built-in function mul>)\n",
      "(100, 50, 3, 1, 3, 6) (<built-in function truediv>, <built-in function add>, <built-in function mul>, <built-in function sub>, <built-in function truediv>)\n",
      "(100, 50, 3, 1, 3, 6) (<built-in function truediv>, <built-in function add>, <built-in function mul>, <built-in function mul>, <built-in function add>)\n",
      "(100, 50, 3, 1, 3, 6) (<built-in function truediv>, <built-in function add>, <built-in function mul>, <built-in function mul>, <built-in function sub>)\n",
      "(100, 50, 3, 1, 3, 6) (<built-in function truediv>, <built-in function add>, <built-in function mul>, <built-in function mul>, <built-in function mul>)\n",
      "(100, 50, 3, 1, 3, 6) (<built-in function truediv>, <built-in function add>, <built-in function mul>, <built-in function mul>, <built-in function truediv>)\n",
      "(100, 50, 3, 1, 3, 6) (<built-in function truediv>, <built-in function add>, <built-in function mul>, <built-in function truediv>, <built-in function add>)\n",
      "(100, 50, 3, 1, 3, 6) (<built-in function truediv>, <built-in function add>, <built-in function mul>, <built-in function truediv>, <built-in function sub>)\n",
      "(100, 50, 3, 1, 3, 6) (<built-in function truediv>, <built-in function add>, <built-in function mul>, <built-in function truediv>, <built-in function mul>)\n",
      "(100, 50, 3, 1, 3, 6) (<built-in function truediv>, <built-in function add>, <built-in function mul>, <built-in function truediv>, <built-in function truediv>)\n"
     ]
    },
    {
     "name": "stdout",
     "output_type": "stream",
     "text": [
      "(100, 50, 3, 1, 3, 6) (<built-in function truediv>, <built-in function add>, <built-in function truediv>, <built-in function add>, <built-in function add>)\n",
      "(100, 50, 3, 1, 3, 6) (<built-in function truediv>, <built-in function add>, <built-in function truediv>, <built-in function add>, <built-in function sub>)\n",
      "(100, 50, 3, 1, 3, 6) (<built-in function truediv>, <built-in function add>, <built-in function truediv>, <built-in function add>, <built-in function mul>)\n",
      "(100, 50, 3, 1, 3, 6) (<built-in function truediv>, <built-in function add>, <built-in function truediv>, <built-in function add>, <built-in function truediv>)\n",
      "(100, 50, 3, 1, 3, 6) (<built-in function truediv>, <built-in function add>, <built-in function truediv>, <built-in function sub>, <built-in function add>)\n",
      "(100, 50, 3, 1, 3, 6) (<built-in function truediv>, <built-in function add>, <built-in function truediv>, <built-in function sub>, <built-in function sub>)\n",
      "(100, 50, 3, 1, 3, 6) (<built-in function truediv>, <built-in function add>, <built-in function truediv>, <built-in function sub>, <built-in function mul>)\n",
      "(100, 50, 3, 1, 3, 6) (<built-in function truediv>, <built-in function add>, <built-in function truediv>, <built-in function sub>, <built-in function truediv>)\n",
      "(100, 50, 3, 1, 3, 6) (<built-in function truediv>, <built-in function add>, <built-in function truediv>, <built-in function mul>, <built-in function add>)\n",
      "(100, 50, 3, 1, 3, 6) (<built-in function truediv>, <built-in function add>, <built-in function truediv>, <built-in function mul>, <built-in function sub>)\n",
      "(100, 50, 3, 1, 3, 6) (<built-in function truediv>, <built-in function add>, <built-in function truediv>, <built-in function mul>, <built-in function mul>)\n",
      "(100, 50, 3, 1, 3, 6) (<built-in function truediv>, <built-in function add>, <built-in function truediv>, <built-in function mul>, <built-in function truediv>)\n",
      "(100, 50, 3, 1, 3, 6) (<built-in function truediv>, <built-in function add>, <built-in function truediv>, <built-in function truediv>, <built-in function add>)\n",
      "(100, 50, 3, 1, 3, 6) (<built-in function truediv>, <built-in function add>, <built-in function truediv>, <built-in function truediv>, <built-in function sub>)\n",
      "(100, 50, 3, 1, 3, 6) (<built-in function truediv>, <built-in function add>, <built-in function truediv>, <built-in function truediv>, <built-in function mul>)\n",
      "(100, 50, 3, 1, 3, 6) (<built-in function truediv>, <built-in function add>, <built-in function truediv>, <built-in function truediv>, <built-in function truediv>)\n",
      "(100, 50, 3, 1, 3, 6) (<built-in function truediv>, <built-in function sub>, <built-in function add>, <built-in function add>, <built-in function add>)\n",
      "(100, 50, 3, 1, 3, 6) (<built-in function truediv>, <built-in function sub>, <built-in function add>, <built-in function add>, <built-in function sub>)\n",
      "(100, 50, 3, 1, 3, 6) (<built-in function truediv>, <built-in function sub>, <built-in function add>, <built-in function add>, <built-in function mul>)\n",
      "(100, 50, 3, 1, 3, 6) (<built-in function truediv>, <built-in function sub>, <built-in function add>, <built-in function add>, <built-in function truediv>)\n",
      "(100, 50, 3, 1, 3, 6) (<built-in function truediv>, <built-in function sub>, <built-in function add>, <built-in function sub>, <built-in function add>)\n",
      "(100, 50, 3, 1, 3, 6) (<built-in function truediv>, <built-in function sub>, <built-in function add>, <built-in function sub>, <built-in function sub>)\n",
      "(100, 50, 3, 1, 3, 6) (<built-in function truediv>, <built-in function sub>, <built-in function add>, <built-in function sub>, <built-in function mul>)\n",
      "(100, 50, 3, 1, 3, 6) (<built-in function truediv>, <built-in function sub>, <built-in function add>, <built-in function sub>, <built-in function truediv>)\n",
      "(100, 50, 3, 1, 3, 6) (<built-in function truediv>, <built-in function sub>, <built-in function add>, <built-in function mul>, <built-in function add>)\n",
      "(100, 50, 3, 1, 3, 6) (<built-in function truediv>, <built-in function sub>, <built-in function add>, <built-in function mul>, <built-in function sub>)\n",
      "(100, 50, 3, 1, 3, 6) (<built-in function truediv>, <built-in function sub>, <built-in function add>, <built-in function mul>, <built-in function mul>)\n",
      "(100, 50, 3, 1, 3, 6) (<built-in function truediv>, <built-in function sub>, <built-in function add>, <built-in function mul>, <built-in function truediv>)\n",
      "(100, 50, 3, 1, 3, 6) (<built-in function truediv>, <built-in function sub>, <built-in function add>, <built-in function truediv>, <built-in function add>)\n",
      "(100, 50, 3, 1, 3, 6) (<built-in function truediv>, <built-in function sub>, <built-in function add>, <built-in function truediv>, <built-in function sub>)\n",
      "(100, 50, 3, 1, 3, 6) (<built-in function truediv>, <built-in function sub>, <built-in function add>, <built-in function truediv>, <built-in function mul>)\n",
      "(100, 50, 3, 1, 3, 6) (<built-in function truediv>, <built-in function sub>, <built-in function add>, <built-in function truediv>, <built-in function truediv>)\n",
      "(100, 50, 3, 1, 3, 6) (<built-in function truediv>, <built-in function sub>, <built-in function sub>, <built-in function add>, <built-in function add>)\n",
      "(100, 50, 3, 1, 3, 6) (<built-in function truediv>, <built-in function sub>, <built-in function sub>, <built-in function add>, <built-in function sub>)\n",
      "(100, 50, 3, 1, 3, 6) (<built-in function truediv>, <built-in function sub>, <built-in function sub>, <built-in function add>, <built-in function mul>)\n",
      "(100, 50, 3, 1, 3, 6) (<built-in function truediv>, <built-in function sub>, <built-in function sub>, <built-in function add>, <built-in function truediv>)\n",
      "(100, 50, 3, 1, 3, 6) (<built-in function truediv>, <built-in function sub>, <built-in function sub>, <built-in function sub>, <built-in function add>)\n",
      "(100, 50, 3, 1, 3, 6) (<built-in function truediv>, <built-in function sub>, <built-in function sub>, <built-in function sub>, <built-in function sub>)\n",
      "(100, 50, 3, 1, 3, 6) (<built-in function truediv>, <built-in function sub>, <built-in function sub>, <built-in function sub>, <built-in function mul>)\n",
      "(100, 50, 3, 1, 3, 6) (<built-in function truediv>, <built-in function sub>, <built-in function sub>, <built-in function sub>, <built-in function truediv>)\n",
      "(100, 50, 3, 1, 3, 6) (<built-in function truediv>, <built-in function sub>, <built-in function sub>, <built-in function mul>, <built-in function add>)\n",
      "(100, 50, 3, 1, 3, 6) (<built-in function truediv>, <built-in function sub>, <built-in function sub>, <built-in function mul>, <built-in function sub>)\n",
      "(100, 50, 3, 1, 3, 6) (<built-in function truediv>, <built-in function sub>, <built-in function sub>, <built-in function mul>, <built-in function mul>)\n",
      "(100, 50, 3, 1, 3, 6) (<built-in function truediv>, <built-in function sub>, <built-in function sub>, <built-in function mul>, <built-in function truediv>)\n",
      "(100, 50, 3, 1, 3, 6) (<built-in function truediv>, <built-in function sub>, <built-in function sub>, <built-in function truediv>, <built-in function add>)\n",
      "(100, 50, 3, 1, 3, 6) (<built-in function truediv>, <built-in function sub>, <built-in function sub>, <built-in function truediv>, <built-in function sub>)\n",
      "(100, 50, 3, 1, 3, 6) (<built-in function truediv>, <built-in function sub>, <built-in function sub>, <built-in function truediv>, <built-in function mul>)\n",
      "(100, 50, 3, 1, 3, 6) (<built-in function truediv>, <built-in function sub>, <built-in function sub>, <built-in function truediv>, <built-in function truediv>)\n",
      "(100, 50, 3, 1, 3, 6) (<built-in function truediv>, <built-in function sub>, <built-in function mul>, <built-in function add>, <built-in function add>)\n",
      "(100, 50, 3, 1, 3, 6) (<built-in function truediv>, <built-in function sub>, <built-in function mul>, <built-in function add>, <built-in function sub>)\n",
      "(100, 50, 3, 1, 3, 6) (<built-in function truediv>, <built-in function sub>, <built-in function mul>, <built-in function add>, <built-in function mul>)\n",
      "(100, 50, 3, 1, 3, 6) (<built-in function truediv>, <built-in function sub>, <built-in function mul>, <built-in function add>, <built-in function truediv>)\n",
      "(100, 50, 3, 1, 3, 6) (<built-in function truediv>, <built-in function sub>, <built-in function mul>, <built-in function sub>, <built-in function add>)\n",
      "(100, 50, 3, 1, 3, 6) (<built-in function truediv>, <built-in function sub>, <built-in function mul>, <built-in function sub>, <built-in function sub>)\n",
      "(100, 50, 3, 1, 3, 6) (<built-in function truediv>, <built-in function sub>, <built-in function mul>, <built-in function sub>, <built-in function mul>)\n",
      "(100, 50, 3, 1, 3, 6) (<built-in function truediv>, <built-in function sub>, <built-in function mul>, <built-in function sub>, <built-in function truediv>)\n",
      "(100, 50, 3, 1, 3, 6) (<built-in function truediv>, <built-in function sub>, <built-in function mul>, <built-in function mul>, <built-in function add>)\n",
      "(100, 50, 3, 1, 3, 6) (<built-in function truediv>, <built-in function sub>, <built-in function mul>, <built-in function mul>, <built-in function sub>)\n",
      "(100, 50, 3, 1, 3, 6) (<built-in function truediv>, <built-in function sub>, <built-in function mul>, <built-in function mul>, <built-in function mul>)\n",
      "(100, 50, 3, 1, 3, 6) (<built-in function truediv>, <built-in function sub>, <built-in function mul>, <built-in function mul>, <built-in function truediv>)\n",
      "(100, 50, 3, 1, 3, 6) (<built-in function truediv>, <built-in function sub>, <built-in function mul>, <built-in function truediv>, <built-in function add>)\n",
      "(100, 50, 3, 1, 3, 6) (<built-in function truediv>, <built-in function sub>, <built-in function mul>, <built-in function truediv>, <built-in function sub>)\n",
      "(100, 50, 3, 1, 3, 6) (<built-in function truediv>, <built-in function sub>, <built-in function mul>, <built-in function truediv>, <built-in function mul>)\n",
      "(100, 50, 3, 1, 3, 6) (<built-in function truediv>, <built-in function sub>, <built-in function mul>, <built-in function truediv>, <built-in function truediv>)\n",
      "(100, 50, 3, 1, 3, 6) (<built-in function truediv>, <built-in function sub>, <built-in function truediv>, <built-in function add>, <built-in function add>)\n",
      "(100, 50, 3, 1, 3, 6) (<built-in function truediv>, <built-in function sub>, <built-in function truediv>, <built-in function add>, <built-in function sub>)\n",
      "(100, 50, 3, 1, 3, 6) (<built-in function truediv>, <built-in function sub>, <built-in function truediv>, <built-in function add>, <built-in function mul>)\n",
      "(100, 50, 3, 1, 3, 6) (<built-in function truediv>, <built-in function sub>, <built-in function truediv>, <built-in function add>, <built-in function truediv>)\n",
      "(100, 50, 3, 1, 3, 6) (<built-in function truediv>, <built-in function sub>, <built-in function truediv>, <built-in function sub>, <built-in function add>)\n",
      "(100, 50, 3, 1, 3, 6) (<built-in function truediv>, <built-in function sub>, <built-in function truediv>, <built-in function sub>, <built-in function sub>)\n",
      "(100, 50, 3, 1, 3, 6) (<built-in function truediv>, <built-in function sub>, <built-in function truediv>, <built-in function sub>, <built-in function mul>)\n",
      "(100, 50, 3, 1, 3, 6) (<built-in function truediv>, <built-in function sub>, <built-in function truediv>, <built-in function sub>, <built-in function truediv>)\n",
      "(100, 50, 3, 1, 3, 6) (<built-in function truediv>, <built-in function sub>, <built-in function truediv>, <built-in function mul>, <built-in function add>)\n",
      "(100, 50, 3, 1, 3, 6) (<built-in function truediv>, <built-in function sub>, <built-in function truediv>, <built-in function mul>, <built-in function sub>)\n",
      "(100, 50, 3, 1, 3, 6) (<built-in function truediv>, <built-in function sub>, <built-in function truediv>, <built-in function mul>, <built-in function mul>)\n",
      "(100, 50, 3, 1, 3, 6) (<built-in function truediv>, <built-in function sub>, <built-in function truediv>, <built-in function mul>, <built-in function truediv>)\n",
      "(100, 50, 3, 1, 3, 6) (<built-in function truediv>, <built-in function sub>, <built-in function truediv>, <built-in function truediv>, <built-in function add>)\n",
      "(100, 50, 3, 1, 3, 6) (<built-in function truediv>, <built-in function sub>, <built-in function truediv>, <built-in function truediv>, <built-in function sub>)\n",
      "(100, 50, 3, 1, 3, 6) (<built-in function truediv>, <built-in function sub>, <built-in function truediv>, <built-in function truediv>, <built-in function mul>)\n",
      "(100, 50, 3, 1, 3, 6) (<built-in function truediv>, <built-in function sub>, <built-in function truediv>, <built-in function truediv>, <built-in function truediv>)\n",
      "(100, 50, 3, 1, 3, 6) (<built-in function truediv>, <built-in function mul>, <built-in function add>, <built-in function add>, <built-in function add>)\n",
      "(100, 50, 3, 1, 3, 6) (<built-in function truediv>, <built-in function mul>, <built-in function add>, <built-in function add>, <built-in function sub>)\n",
      "(100, 50, 3, 1, 3, 6) (<built-in function truediv>, <built-in function mul>, <built-in function add>, <built-in function add>, <built-in function mul>)\n",
      "(100, 50, 3, 1, 3, 6) (<built-in function truediv>, <built-in function mul>, <built-in function add>, <built-in function add>, <built-in function truediv>)\n",
      "(100, 50, 3, 1, 3, 6) (<built-in function truediv>, <built-in function mul>, <built-in function add>, <built-in function sub>, <built-in function add>)\n",
      "(100, 50, 3, 1, 3, 6) (<built-in function truediv>, <built-in function mul>, <built-in function add>, <built-in function sub>, <built-in function sub>)\n",
      "(100, 50, 3, 1, 3, 6) (<built-in function truediv>, <built-in function mul>, <built-in function add>, <built-in function sub>, <built-in function mul>)\n",
      "(100, 50, 3, 1, 3, 6) (<built-in function truediv>, <built-in function mul>, <built-in function add>, <built-in function sub>, <built-in function truediv>)\n",
      "(100, 50, 3, 1, 3, 6) (<built-in function truediv>, <built-in function mul>, <built-in function add>, <built-in function mul>, <built-in function add>)\n",
      "(100, 50, 3, 1, 3, 6) (<built-in function truediv>, <built-in function mul>, <built-in function add>, <built-in function mul>, <built-in function sub>)\n",
      "(100, 50, 3, 1, 3, 6) (<built-in function truediv>, <built-in function mul>, <built-in function add>, <built-in function mul>, <built-in function mul>)\n",
      "(100, 50, 3, 1, 3, 6) (<built-in function truediv>, <built-in function mul>, <built-in function add>, <built-in function mul>, <built-in function truediv>)\n",
      "(100, 50, 3, 1, 3, 6) (<built-in function truediv>, <built-in function mul>, <built-in function add>, <built-in function truediv>, <built-in function add>)\n",
      "(100, 50, 3, 1, 3, 6) (<built-in function truediv>, <built-in function mul>, <built-in function add>, <built-in function truediv>, <built-in function sub>)\n",
      "(100, 50, 3, 1, 3, 6) (<built-in function truediv>, <built-in function mul>, <built-in function add>, <built-in function truediv>, <built-in function mul>)\n",
      "(100, 50, 3, 1, 3, 6) (<built-in function truediv>, <built-in function mul>, <built-in function add>, <built-in function truediv>, <built-in function truediv>)\n",
      "(100, 50, 3, 1, 3, 6) (<built-in function truediv>, <built-in function mul>, <built-in function sub>, <built-in function add>, <built-in function add>)\n",
      "(100, 50, 3, 1, 3, 6) (<built-in function truediv>, <built-in function mul>, <built-in function sub>, <built-in function add>, <built-in function sub>)\n",
      "(100, 50, 3, 1, 3, 6) (<built-in function truediv>, <built-in function mul>, <built-in function sub>, <built-in function add>, <built-in function mul>)\n",
      "(100, 50, 3, 1, 3, 6) (<built-in function truediv>, <built-in function mul>, <built-in function sub>, <built-in function add>, <built-in function truediv>)\n",
      "(100, 50, 3, 1, 3, 6) (<built-in function truediv>, <built-in function mul>, <built-in function sub>, <built-in function sub>, <built-in function add>)\n",
      "(100, 50, 3, 1, 3, 6) (<built-in function truediv>, <built-in function mul>, <built-in function sub>, <built-in function sub>, <built-in function sub>)\n",
      "(100, 50, 3, 1, 3, 6) (<built-in function truediv>, <built-in function mul>, <built-in function sub>, <built-in function sub>, <built-in function mul>)\n",
      "(100, 50, 3, 1, 3, 6) (<built-in function truediv>, <built-in function mul>, <built-in function sub>, <built-in function sub>, <built-in function truediv>)\n",
      "(100, 50, 3, 1, 3, 6) (<built-in function truediv>, <built-in function mul>, <built-in function sub>, <built-in function mul>, <built-in function add>)\n",
      "(100, 50, 3, 1, 3, 6) (<built-in function truediv>, <built-in function mul>, <built-in function sub>, <built-in function mul>, <built-in function sub>)\n",
      "(100, 50, 3, 1, 3, 6) (<built-in function truediv>, <built-in function mul>, <built-in function sub>, <built-in function mul>, <built-in function mul>)\n",
      "(100, 50, 3, 1, 3, 6) (<built-in function truediv>, <built-in function mul>, <built-in function sub>, <built-in function mul>, <built-in function truediv>)\n",
      "(100, 50, 3, 1, 3, 6) (<built-in function truediv>, <built-in function mul>, <built-in function sub>, <built-in function truediv>, <built-in function add>)\n",
      "(100, 50, 3, 1, 3, 6) (<built-in function truediv>, <built-in function mul>, <built-in function sub>, <built-in function truediv>, <built-in function sub>)\n",
      "(100, 50, 3, 1, 3, 6) (<built-in function truediv>, <built-in function mul>, <built-in function sub>, <built-in function truediv>, <built-in function mul>)\n",
      "(100, 50, 3, 1, 3, 6) (<built-in function truediv>, <built-in function mul>, <built-in function sub>, <built-in function truediv>, <built-in function truediv>)\n",
      "(100, 50, 3, 1, 3, 6) (<built-in function truediv>, <built-in function mul>, <built-in function mul>, <built-in function add>, <built-in function add>)\n",
      "(100, 50, 3, 1, 3, 6) (<built-in function truediv>, <built-in function mul>, <built-in function mul>, <built-in function add>, <built-in function sub>)\n",
      "(100, 50, 3, 1, 3, 6) (<built-in function truediv>, <built-in function mul>, <built-in function mul>, <built-in function add>, <built-in function mul>)\n",
      "(100, 50, 3, 1, 3, 6) (<built-in function truediv>, <built-in function mul>, <built-in function mul>, <built-in function add>, <built-in function truediv>)\n",
      "(100, 50, 3, 1, 3, 6) (<built-in function truediv>, <built-in function mul>, <built-in function mul>, <built-in function sub>, <built-in function add>)\n",
      "(100, 50, 3, 1, 3, 6) (<built-in function truediv>, <built-in function mul>, <built-in function mul>, <built-in function sub>, <built-in function sub>)\n",
      "(100, 50, 3, 1, 3, 6) (<built-in function truediv>, <built-in function mul>, <built-in function mul>, <built-in function sub>, <built-in function mul>)\n",
      "(100, 50, 3, 1, 3, 6) (<built-in function truediv>, <built-in function mul>, <built-in function mul>, <built-in function sub>, <built-in function truediv>)\n",
      "(100, 50, 3, 1, 3, 6) (<built-in function truediv>, <built-in function mul>, <built-in function mul>, <built-in function mul>, <built-in function add>)\n",
      "(100, 50, 3, 1, 3, 6) (<built-in function truediv>, <built-in function mul>, <built-in function mul>, <built-in function mul>, <built-in function sub>)\n",
      "(100, 50, 3, 1, 3, 6) (<built-in function truediv>, <built-in function mul>, <built-in function mul>, <built-in function mul>, <built-in function mul>)\n",
      "(100, 50, 3, 1, 3, 6) (<built-in function truediv>, <built-in function mul>, <built-in function mul>, <built-in function mul>, <built-in function truediv>)\n",
      "(100, 50, 3, 1, 3, 6) (<built-in function truediv>, <built-in function mul>, <built-in function mul>, <built-in function truediv>, <built-in function add>)\n",
      "(100, 50, 3, 1, 3, 6) (<built-in function truediv>, <built-in function mul>, <built-in function mul>, <built-in function truediv>, <built-in function sub>)\n",
      "(100, 50, 3, 1, 3, 6) (<built-in function truediv>, <built-in function mul>, <built-in function mul>, <built-in function truediv>, <built-in function mul>)\n",
      "(100, 50, 3, 1, 3, 6) (<built-in function truediv>, <built-in function mul>, <built-in function mul>, <built-in function truediv>, <built-in function truediv>)\n",
      "(100, 50, 3, 1, 3, 6) (<built-in function truediv>, <built-in function mul>, <built-in function truediv>, <built-in function add>, <built-in function add>)\n",
      "(100, 50, 3, 1, 3, 6) (<built-in function truediv>, <built-in function mul>, <built-in function truediv>, <built-in function add>, <built-in function sub>)\n",
      "(100, 50, 3, 1, 3, 6) (<built-in function truediv>, <built-in function mul>, <built-in function truediv>, <built-in function add>, <built-in function mul>)\n",
      "(100, 50, 3, 1, 3, 6) (<built-in function truediv>, <built-in function mul>, <built-in function truediv>, <built-in function add>, <built-in function truediv>)\n",
      "(100, 50, 3, 1, 3, 6) (<built-in function truediv>, <built-in function mul>, <built-in function truediv>, <built-in function sub>, <built-in function add>)\n",
      "(100, 50, 3, 1, 3, 6) (<built-in function truediv>, <built-in function mul>, <built-in function truediv>, <built-in function sub>, <built-in function sub>)\n",
      "(100, 50, 3, 1, 3, 6) (<built-in function truediv>, <built-in function mul>, <built-in function truediv>, <built-in function sub>, <built-in function mul>)\n",
      "(100, 50, 3, 1, 3, 6) (<built-in function truediv>, <built-in function mul>, <built-in function truediv>, <built-in function sub>, <built-in function truediv>)\n",
      "(100, 50, 3, 1, 3, 6) (<built-in function truediv>, <built-in function mul>, <built-in function truediv>, <built-in function mul>, <built-in function add>)\n",
      "(100, 50, 3, 1, 3, 6) (<built-in function truediv>, <built-in function mul>, <built-in function truediv>, <built-in function mul>, <built-in function sub>)\n",
      "(100, 50, 3, 1, 3, 6) (<built-in function truediv>, <built-in function mul>, <built-in function truediv>, <built-in function mul>, <built-in function mul>)\n",
      "(100, 50, 3, 1, 3, 6) (<built-in function truediv>, <built-in function mul>, <built-in function truediv>, <built-in function mul>, <built-in function truediv>)\n",
      "(100, 50, 3, 1, 3, 6) (<built-in function truediv>, <built-in function mul>, <built-in function truediv>, <built-in function truediv>, <built-in function add>)\n",
      "(100, 50, 3, 1, 3, 6) (<built-in function truediv>, <built-in function mul>, <built-in function truediv>, <built-in function truediv>, <built-in function sub>)\n",
      "(100, 50, 3, 1, 3, 6) (<built-in function truediv>, <built-in function mul>, <built-in function truediv>, <built-in function truediv>, <built-in function mul>)\n",
      "(100, 50, 3, 1, 3, 6) (<built-in function truediv>, <built-in function mul>, <built-in function truediv>, <built-in function truediv>, <built-in function truediv>)\n",
      "(100, 50, 3, 1, 3, 6) (<built-in function truediv>, <built-in function truediv>, <built-in function add>, <built-in function add>, <built-in function add>)\n",
      "(100, 50, 3, 1, 3, 6) (<built-in function truediv>, <built-in function truediv>, <built-in function add>, <built-in function add>, <built-in function sub>)\n",
      "(100, 50, 3, 1, 3, 6) (<built-in function truediv>, <built-in function truediv>, <built-in function add>, <built-in function add>, <built-in function mul>)\n",
      "(100, 50, 3, 1, 3, 6) (<built-in function truediv>, <built-in function truediv>, <built-in function add>, <built-in function add>, <built-in function truediv>)\n",
      "(100, 50, 3, 1, 3, 6) (<built-in function truediv>, <built-in function truediv>, <built-in function add>, <built-in function sub>, <built-in function add>)\n",
      "(100, 50, 3, 1, 3, 6) (<built-in function truediv>, <built-in function truediv>, <built-in function add>, <built-in function sub>, <built-in function sub>)\n",
      "(100, 50, 3, 1, 3, 6) (<built-in function truediv>, <built-in function truediv>, <built-in function add>, <built-in function sub>, <built-in function mul>)\n",
      "(100, 50, 3, 1, 3, 6) (<built-in function truediv>, <built-in function truediv>, <built-in function add>, <built-in function sub>, <built-in function truediv>)\n",
      "(100, 50, 3, 1, 3, 6) (<built-in function truediv>, <built-in function truediv>, <built-in function add>, <built-in function mul>, <built-in function add>)\n",
      "(100, 50, 3, 1, 3, 6) (<built-in function truediv>, <built-in function truediv>, <built-in function add>, <built-in function mul>, <built-in function sub>)\n",
      "(100, 50, 3, 1, 3, 6) (<built-in function truediv>, <built-in function truediv>, <built-in function add>, <built-in function mul>, <built-in function mul>)\n",
      "(100, 50, 3, 1, 3, 6) (<built-in function truediv>, <built-in function truediv>, <built-in function add>, <built-in function mul>, <built-in function truediv>)\n",
      "(100, 50, 3, 1, 3, 6) (<built-in function truediv>, <built-in function truediv>, <built-in function add>, <built-in function truediv>, <built-in function add>)\n",
      "(100, 50, 3, 1, 3, 6) (<built-in function truediv>, <built-in function truediv>, <built-in function add>, <built-in function truediv>, <built-in function sub>)\n",
      "(100, 50, 3, 1, 3, 6) (<built-in function truediv>, <built-in function truediv>, <built-in function add>, <built-in function truediv>, <built-in function mul>)\n",
      "(100, 50, 3, 1, 3, 6) (<built-in function truediv>, <built-in function truediv>, <built-in function add>, <built-in function truediv>, <built-in function truediv>)\n",
      "(100, 50, 3, 1, 3, 6) (<built-in function truediv>, <built-in function truediv>, <built-in function sub>, <built-in function add>, <built-in function add>)\n",
      "(100, 50, 3, 1, 3, 6) (<built-in function truediv>, <built-in function truediv>, <built-in function sub>, <built-in function add>, <built-in function sub>)\n",
      "(100, 50, 3, 1, 3, 6) (<built-in function truediv>, <built-in function truediv>, <built-in function sub>, <built-in function add>, <built-in function mul>)\n",
      "(100, 50, 3, 1, 3, 6) (<built-in function truediv>, <built-in function truediv>, <built-in function sub>, <built-in function add>, <built-in function truediv>)\n",
      "(100, 50, 3, 1, 3, 6) (<built-in function truediv>, <built-in function truediv>, <built-in function sub>, <built-in function sub>, <built-in function add>)\n",
      "(100, 50, 3, 1, 3, 6) (<built-in function truediv>, <built-in function truediv>, <built-in function sub>, <built-in function sub>, <built-in function sub>)\n",
      "(100, 50, 3, 1, 3, 6) (<built-in function truediv>, <built-in function truediv>, <built-in function sub>, <built-in function sub>, <built-in function mul>)\n",
      "(100, 50, 3, 1, 3, 6) (<built-in function truediv>, <built-in function truediv>, <built-in function sub>, <built-in function sub>, <built-in function truediv>)\n",
      "(100, 50, 3, 1, 3, 6) (<built-in function truediv>, <built-in function truediv>, <built-in function sub>, <built-in function mul>, <built-in function add>)\n",
      "(100, 50, 3, 1, 3, 6) (<built-in function truediv>, <built-in function truediv>, <built-in function sub>, <built-in function mul>, <built-in function sub>)\n",
      "(100, 50, 3, 1, 3, 6) (<built-in function truediv>, <built-in function truediv>, <built-in function sub>, <built-in function mul>, <built-in function mul>)\n",
      "(100, 50, 3, 1, 3, 6) (<built-in function truediv>, <built-in function truediv>, <built-in function sub>, <built-in function mul>, <built-in function truediv>)\n",
      "(100, 50, 3, 1, 3, 6) (<built-in function truediv>, <built-in function truediv>, <built-in function sub>, <built-in function truediv>, <built-in function add>)\n",
      "(100, 50, 3, 1, 3, 6) (<built-in function truediv>, <built-in function truediv>, <built-in function sub>, <built-in function truediv>, <built-in function sub>)\n",
      "(100, 50, 3, 1, 3, 6) (<built-in function truediv>, <built-in function truediv>, <built-in function sub>, <built-in function truediv>, <built-in function mul>)\n",
      "(100, 50, 3, 1, 3, 6) (<built-in function truediv>, <built-in function truediv>, <built-in function sub>, <built-in function truediv>, <built-in function truediv>)\n",
      "(100, 50, 3, 1, 3, 6) (<built-in function truediv>, <built-in function truediv>, <built-in function mul>, <built-in function add>, <built-in function add>)\n",
      "(100, 50, 3, 1, 3, 6) (<built-in function truediv>, <built-in function truediv>, <built-in function mul>, <built-in function add>, <built-in function sub>)\n",
      "(100, 50, 3, 1, 3, 6) (<built-in function truediv>, <built-in function truediv>, <built-in function mul>, <built-in function add>, <built-in function mul>)\n",
      "(100, 50, 3, 1, 3, 6) (<built-in function truediv>, <built-in function truediv>, <built-in function mul>, <built-in function add>, <built-in function truediv>)\n",
      "(100, 50, 3, 1, 3, 6) (<built-in function truediv>, <built-in function truediv>, <built-in function mul>, <built-in function sub>, <built-in function add>)\n",
      "(100, 50, 3, 1, 3, 6) (<built-in function truediv>, <built-in function truediv>, <built-in function mul>, <built-in function sub>, <built-in function sub>)\n",
      "(100, 50, 3, 1, 3, 6) (<built-in function truediv>, <built-in function truediv>, <built-in function mul>, <built-in function sub>, <built-in function mul>)\n",
      "(100, 50, 3, 1, 3, 6) (<built-in function truediv>, <built-in function truediv>, <built-in function mul>, <built-in function sub>, <built-in function truediv>)\n",
      "(100, 50, 3, 1, 3, 6) (<built-in function truediv>, <built-in function truediv>, <built-in function mul>, <built-in function mul>, <built-in function add>)\n",
      "(100, 50, 3, 1, 3, 6) (<built-in function truediv>, <built-in function truediv>, <built-in function mul>, <built-in function mul>, <built-in function sub>)\n",
      "(100, 50, 3, 1, 3, 6) (<built-in function truediv>, <built-in function truediv>, <built-in function mul>, <built-in function mul>, <built-in function mul>)\n",
      "(100, 50, 3, 1, 3, 6) (<built-in function truediv>, <built-in function truediv>, <built-in function mul>, <built-in function mul>, <built-in function truediv>)\n",
      "(100, 50, 3, 1, 3, 6) (<built-in function truediv>, <built-in function truediv>, <built-in function mul>, <built-in function truediv>, <built-in function add>)\n",
      "(100, 50, 3, 1, 3, 6) (<built-in function truediv>, <built-in function truediv>, <built-in function mul>, <built-in function truediv>, <built-in function sub>)\n",
      "(100, 50, 3, 1, 3, 6) (<built-in function truediv>, <built-in function truediv>, <built-in function mul>, <built-in function truediv>, <built-in function mul>)\n",
      "(100, 50, 3, 1, 3, 6) (<built-in function truediv>, <built-in function truediv>, <built-in function mul>, <built-in function truediv>, <built-in function truediv>)\n",
      "(100, 50, 3, 1, 3, 6) (<built-in function truediv>, <built-in function truediv>, <built-in function truediv>, <built-in function add>, <built-in function add>)\n",
      "(100, 50, 3, 1, 3, 6) (<built-in function truediv>, <built-in function truediv>, <built-in function truediv>, <built-in function add>, <built-in function sub>)\n",
      "(100, 50, 3, 1, 3, 6) (<built-in function truediv>, <built-in function truediv>, <built-in function truediv>, <built-in function add>, <built-in function mul>)\n",
      "(100, 50, 3, 1, 3, 6) (<built-in function truediv>, <built-in function truediv>, <built-in function truediv>, <built-in function add>, <built-in function truediv>)\n",
      "(100, 50, 3, 1, 3, 6) (<built-in function truediv>, <built-in function truediv>, <built-in function truediv>, <built-in function sub>, <built-in function add>)\n",
      "(100, 50, 3, 1, 3, 6) (<built-in function truediv>, <built-in function truediv>, <built-in function truediv>, <built-in function sub>, <built-in function sub>)\n",
      "(100, 50, 3, 1, 3, 6) (<built-in function truediv>, <built-in function truediv>, <built-in function truediv>, <built-in function sub>, <built-in function mul>)\n",
      "(100, 50, 3, 1, 3, 6) (<built-in function truediv>, <built-in function truediv>, <built-in function truediv>, <built-in function sub>, <built-in function truediv>)\n",
      "(100, 50, 3, 1, 3, 6) (<built-in function truediv>, <built-in function truediv>, <built-in function truediv>, <built-in function mul>, <built-in function add>)\n",
      "(100, 50, 3, 1, 3, 6) (<built-in function truediv>, <built-in function truediv>, <built-in function truediv>, <built-in function mul>, <built-in function sub>)\n",
      "(100, 50, 3, 1, 3, 6) (<built-in function truediv>, <built-in function truediv>, <built-in function truediv>, <built-in function mul>, <built-in function mul>)\n",
      "(100, 50, 3, 1, 3, 6) (<built-in function truediv>, <built-in function truediv>, <built-in function truediv>, <built-in function mul>, <built-in function truediv>)\n",
      "(100, 50, 3, 1, 3, 6) (<built-in function truediv>, <built-in function truediv>, <built-in function truediv>, <built-in function truediv>, <built-in function add>)\n",
      "(100, 50, 3, 1, 3, 6) (<built-in function truediv>, <built-in function truediv>, <built-in function truediv>, <built-in function truediv>, <built-in function sub>)\n",
      "(100, 50, 3, 1, 3, 6) (<built-in function truediv>, <built-in function truediv>, <built-in function truediv>, <built-in function truediv>, <built-in function mul>)\n",
      "(100, 50, 3, 1, 3, 6) (<built-in function truediv>, <built-in function truediv>, <built-in function truediv>, <built-in function truediv>, <built-in function truediv>)\n",
      "(100, 50, 3, 1, 6, 3) (<built-in function add>, <built-in function add>, <built-in function add>, <built-in function add>, <built-in function add>)\n",
      "(100, 50, 3, 1, 6, 3) (<built-in function add>, <built-in function add>, <built-in function add>, <built-in function add>, <built-in function sub>)\n",
      "(100, 50, 3, 1, 6, 3) (<built-in function add>, <built-in function add>, <built-in function add>, <built-in function add>, <built-in function mul>)\n",
      "(100, 50, 3, 1, 6, 3) (<built-in function add>, <built-in function add>, <built-in function add>, <built-in function add>, <built-in function truediv>)\n",
      "(100, 50, 3, 1, 6, 3) (<built-in function add>, <built-in function add>, <built-in function add>, <built-in function sub>, <built-in function add>)\n",
      "(100, 50, 3, 1, 6, 3) (<built-in function add>, <built-in function add>, <built-in function add>, <built-in function sub>, <built-in function sub>)\n",
      "(100, 50, 3, 1, 6, 3) (<built-in function add>, <built-in function add>, <built-in function add>, <built-in function sub>, <built-in function mul>)\n",
      "(100, 50, 3, 1, 6, 3) (<built-in function add>, <built-in function add>, <built-in function add>, <built-in function sub>, <built-in function truediv>)\n",
      "(100, 50, 3, 1, 6, 3) (<built-in function add>, <built-in function add>, <built-in function add>, <built-in function mul>, <built-in function add>)\n",
      "(100, 50, 3, 1, 6, 3) (<built-in function add>, <built-in function add>, <built-in function add>, <built-in function mul>, <built-in function sub>)\n",
      "(100, 50, 3, 1, 6, 3) (<built-in function add>, <built-in function add>, <built-in function add>, <built-in function mul>, <built-in function mul>)\n",
      "(100, 50, 3, 1, 6, 3) (<built-in function add>, <built-in function add>, <built-in function add>, <built-in function mul>, <built-in function truediv>)\n",
      "(100, 50, 3, 1, 6, 3) (<built-in function add>, <built-in function add>, <built-in function add>, <built-in function truediv>, <built-in function add>)\n",
      "(100, 50, 3, 1, 6, 3) (<built-in function add>, <built-in function add>, <built-in function add>, <built-in function truediv>, <built-in function sub>)\n",
      "(100, 50, 3, 1, 6, 3) (<built-in function add>, <built-in function add>, <built-in function add>, <built-in function truediv>, <built-in function mul>)\n",
      "(100, 50, 3, 1, 6, 3) (<built-in function add>, <built-in function add>, <built-in function add>, <built-in function truediv>, <built-in function truediv>)\n",
      "(100, 50, 3, 1, 6, 3) (<built-in function add>, <built-in function add>, <built-in function sub>, <built-in function add>, <built-in function add>)\n",
      "(100, 50, 3, 1, 6, 3) (<built-in function add>, <built-in function add>, <built-in function sub>, <built-in function add>, <built-in function sub>)\n",
      "(100, 50, 3, 1, 6, 3) (<built-in function add>, <built-in function add>, <built-in function sub>, <built-in function add>, <built-in function mul>)\n",
      "(100, 50, 3, 1, 6, 3) (<built-in function add>, <built-in function add>, <built-in function sub>, <built-in function add>, <built-in function truediv>)\n",
      "(100, 50, 3, 1, 6, 3) (<built-in function add>, <built-in function add>, <built-in function sub>, <built-in function sub>, <built-in function add>)\n",
      "(100, 50, 3, 1, 6, 3) (<built-in function add>, <built-in function add>, <built-in function sub>, <built-in function sub>, <built-in function sub>)\n",
      "(100, 50, 3, 1, 6, 3) (<built-in function add>, <built-in function add>, <built-in function sub>, <built-in function sub>, <built-in function mul>)\n",
      "(100, 50, 3, 1, 6, 3) (<built-in function add>, <built-in function add>, <built-in function sub>, <built-in function sub>, <built-in function truediv>)\n",
      "(100, 50, 3, 1, 6, 3) (<built-in function add>, <built-in function add>, <built-in function sub>, <built-in function mul>, <built-in function add>)\n",
      "(100, 50, 3, 1, 6, 3) (<built-in function add>, <built-in function add>, <built-in function sub>, <built-in function mul>, <built-in function sub>)\n",
      "(100, 50, 3, 1, 6, 3) (<built-in function add>, <built-in function add>, <built-in function sub>, <built-in function mul>, <built-in function mul>)\n",
      "(100, 50, 3, 1, 6, 3) (<built-in function add>, <built-in function add>, <built-in function sub>, <built-in function mul>, <built-in function truediv>)\n",
      "(100, 50, 3, 1, 6, 3) (<built-in function add>, <built-in function add>, <built-in function sub>, <built-in function truediv>, <built-in function add>)\n",
      "(100, 50, 3, 1, 6, 3) (<built-in function add>, <built-in function add>, <built-in function sub>, <built-in function truediv>, <built-in function sub>)\n",
      "(100, 50, 3, 1, 6, 3) (<built-in function add>, <built-in function add>, <built-in function sub>, <built-in function truediv>, <built-in function mul>)\n",
      "(100, 50, 3, 1, 6, 3) (<built-in function add>, <built-in function add>, <built-in function sub>, <built-in function truediv>, <built-in function truediv>)\n",
      "(100, 50, 3, 1, 6, 3) (<built-in function add>, <built-in function add>, <built-in function mul>, <built-in function add>, <built-in function add>)\n",
      "(100, 50, 3, 1, 6, 3) (<built-in function add>, <built-in function add>, <built-in function mul>, <built-in function add>, <built-in function sub>)\n",
      "(100, 50, 3, 1, 6, 3) (<built-in function add>, <built-in function add>, <built-in function mul>, <built-in function add>, <built-in function mul>)\n",
      "(100, 50, 3, 1, 6, 3) (<built-in function add>, <built-in function add>, <built-in function mul>, <built-in function add>, <built-in function truediv>)\n",
      "(100, 50, 3, 1, 6, 3) (<built-in function add>, <built-in function add>, <built-in function mul>, <built-in function sub>, <built-in function add>)\n",
      "(100, 50, 3, 1, 6, 3) (<built-in function add>, <built-in function add>, <built-in function mul>, <built-in function sub>, <built-in function sub>)\n",
      "(100, 50, 3, 1, 6, 3) (<built-in function add>, <built-in function add>, <built-in function mul>, <built-in function sub>, <built-in function mul>)\n",
      "(100, 50, 3, 1, 6, 3) (<built-in function add>, <built-in function add>, <built-in function mul>, <built-in function sub>, <built-in function truediv>)\n",
      "(100, 50, 3, 1, 6, 3) (<built-in function add>, <built-in function add>, <built-in function mul>, <built-in function mul>, <built-in function add>)\n",
      "(100, 50, 3, 1, 6, 3) (<built-in function add>, <built-in function add>, <built-in function mul>, <built-in function mul>, <built-in function sub>)\n",
      "(100, 50, 3, 1, 6, 3) (<built-in function add>, <built-in function add>, <built-in function mul>, <built-in function mul>, <built-in function mul>)\n",
      "(100, 50, 3, 1, 6, 3) (<built-in function add>, <built-in function add>, <built-in function mul>, <built-in function mul>, <built-in function truediv>)\n",
      "(100, 50, 3, 1, 6, 3) (<built-in function add>, <built-in function add>, <built-in function mul>, <built-in function truediv>, <built-in function add>)\n",
      "(100, 50, 3, 1, 6, 3) (<built-in function add>, <built-in function add>, <built-in function mul>, <built-in function truediv>, <built-in function sub>)\n",
      "(100, 50, 3, 1, 6, 3) (<built-in function add>, <built-in function add>, <built-in function mul>, <built-in function truediv>, <built-in function mul>)\n",
      "(100, 50, 3, 1, 6, 3) (<built-in function add>, <built-in function add>, <built-in function mul>, <built-in function truediv>, <built-in function truediv>)\n",
      "(100, 50, 3, 1, 6, 3) (<built-in function add>, <built-in function add>, <built-in function truediv>, <built-in function add>, <built-in function add>)\n",
      "(100, 50, 3, 1, 6, 3) (<built-in function add>, <built-in function add>, <built-in function truediv>, <built-in function add>, <built-in function sub>)\n",
      "(100, 50, 3, 1, 6, 3) (<built-in function add>, <built-in function add>, <built-in function truediv>, <built-in function add>, <built-in function mul>)\n",
      "(100, 50, 3, 1, 6, 3) (<built-in function add>, <built-in function add>, <built-in function truediv>, <built-in function add>, <built-in function truediv>)\n",
      "(100, 50, 3, 1, 6, 3) (<built-in function add>, <built-in function add>, <built-in function truediv>, <built-in function sub>, <built-in function add>)\n",
      "(100, 50, 3, 1, 6, 3) (<built-in function add>, <built-in function add>, <built-in function truediv>, <built-in function sub>, <built-in function sub>)\n",
      "(100, 50, 3, 1, 6, 3) (<built-in function add>, <built-in function add>, <built-in function truediv>, <built-in function sub>, <built-in function mul>)\n",
      "(100, 50, 3, 1, 6, 3) (<built-in function add>, <built-in function add>, <built-in function truediv>, <built-in function sub>, <built-in function truediv>)\n",
      "(100, 50, 3, 1, 6, 3) (<built-in function add>, <built-in function add>, <built-in function truediv>, <built-in function mul>, <built-in function add>)\n",
      "(100, 50, 3, 1, 6, 3) (<built-in function add>, <built-in function add>, <built-in function truediv>, <built-in function mul>, <built-in function sub>)\n",
      "(100, 50, 3, 1, 6, 3) (<built-in function add>, <built-in function add>, <built-in function truediv>, <built-in function mul>, <built-in function mul>)\n",
      "(100, 50, 3, 1, 6, 3) (<built-in function add>, <built-in function add>, <built-in function truediv>, <built-in function mul>, <built-in function truediv>)\n",
      "(100, 50, 3, 1, 6, 3) (<built-in function add>, <built-in function add>, <built-in function truediv>, <built-in function truediv>, <built-in function add>)\n",
      "(100, 50, 3, 1, 6, 3) (<built-in function add>, <built-in function add>, <built-in function truediv>, <built-in function truediv>, <built-in function sub>)\n",
      "(100, 50, 3, 1, 6, 3) (<built-in function add>, <built-in function add>, <built-in function truediv>, <built-in function truediv>, <built-in function mul>)\n",
      "(100, 50, 3, 1, 6, 3) (<built-in function add>, <built-in function add>, <built-in function truediv>, <built-in function truediv>, <built-in function truediv>)\n",
      "(100, 50, 3, 1, 6, 3) (<built-in function add>, <built-in function sub>, <built-in function add>, <built-in function add>, <built-in function add>)\n",
      "(100, 50, 3, 1, 6, 3) (<built-in function add>, <built-in function sub>, <built-in function add>, <built-in function add>, <built-in function sub>)\n",
      "(100, 50, 3, 1, 6, 3) (<built-in function add>, <built-in function sub>, <built-in function add>, <built-in function add>, <built-in function mul>)\n",
      "(100, 50, 3, 1, 6, 3) (<built-in function add>, <built-in function sub>, <built-in function add>, <built-in function add>, <built-in function truediv>)\n",
      "(100, 50, 3, 1, 6, 3) (<built-in function add>, <built-in function sub>, <built-in function add>, <built-in function sub>, <built-in function add>)\n",
      "(100, 50, 3, 1, 6, 3) (<built-in function add>, <built-in function sub>, <built-in function add>, <built-in function sub>, <built-in function sub>)\n",
      "(100, 50, 3, 1, 6, 3) (<built-in function add>, <built-in function sub>, <built-in function add>, <built-in function sub>, <built-in function mul>)\n",
      "(100, 50, 3, 1, 6, 3) (<built-in function add>, <built-in function sub>, <built-in function add>, <built-in function sub>, <built-in function truediv>)\n",
      "(100, 50, 3, 1, 6, 3) (<built-in function add>, <built-in function sub>, <built-in function add>, <built-in function mul>, <built-in function add>)\n",
      "(100, 50, 3, 1, 6, 3) (<built-in function add>, <built-in function sub>, <built-in function add>, <built-in function mul>, <built-in function sub>)\n",
      "(100, 50, 3, 1, 6, 3) (<built-in function add>, <built-in function sub>, <built-in function add>, <built-in function mul>, <built-in function mul>)\n",
      "(100, 50, 3, 1, 6, 3) (<built-in function add>, <built-in function sub>, <built-in function add>, <built-in function mul>, <built-in function truediv>)\n"
     ]
    }
   ],
   "source": [
    "# Operators.\n",
    "ops = [operator.add, operator.sub, operator.mul, operator.truediv]\n",
    "\n",
    "# Limit the output.\n",
    "limit = 1100\n",
    "\n",
    "# For the limit.\n",
    "i = 0\n",
    "# Orderings of pairs.\n",
    "for play_nos, opers in it.product(it.permutations(play_nos), it.product(*([ops] * 5))):\n",
    "    print(play_nos, opers)\n",
    "    i = i + 1\n",
    "    if i >= limit:\n",
    "        break"
   ]
  },
  {
   "cell_type": "code",
   "execution_count": 35,
   "id": "3b2d8850",
   "metadata": {},
   "outputs": [
    {
     "data": {
      "text/plain": [
       "1024"
      ]
     },
     "execution_count": 35,
     "metadata": {},
     "output_type": "execute_result"
    }
   ],
   "source": [
    "# Number of combinations of 5 operators with replacement.\n",
    "4**5"
   ]
  },
  {
   "cell_type": "code",
   "execution_count": 36,
   "id": "48925cff",
   "metadata": {},
   "outputs": [
    {
     "data": {
      "text/plain": [
       "720"
      ]
     },
     "execution_count": 36,
     "metadata": {},
     "output_type": "execute_result"
    }
   ],
   "source": [
    "# No of permutations of playing numbers.\n",
    "import math\n",
    "math.factorial(6)"
   ]
  },
  {
   "cell_type": "code",
   "execution_count": 37,
   "id": "69ab3b6b",
   "metadata": {},
   "outputs": [
    {
     "data": {
      "text/plain": [
       "737280"
      ]
     },
     "execution_count": 37,
     "metadata": {},
     "output_type": "execute_result"
    }
   ],
   "source": [
    "4**5 * math.factorial(6)"
   ]
  },
  {
   "cell_type": "code",
   "execution_count": 38,
   "id": "44fca14c",
   "metadata": {},
   "outputs": [],
   "source": [
    "# We (might not have/) haven't considered all combinations:\n",
    "# RPN with (1, 2, 3, 4) and (+, -, +)...\n",
    "# 1 2 3 4 + - + (-4)\n",
    "# 1 2 + 3 4 - + (2)\n",
    "# 1 2 3 + - 4 + (0)\n",
    "# any more?"
   ]
  },
  {
   "cell_type": "markdown",
   "id": "60f31bd3",
   "metadata": {},
   "source": [
    "## Partitions\n",
    "\n",
    "***"
   ]
  },
  {
   "cell_type": "code",
   "execution_count": 39,
   "id": "e4ebddfa",
   "metadata": {},
   "outputs": [],
   "source": [
    "# An example list of six numbers.\n",
    "numbers = [100, 75, 10, 4, 2, 1]"
   ]
  },
  {
   "cell_type": "code",
   "execution_count": 40,
   "id": "0478aff2",
   "metadata": {},
   "outputs": [],
   "source": [
    "# Give all 2-partitions of a list\n",
    "# where each sublist has at least one element.\n",
    "def partitions(L):\n",
    "    for i in range(1, len(L)):\n",
    "        # Slice the list using i.\n",
    "        print(L[:i], L[i:])"
   ]
  },
  {
   "cell_type": "code",
   "execution_count": 41,
   "id": "1aa3a875",
   "metadata": {},
   "outputs": [
    {
     "name": "stdout",
     "output_type": "stream",
     "text": [
      "[100] [75, 10, 4, 2, 1]\n",
      "[100, 75] [10, 4, 2, 1]\n",
      "[100, 75, 10] [4, 2, 1]\n",
      "[100, 75, 10, 4] [2, 1]\n",
      "[100, 75, 10, 4, 2] [1]\n"
     ]
    }
   ],
   "source": [
    "# All partitions of the numbers list.\n",
    "partitions(numbers)"
   ]
  },
  {
   "cell_type": "code",
   "execution_count": 42,
   "id": "e5124e88",
   "metadata": {},
   "outputs": [
    {
     "name": "stdout",
     "output_type": "stream",
     "text": [
      "[10] [4, 2, 1]\n",
      "[10, 4] [2, 1]\n",
      "[10, 4, 2] [1]\n"
     ]
    }
   ],
   "source": [
    "# Some of the sublists in turn can be partitioned.\n",
    "partitions(numbers[2:])"
   ]
  },
  {
   "cell_type": "code",
   "execution_count": 43,
   "id": "4633baea",
   "metadata": {},
   "outputs": [
    {
     "name": "stdout",
     "output_type": "stream",
     "text": [
      "[10] [4, 2, 1]\n",
      "[10, 4] [2, 1]\n",
      "[10, 4, 2] [1]\n"
     ]
    }
   ],
   "source": [
    "# And some of the sublists can be further (and further) partitioned.\n",
    "partitions(numbers[2:])"
   ]
  },
  {
   "cell_type": "code",
   "execution_count": 44,
   "id": "19b3ef70",
   "metadata": {},
   "outputs": [
    {
     "data": {
      "text/plain": [
       "range(0, 100000000000)"
      ]
     },
     "execution_count": 44,
     "metadata": {},
     "output_type": "execute_result"
    }
   ],
   "source": [
    "# We'll use generators in this circumstance.\n",
    "range(100000000000)"
   ]
  },
  {
   "cell_type": "code",
   "execution_count": 45,
   "id": "4cbe024e",
   "metadata": {},
   "outputs": [],
   "source": [
    "# Give all 2-partitions of a list\n",
    "# where each sublist has one element.\n",
    "def partitions(L):\n",
    "    # Check if there is no way to partition further\n",
    "    if len(L) == 1:\n",
    "        yield f\"{L[0]}\"\n",
    "    for i in range(1, len(L)):\n",
    "        # Slice the list using i.\n",
    "        for left, right in it.product(partitions(L[:i]), partitions(L[i:])):\n",
    "            yield f\"({left} ? {right})\""
   ]
  },
  {
   "cell_type": "code",
   "execution_count": 46,
   "id": "6f3c151a",
   "metadata": {},
   "outputs": [
    {
     "name": "stdout",
     "output_type": "stream",
     "text": [
      "(100 ? (75 ? (10 ? (4 ? (2 ? 1)))))\n",
      "(100 ? (75 ? (10 ? ((4 ? 2) ? 1))))\n",
      "(100 ? (75 ? ((10 ? 4) ? (2 ? 1))))\n",
      "(100 ? (75 ? ((10 ? (4 ? 2)) ? 1)))\n",
      "(100 ? (75 ? (((10 ? 4) ? 2) ? 1)))\n",
      "(100 ? ((75 ? 10) ? (4 ? (2 ? 1))))\n",
      "(100 ? ((75 ? 10) ? ((4 ? 2) ? 1)))\n",
      "(100 ? ((75 ? (10 ? 4)) ? (2 ? 1)))\n",
      "(100 ? (((75 ? 10) ? 4) ? (2 ? 1)))\n",
      "(100 ? ((75 ? (10 ? (4 ? 2))) ? 1))\n",
      "(100 ? ((75 ? ((10 ? 4) ? 2)) ? 1))\n",
      "(100 ? (((75 ? 10) ? (4 ? 2)) ? 1))\n",
      "(100 ? (((75 ? (10 ? 4)) ? 2) ? 1))\n",
      "(100 ? ((((75 ? 10) ? 4) ? 2) ? 1))\n",
      "((100 ? 75) ? (10 ? (4 ? (2 ? 1))))\n",
      "((100 ? 75) ? (10 ? ((4 ? 2) ? 1)))\n",
      "((100 ? 75) ? ((10 ? 4) ? (2 ? 1)))\n",
      "((100 ? 75) ? ((10 ? (4 ? 2)) ? 1))\n",
      "((100 ? 75) ? (((10 ? 4) ? 2) ? 1))\n",
      "((100 ? (75 ? 10)) ? (4 ? (2 ? 1)))\n",
      "((100 ? (75 ? 10)) ? ((4 ? 2) ? 1))\n",
      "(((100 ? 75) ? 10) ? (4 ? (2 ? 1)))\n",
      "(((100 ? 75) ? 10) ? ((4 ? 2) ? 1))\n",
      "((100 ? (75 ? (10 ? 4))) ? (2 ? 1))\n",
      "((100 ? ((75 ? 10) ? 4)) ? (2 ? 1))\n",
      "(((100 ? 75) ? (10 ? 4)) ? (2 ? 1))\n",
      "(((100 ? (75 ? 10)) ? 4) ? (2 ? 1))\n",
      "((((100 ? 75) ? 10) ? 4) ? (2 ? 1))\n",
      "((100 ? (75 ? (10 ? (4 ? 2)))) ? 1)\n",
      "((100 ? (75 ? ((10 ? 4) ? 2))) ? 1)\n",
      "((100 ? ((75 ? 10) ? (4 ? 2))) ? 1)\n",
      "((100 ? ((75 ? (10 ? 4)) ? 2)) ? 1)\n",
      "((100 ? (((75 ? 10) ? 4) ? 2)) ? 1)\n",
      "(((100 ? 75) ? (10 ? (4 ? 2))) ? 1)\n",
      "(((100 ? 75) ? ((10 ? 4) ? 2)) ? 1)\n",
      "(((100 ? (75 ? 10)) ? (4 ? 2)) ? 1)\n",
      "((((100 ? 75) ? 10) ? (4 ? 2)) ? 1)\n",
      "(((100 ? (75 ? (10 ? 4))) ? 2) ? 1)\n",
      "(((100 ? ((75 ? 10) ? 4)) ? 2) ? 1)\n",
      "((((100 ? 75) ? (10 ? 4)) ? 2) ? 1)\n",
      "((((100 ? (75 ? 10)) ? 4) ? 2) ? 1)\n",
      "(((((100 ? 75) ? 10) ? 4) ? 2) ? 1)\n",
      "42\n"
     ]
    }
   ],
   "source": [
    "total = 0\n",
    "for i in partitions(numbers):\n",
    "    print(i)\n",
    "    total = total + 1\n",
    "print(total)"
   ]
  },
  {
   "cell_type": "code",
   "execution_count": 47,
   "id": "63022f8b",
   "metadata": {},
   "outputs": [
    {
     "data": {
      "text/plain": [
       "165"
      ]
     },
     "execution_count": 47,
     "metadata": {},
     "output_type": "execute_result"
    }
   ],
   "source": [
    "# Example of ((100 ? 75) ? (10 ? (4 ? (2 ? 1)))).\n",
    "((100 + 75) - (10 * (4 - (2 + 1))))"
   ]
  },
  {
   "cell_type": "code",
   "execution_count": 48,
   "id": "34e1b5c6",
   "metadata": {},
   "outputs": [],
   "source": [
    "# Give all 2-partitions of a list\n",
    "# where each sublist has one element.\n",
    "def patterns(numbers, operators):\n",
    "    # Check if there is no way to partition further\n",
    "    if len(numbers) == 1:\n",
    "        yield numbers[0]\n",
    "    # Loop through all the ways to partition L into two non-empty sublists.\n",
    "    for i in range(1, len(numbers)):\n",
    "        # Slice the list using i.\n",
    "        for left, right in it.product(patterns(numbers[:i], operators[1:i]), patterns(numbers[i:], operators[i:])):\n",
    "            # Yield the next operator applied to the sublists.\n",
    "            yield f'({left} {operators[0]} {right})' #[left, operators[0], right]"
   ]
  },
  {
   "cell_type": "code",
   "execution_count": 49,
   "id": "d93f6adc",
   "metadata": {},
   "outputs": [],
   "source": [
    "# An example list of six numbers.\n",
    "numbers = [100, 75, 10, 4, 2, 1]\n",
    "# Example operators.\n",
    "# operators = [operator.add, operator.mul, operator.sub, operator.add, operator.add]\n",
    "operators = ['+', '*', '-', '+', '+']"
   ]
  },
  {
   "cell_type": "code",
   "execution_count": 50,
   "id": "797e0d6f",
   "metadata": {},
   "outputs": [
    {
     "name": "stdout",
     "output_type": "stream",
     "text": [
      "(100 + (75 * (10 - (4 + (2 + 1))))) = 325\n",
      "(100 + (75 * (10 - ((4 + 2) + 1)))) = 325\n",
      "(100 + (75 * ((10 + 4) - (2 + 1)))) = 925\n",
      "(100 + (75 * ((10 + (4 + 2)) - 1))) = 1225\n",
      "(100 + (75 * (((10 + 4) + 2) - 1))) = 1225\n",
      "(100 + ((75 - 10) * (4 + (2 + 1)))) = 555\n",
      "(100 + ((75 - 10) * ((4 + 2) + 1))) = 555\n",
      "(100 + ((75 - (10 + 4)) * (2 + 1))) = 283\n",
      "(100 + (((75 + 10) - 4) * (2 + 1))) = 343\n",
      "(100 + ((75 - (10 + (4 + 2))) * 1)) = 159\n",
      "(100 + ((75 - ((10 + 4) + 2)) * 1)) = 159\n",
      "(100 + (((75 + 10) - (4 + 2)) * 1)) = 179\n",
      "(100 + (((75 + (10 + 4)) - 2) * 1)) = 187\n",
      "(100 + ((((75 + 10) + 4) - 2) * 1)) = 187\n",
      "((100 * 75) + (10 - (4 + (2 + 1)))) = 7503\n",
      "((100 * 75) + (10 - ((4 + 2) + 1))) = 7503\n",
      "((100 * 75) + ((10 + 4) - (2 + 1))) = 7511\n",
      "((100 * 75) + ((10 + (4 + 2)) - 1)) = 7515\n",
      "((100 * 75) + (((10 + 4) + 2) - 1)) = 7515\n",
      "((100 * (75 - 10)) + (4 + (2 + 1))) = 6507\n",
      "((100 * (75 - 10)) + ((4 + 2) + 1)) = 6507\n",
      "(((100 - 75) * 10) + (4 + (2 + 1))) = 257\n",
      "(((100 - 75) * 10) + ((4 + 2) + 1)) = 257\n",
      "((100 * (75 - (10 + 4))) + (2 + 1)) = 6103\n",
      "((100 * ((75 + 10) - 4)) + (2 + 1)) = 8103\n",
      "(((100 - 75) * (10 + 4)) + (2 + 1)) = 353\n",
      "(((100 - (75 + 10)) * 4) + (2 + 1)) = 63\n",
      "((((100 + 75) - 10) * 4) + (2 + 1)) = 663\n",
      "((100 * (75 - (10 + (4 + 2)))) + 1) = 5901\n",
      "((100 * (75 - ((10 + 4) + 2))) + 1) = 5901\n",
      "((100 * ((75 + 10) - (4 + 2))) + 1) = 7901\n",
      "((100 * ((75 + (10 + 4)) - 2)) + 1) = 8701\n",
      "((100 * (((75 + 10) + 4) - 2)) + 1) = 8701\n",
      "(((100 - 75) * (10 + (4 + 2))) + 1) = 401\n",
      "(((100 - 75) * ((10 + 4) + 2)) + 1) = 401\n",
      "(((100 - (75 + 10)) * (4 + 2)) + 1) = 91\n",
      "((((100 + 75) - 10) * (4 + 2)) + 1) = 991\n",
      "(((100 - (75 + (10 + 4))) * 2) + 1) = 23\n",
      "(((100 - ((75 + 10) + 4)) * 2) + 1) = 23\n",
      "((((100 + 75) - (10 + 4)) * 2) + 1) = 323\n",
      "((((100 + (75 + 10)) - 4) * 2) + 1) = 363\n",
      "(((((100 + 75) + 10) - 4) * 2) + 1) = 363\n"
     ]
    }
   ],
   "source": [
    "# Using eval, which mightn't be great.\n",
    "for i in patterns(numbers, operators):\n",
    "    print(f'{i} = {eval(i)}')"
   ]
  },
  {
   "cell_type": "markdown",
   "id": "3db4dc55",
   "metadata": {},
   "source": [
    "## RPN and Patterns\n",
    "\n",
    "***"
   ]
  },
  {
   "cell_type": "code",
   "execution_count": 51,
   "id": "6354c4d5",
   "metadata": {},
   "outputs": [],
   "source": [
    "# Give all 2-partitions of a list\n",
    "# where each sublist has one element.\n",
    "def patterns(numbers, operators):\n",
    "    # Check if there is no way to partition further\n",
    "    if len(numbers) == 1:\n",
    "        yield numbers\n",
    "    # Loop through all the ways to partition L into two non-empty sublists.\n",
    "    for i in range(1, len(numbers)):\n",
    "        # Slice the list using i.\n",
    "        for left, right in it.product(patterns(numbers[:i], operators[1:i]), patterns(numbers[i:], operators[i:])):\n",
    "            # Yield the next operator applied to the sublists.\n",
    "            yield [*left, *right, operators[0]]"
   ]
  },
  {
   "cell_type": "code",
   "execution_count": 52,
   "id": "0751f3ef",
   "metadata": {},
   "outputs": [
    {
     "name": "stdout",
     "output_type": "stream",
     "text": [
      "[100, 75, 10, 4, 2, 1, '+', '+', '-', '*', '+']\n",
      "[100, 75, 10, 4, 2, '+', 1, '+', '-', '*', '+']\n",
      "[100, 75, 10, 4, '+', 2, 1, '+', '-', '*', '+']\n",
      "[100, 75, 10, 4, 2, '+', '+', 1, '-', '*', '+']\n",
      "[100, 75, 10, 4, '+', 2, '+', 1, '-', '*', '+']\n",
      "[100, 75, 10, '-', 4, 2, 1, '+', '+', '*', '+']\n",
      "[100, 75, 10, '-', 4, 2, '+', 1, '+', '*', '+']\n",
      "[100, 75, 10, 4, '+', '-', 2, 1, '+', '*', '+']\n",
      "[100, 75, 10, '+', 4, '-', 2, 1, '+', '*', '+']\n",
      "[100, 75, 10, 4, 2, '+', '+', '-', 1, '*', '+']\n",
      "[100, 75, 10, 4, '+', 2, '+', '-', 1, '*', '+']\n",
      "[100, 75, 10, '+', 4, 2, '+', '-', 1, '*', '+']\n",
      "[100, 75, 10, 4, '+', '+', 2, '-', 1, '*', '+']\n",
      "[100, 75, 10, '+', 4, '+', 2, '-', 1, '*', '+']\n",
      "[100, 75, '*', 10, 4, 2, 1, '+', '+', '-', '+']\n",
      "[100, 75, '*', 10, 4, 2, '+', 1, '+', '-', '+']\n",
      "[100, 75, '*', 10, 4, '+', 2, 1, '+', '-', '+']\n",
      "[100, 75, '*', 10, 4, 2, '+', '+', 1, '-', '+']\n",
      "[100, 75, '*', 10, 4, '+', 2, '+', 1, '-', '+']\n",
      "[100, 75, 10, '-', '*', 4, 2, 1, '+', '+', '+']\n",
      "[100, 75, 10, '-', '*', 4, 2, '+', 1, '+', '+']\n",
      "[100, 75, '-', 10, '*', 4, 2, 1, '+', '+', '+']\n",
      "[100, 75, '-', 10, '*', 4, 2, '+', 1, '+', '+']\n",
      "[100, 75, 10, 4, '+', '-', '*', 2, 1, '+', '+']\n",
      "[100, 75, 10, '+', 4, '-', '*', 2, 1, '+', '+']\n",
      "[100, 75, '-', 10, 4, '+', '*', 2, 1, '+', '+']\n",
      "[100, 75, 10, '+', '-', 4, '*', 2, 1, '+', '+']\n",
      "[100, 75, '+', 10, '-', 4, '*', 2, 1, '+', '+']\n",
      "[100, 75, 10, 4, 2, '+', '+', '-', '*', 1, '+']\n",
      "[100, 75, 10, 4, '+', 2, '+', '-', '*', 1, '+']\n",
      "[100, 75, 10, '+', 4, 2, '+', '-', '*', 1, '+']\n",
      "[100, 75, 10, 4, '+', '+', 2, '-', '*', 1, '+']\n",
      "[100, 75, 10, '+', 4, '+', 2, '-', '*', 1, '+']\n",
      "[100, 75, '-', 10, 4, 2, '+', '+', '*', 1, '+']\n",
      "[100, 75, '-', 10, 4, '+', 2, '+', '*', 1, '+']\n",
      "[100, 75, 10, '+', '-', 4, 2, '+', '*', 1, '+']\n",
      "[100, 75, '+', 10, '-', 4, 2, '+', '*', 1, '+']\n",
      "[100, 75, 10, 4, '+', '+', '-', 2, '*', 1, '+']\n",
      "[100, 75, 10, '+', 4, '+', '-', 2, '*', 1, '+']\n",
      "[100, 75, '+', 10, 4, '+', '-', 2, '*', 1, '+']\n",
      "[100, 75, 10, '+', '+', 4, '-', 2, '*', 1, '+']\n",
      "[100, 75, '+', 10, '+', 4, '-', 2, '*', 1, '+']\n"
     ]
    }
   ],
   "source": [
    "# Using eval, which mightn't be great.\n",
    "for i in patterns(numbers, operators):\n",
    "    print(i)"
   ]
  },
  {
   "cell_type": "code",
   "execution_count": 53,
   "id": "246ee327",
   "metadata": {},
   "outputs": [
    {
     "name": "stdout",
     "output_type": "stream",
     "text": [
      "[100, 75, 10, 4, 2, 1, <built-in function add>, <built-in function add>, <built-in function sub>, <built-in function mul>, <built-in function add>]\n",
      "[100, 75, 10, 4, 2, <built-in function add>, 1, <built-in function add>, <built-in function sub>, <built-in function mul>, <built-in function add>]\n",
      "[100, 75, 10, 4, <built-in function add>, 2, 1, <built-in function add>, <built-in function sub>, <built-in function mul>, <built-in function add>]\n",
      "[100, 75, 10, 4, 2, <built-in function add>, <built-in function add>, 1, <built-in function sub>, <built-in function mul>, <built-in function add>]\n",
      "[100, 75, 10, 4, <built-in function add>, 2, <built-in function add>, 1, <built-in function sub>, <built-in function mul>, <built-in function add>]\n",
      "[100, 75, 10, <built-in function sub>, 4, 2, 1, <built-in function add>, <built-in function add>, <built-in function mul>, <built-in function add>]\n",
      "[100, 75, 10, <built-in function sub>, 4, 2, <built-in function add>, 1, <built-in function add>, <built-in function mul>, <built-in function add>]\n",
      "[100, 75, 10, 4, <built-in function add>, <built-in function sub>, 2, 1, <built-in function add>, <built-in function mul>, <built-in function add>]\n",
      "[100, 75, 10, <built-in function add>, 4, <built-in function sub>, 2, 1, <built-in function add>, <built-in function mul>, <built-in function add>]\n",
      "[100, 75, 10, 4, 2, <built-in function add>, <built-in function add>, <built-in function sub>, 1, <built-in function mul>, <built-in function add>]\n",
      "[100, 75, 10, 4, <built-in function add>, 2, <built-in function add>, <built-in function sub>, 1, <built-in function mul>, <built-in function add>]\n",
      "[100, 75, 10, <built-in function add>, 4, 2, <built-in function add>, <built-in function sub>, 1, <built-in function mul>, <built-in function add>]\n",
      "[100, 75, 10, 4, <built-in function add>, <built-in function add>, 2, <built-in function sub>, 1, <built-in function mul>, <built-in function add>]\n",
      "[100, 75, 10, <built-in function add>, 4, <built-in function add>, 2, <built-in function sub>, 1, <built-in function mul>, <built-in function add>]\n",
      "[100, 75, <built-in function mul>, 10, 4, 2, 1, <built-in function add>, <built-in function add>, <built-in function sub>, <built-in function add>]\n",
      "[100, 75, <built-in function mul>, 10, 4, 2, <built-in function add>, 1, <built-in function add>, <built-in function sub>, <built-in function add>]\n",
      "[100, 75, <built-in function mul>, 10, 4, <built-in function add>, 2, 1, <built-in function add>, <built-in function sub>, <built-in function add>]\n",
      "[100, 75, <built-in function mul>, 10, 4, 2, <built-in function add>, <built-in function add>, 1, <built-in function sub>, <built-in function add>]\n",
      "[100, 75, <built-in function mul>, 10, 4, <built-in function add>, 2, <built-in function add>, 1, <built-in function sub>, <built-in function add>]\n",
      "[100, 75, 10, <built-in function sub>, <built-in function mul>, 4, 2, 1, <built-in function add>, <built-in function add>, <built-in function add>]\n",
      "[100, 75, 10, <built-in function sub>, <built-in function mul>, 4, 2, <built-in function add>, 1, <built-in function add>, <built-in function add>]\n",
      "[100, 75, <built-in function sub>, 10, <built-in function mul>, 4, 2, 1, <built-in function add>, <built-in function add>, <built-in function add>]\n",
      "[100, 75, <built-in function sub>, 10, <built-in function mul>, 4, 2, <built-in function add>, 1, <built-in function add>, <built-in function add>]\n",
      "[100, 75, 10, 4, <built-in function add>, <built-in function sub>, <built-in function mul>, 2, 1, <built-in function add>, <built-in function add>]\n",
      "[100, 75, 10, <built-in function add>, 4, <built-in function sub>, <built-in function mul>, 2, 1, <built-in function add>, <built-in function add>]\n",
      "[100, 75, <built-in function sub>, 10, 4, <built-in function add>, <built-in function mul>, 2, 1, <built-in function add>, <built-in function add>]\n",
      "[100, 75, 10, <built-in function add>, <built-in function sub>, 4, <built-in function mul>, 2, 1, <built-in function add>, <built-in function add>]\n",
      "[100, 75, <built-in function add>, 10, <built-in function sub>, 4, <built-in function mul>, 2, 1, <built-in function add>, <built-in function add>]\n",
      "[100, 75, 10, 4, 2, <built-in function add>, <built-in function add>, <built-in function sub>, <built-in function mul>, 1, <built-in function add>]\n",
      "[100, 75, 10, 4, <built-in function add>, 2, <built-in function add>, <built-in function sub>, <built-in function mul>, 1, <built-in function add>]\n",
      "[100, 75, 10, <built-in function add>, 4, 2, <built-in function add>, <built-in function sub>, <built-in function mul>, 1, <built-in function add>]\n",
      "[100, 75, 10, 4, <built-in function add>, <built-in function add>, 2, <built-in function sub>, <built-in function mul>, 1, <built-in function add>]\n",
      "[100, 75, 10, <built-in function add>, 4, <built-in function add>, 2, <built-in function sub>, <built-in function mul>, 1, <built-in function add>]\n",
      "[100, 75, <built-in function sub>, 10, 4, 2, <built-in function add>, <built-in function add>, <built-in function mul>, 1, <built-in function add>]\n",
      "[100, 75, <built-in function sub>, 10, 4, <built-in function add>, 2, <built-in function add>, <built-in function mul>, 1, <built-in function add>]\n",
      "[100, 75, 10, <built-in function add>, <built-in function sub>, 4, 2, <built-in function add>, <built-in function mul>, 1, <built-in function add>]\n",
      "[100, 75, <built-in function add>, 10, <built-in function sub>, 4, 2, <built-in function add>, <built-in function mul>, 1, <built-in function add>]\n",
      "[100, 75, 10, 4, <built-in function add>, <built-in function add>, <built-in function sub>, 2, <built-in function mul>, 1, <built-in function add>]\n",
      "[100, 75, 10, <built-in function add>, 4, <built-in function add>, <built-in function sub>, 2, <built-in function mul>, 1, <built-in function add>]\n",
      "[100, 75, <built-in function add>, 10, 4, <built-in function add>, <built-in function sub>, 2, <built-in function mul>, 1, <built-in function add>]\n",
      "[100, 75, 10, <built-in function add>, <built-in function add>, 4, <built-in function sub>, 2, <built-in function mul>, 1, <built-in function add>]\n",
      "[100, 75, <built-in function add>, 10, <built-in function add>, 4, <built-in function sub>, 2, <built-in function mul>, 1, <built-in function add>]\n"
     ]
    }
   ],
   "source": [
    "# An example list of six numbers.\n",
    "numbers = [100, 75, 10, 4, 2, 1]\n",
    "# Example operators.\n",
    "operators = [operator.add, operator.mul, operator.sub, operator.add, operator.add]\n",
    "# operators = ['+', '*', '-', '+', '+']\n",
    "# Using eval, which mightn't be great.\n",
    "for i in patterns(numbers, operators):\n",
    "    print(i)"
   ]
  },
  {
   "cell_type": "code",
   "execution_count": 54,
   "id": "46a0768a",
   "metadata": {},
   "outputs": [],
   "source": [
    "# Evaluate RPN expression\n",
    "def eval_rpn(rpn):\n",
    "    # A stack.\n",
    "    stack = []\n",
    "    # Loop through rpn an item at a time.\n",
    "    for i in rpn:\n",
    "        # Check if it's a number.\n",
    "        if isinstance(i, int):\n",
    "            # Append to the stack.\n",
    "            stack = stack + [i]\n",
    "        else:\n",
    "            # Pop from stack twice.\n",
    "            right = stack[-1]\n",
    "            stack = stack[:-1]\n",
    "            left = stack[-1]\n",
    "            stack = stack[:-1]\n",
    "            # Push operator applied to stack element\n",
    "            stack = stack + [i(left, right)]\n",
    "    # Should only be one item on stack.\n",
    "    return stack[0]"
   ]
  },
  {
   "cell_type": "code",
   "execution_count": 55,
   "id": "4ae7218a",
   "metadata": {},
   "outputs": [
    {
     "name": "stdout",
     "output_type": "stream",
     "text": [
      "325 [100, 75, 10, 4, 2, 1, <built-in function add>, <built-in function add>, <built-in function sub>, <built-in function mul>, <built-in function add>]\n",
      "325 [100, 75, 10, 4, 2, <built-in function add>, 1, <built-in function add>, <built-in function sub>, <built-in function mul>, <built-in function add>]\n",
      "925 [100, 75, 10, 4, <built-in function add>, 2, 1, <built-in function add>, <built-in function sub>, <built-in function mul>, <built-in function add>]\n",
      "1225 [100, 75, 10, 4, 2, <built-in function add>, <built-in function add>, 1, <built-in function sub>, <built-in function mul>, <built-in function add>]\n",
      "1225 [100, 75, 10, 4, <built-in function add>, 2, <built-in function add>, 1, <built-in function sub>, <built-in function mul>, <built-in function add>]\n",
      "555 [100, 75, 10, <built-in function sub>, 4, 2, 1, <built-in function add>, <built-in function add>, <built-in function mul>, <built-in function add>]\n",
      "555 [100, 75, 10, <built-in function sub>, 4, 2, <built-in function add>, 1, <built-in function add>, <built-in function mul>, <built-in function add>]\n",
      "283 [100, 75, 10, 4, <built-in function add>, <built-in function sub>, 2, 1, <built-in function add>, <built-in function mul>, <built-in function add>]\n",
      "343 [100, 75, 10, <built-in function add>, 4, <built-in function sub>, 2, 1, <built-in function add>, <built-in function mul>, <built-in function add>]\n",
      "159 [100, 75, 10, 4, 2, <built-in function add>, <built-in function add>, <built-in function sub>, 1, <built-in function mul>, <built-in function add>]\n",
      "159 [100, 75, 10, 4, <built-in function add>, 2, <built-in function add>, <built-in function sub>, 1, <built-in function mul>, <built-in function add>]\n",
      "179 [100, 75, 10, <built-in function add>, 4, 2, <built-in function add>, <built-in function sub>, 1, <built-in function mul>, <built-in function add>]\n",
      "187 [100, 75, 10, 4, <built-in function add>, <built-in function add>, 2, <built-in function sub>, 1, <built-in function mul>, <built-in function add>]\n",
      "187 [100, 75, 10, <built-in function add>, 4, <built-in function add>, 2, <built-in function sub>, 1, <built-in function mul>, <built-in function add>]\n",
      "7503 [100, 75, <built-in function mul>, 10, 4, 2, 1, <built-in function add>, <built-in function add>, <built-in function sub>, <built-in function add>]\n",
      "7503 [100, 75, <built-in function mul>, 10, 4, 2, <built-in function add>, 1, <built-in function add>, <built-in function sub>, <built-in function add>]\n",
      "7511 [100, 75, <built-in function mul>, 10, 4, <built-in function add>, 2, 1, <built-in function add>, <built-in function sub>, <built-in function add>]\n",
      "7515 [100, 75, <built-in function mul>, 10, 4, 2, <built-in function add>, <built-in function add>, 1, <built-in function sub>, <built-in function add>]\n",
      "7515 [100, 75, <built-in function mul>, 10, 4, <built-in function add>, 2, <built-in function add>, 1, <built-in function sub>, <built-in function add>]\n",
      "6507 [100, 75, 10, <built-in function sub>, <built-in function mul>, 4, 2, 1, <built-in function add>, <built-in function add>, <built-in function add>]\n",
      "6507 [100, 75, 10, <built-in function sub>, <built-in function mul>, 4, 2, <built-in function add>, 1, <built-in function add>, <built-in function add>]\n",
      "257 [100, 75, <built-in function sub>, 10, <built-in function mul>, 4, 2, 1, <built-in function add>, <built-in function add>, <built-in function add>]\n",
      "257 [100, 75, <built-in function sub>, 10, <built-in function mul>, 4, 2, <built-in function add>, 1, <built-in function add>, <built-in function add>]\n",
      "6103 [100, 75, 10, 4, <built-in function add>, <built-in function sub>, <built-in function mul>, 2, 1, <built-in function add>, <built-in function add>]\n",
      "8103 [100, 75, 10, <built-in function add>, 4, <built-in function sub>, <built-in function mul>, 2, 1, <built-in function add>, <built-in function add>]\n",
      "353 [100, 75, <built-in function sub>, 10, 4, <built-in function add>, <built-in function mul>, 2, 1, <built-in function add>, <built-in function add>]\n",
      "63 [100, 75, 10, <built-in function add>, <built-in function sub>, 4, <built-in function mul>, 2, 1, <built-in function add>, <built-in function add>]\n",
      "663 [100, 75, <built-in function add>, 10, <built-in function sub>, 4, <built-in function mul>, 2, 1, <built-in function add>, <built-in function add>]\n",
      "5901 [100, 75, 10, 4, 2, <built-in function add>, <built-in function add>, <built-in function sub>, <built-in function mul>, 1, <built-in function add>]\n",
      "5901 [100, 75, 10, 4, <built-in function add>, 2, <built-in function add>, <built-in function sub>, <built-in function mul>, 1, <built-in function add>]\n",
      "7901 [100, 75, 10, <built-in function add>, 4, 2, <built-in function add>, <built-in function sub>, <built-in function mul>, 1, <built-in function add>]\n",
      "8701 [100, 75, 10, 4, <built-in function add>, <built-in function add>, 2, <built-in function sub>, <built-in function mul>, 1, <built-in function add>]\n",
      "8701 [100, 75, 10, <built-in function add>, 4, <built-in function add>, 2, <built-in function sub>, <built-in function mul>, 1, <built-in function add>]\n",
      "401 [100, 75, <built-in function sub>, 10, 4, 2, <built-in function add>, <built-in function add>, <built-in function mul>, 1, <built-in function add>]\n",
      "401 [100, 75, <built-in function sub>, 10, 4, <built-in function add>, 2, <built-in function add>, <built-in function mul>, 1, <built-in function add>]\n",
      "91 [100, 75, 10, <built-in function add>, <built-in function sub>, 4, 2, <built-in function add>, <built-in function mul>, 1, <built-in function add>]\n",
      "991 [100, 75, <built-in function add>, 10, <built-in function sub>, 4, 2, <built-in function add>, <built-in function mul>, 1, <built-in function add>]\n",
      "23 [100, 75, 10, 4, <built-in function add>, <built-in function add>, <built-in function sub>, 2, <built-in function mul>, 1, <built-in function add>]\n",
      "23 [100, 75, 10, <built-in function add>, 4, <built-in function add>, <built-in function sub>, 2, <built-in function mul>, 1, <built-in function add>]\n",
      "323 [100, 75, <built-in function add>, 10, 4, <built-in function add>, <built-in function sub>, 2, <built-in function mul>, 1, <built-in function add>]\n",
      "363 [100, 75, 10, <built-in function add>, <built-in function add>, 4, <built-in function sub>, 2, <built-in function mul>, 1, <built-in function add>]\n",
      "363 [100, 75, <built-in function add>, 10, <built-in function add>, 4, <built-in function sub>, 2, <built-in function mul>, 1, <built-in function add>]\n"
     ]
    }
   ],
   "source": [
    "# An example list of six numbers.\n",
    "numbers = [100, 75, 10, 4, 2, 1]\n",
    "\n",
    "# Example operators.\n",
    "operators = [operator.add, operator.mul, operator.sub, operator.add, operator.add]\n",
    "\n",
    "# Using eval, which mightn't be great.\n",
    "for i in patterns(numbers, operators):\n",
    "    print(eval_rpn(i), i)"
   ]
  },
  {
   "cell_type": "markdown",
   "id": "23e39846",
   "metadata": {},
   "source": [
    "***"
   ]
  },
  {
   "cell_type": "markdown",
   "id": "fe78a76e",
   "metadata": {},
   "source": [
    "## Et tu, Brute Force?\n",
    "You have three 20 dollar bills, five 10 dollar bills, two 5 dollar bills, and five 1 dollar bills. How many ways can you make change for a 100 dollar bill? [[5]](#References)"
   ]
  },
  {
   "cell_type": "code",
   "execution_count": 60,
   "id": "324afff2",
   "metadata": {},
   "outputs": [],
   "source": [
    "# list of the bills.\n",
    "bills = [20, 20, 20, 10, 10, 10, 10, 10, 5, 5, 1, 1, 1, 1, 1]"
   ]
  },
  {
   "cell_type": "code",
   "execution_count": 61,
   "id": "914b9617",
   "metadata": {},
   "outputs": [],
   "source": [
    "# list the combinations of 3.\n",
    "#list(it.combinations(bills, 3))"
   ]
  },
  {
   "cell_type": "code",
   "execution_count": 62,
   "id": "6cc1db9e",
   "metadata": {},
   "outputs": [],
   "source": [
    "makes_100 = []\n",
    "\n",
    "# loop over the positive integers.\n",
    "for n in range(1, len(bills) + 1):\n",
    "    # check which combination of each size add up to 100 dollars.\n",
    "    for combination in it.combinations(bills, n):\n",
    "        if sum(combination) == 100:\n",
    "            makes_100.append(combination)"
   ]
  },
  {
   "cell_type": "code",
   "execution_count": 63,
   "id": "54feacb6",
   "metadata": {},
   "outputs": [
    {
     "data": {
      "text/plain": [
       "{(20, 20, 10, 10, 10, 10, 10, 5, 1, 1, 1, 1, 1),\n",
       " (20, 20, 10, 10, 10, 10, 10, 5, 5),\n",
       " (20, 20, 20, 10, 10, 10, 5, 1, 1, 1, 1, 1),\n",
       " (20, 20, 20, 10, 10, 10, 5, 5),\n",
       " (20, 20, 20, 10, 10, 10, 10)}"
      ]
     },
     "execution_count": 63,
     "metadata": {},
     "output_type": "execute_result"
    }
   ],
   "source": [
    "# to remove duplicates from makes_100, \n",
    "# convert it to a set.\n",
    "set(makes_100)"
   ]
  },
  {
   "cell_type": "markdown",
   "id": "15cbb385",
   "metadata": {},
   "source": [
    "How many ways are there to make change for a 100 bill using any number of 50, 20, 10, 5, and 1 dollar bills?"
   ]
  },
  {
   "cell_type": "code",
   "execution_count": 64,
   "id": "221a579a",
   "metadata": {},
   "outputs": [
    {
     "data": {
      "text/plain": [
       "[(1, 1), (1, 2), (2, 2)]"
      ]
     },
     "execution_count": 64,
     "metadata": {},
     "output_type": "execute_result"
    }
   ],
   "source": [
    "list(it.combinations_with_replacement([1, 2], 2))"
   ]
  },
  {
   "cell_type": "code",
   "execution_count": 65,
   "id": "f227f587",
   "metadata": {},
   "outputs": [
    {
     "data": {
      "text/plain": [
       "[(1, 2)]"
      ]
     },
     "execution_count": 65,
     "metadata": {},
     "output_type": "execute_result"
    }
   ],
   "source": [
    "# compare the combination.\n",
    "list(it.combinations([1, 2], 2))"
   ]
  },
  {
   "cell_type": "code",
   "execution_count": 66,
   "id": "d51af845",
   "metadata": {},
   "outputs": [],
   "source": [
    "# The following code is commented as it took long to compile,\n",
    "# causing the notebook to take long to render.\n",
    "\n",
    "#bills = [50, 20, 10, 5, 1]\n",
    "#make_100 = []\n",
    "#for n in range(1, 101):\n",
    "#    for combination in it.combinations_with_replacement(bills, n):\n",
    "#        if sum(combination) == 100:\n",
    "#            makes_100.append(combination)"
   ]
  },
  {
   "cell_type": "code",
   "execution_count": 67,
   "id": "b96e7263",
   "metadata": {},
   "outputs": [],
   "source": [
    "#len(makes_100)"
   ]
  },
  {
   "cell_type": "code",
   "execution_count": 68,
   "id": "57c9953e",
   "metadata": {},
   "outputs": [
    {
     "data": {
      "text/plain": [
       "[('a', 'b', 'c'),\n",
       " ('a', 'c', 'b'),\n",
       " ('b', 'a', 'c'),\n",
       " ('b', 'c', 'a'),\n",
       " ('c', 'a', 'b'),\n",
       " ('c', 'b', 'a')]"
      ]
     },
     "execution_count": 68,
     "metadata": {},
     "output_type": "execute_result"
    }
   ],
   "source": [
    "list(it.permutations(['a', 'b', 'c']))"
   ]
  },
  {
   "cell_type": "markdown",
   "id": "2076b7f0",
   "metadata": {},
   "source": [
    "## Explanation of the Functional Programming \n",
    "\n",
    "https://docs.python.org/3/howto/functional.html\n",
    "\n",
    "***\n",
    "Functional Programming allows us to write clean and maintable code. It is a type of programming in which we bind everything together in terms of mathematical functions [[7]](#References). Expressions are used instead of statements in functional programming; expressions are evaluated to obtain values and statements are used to assign variables. Functional Programming is the opposite of object-oriented programming.\n",
    "\n",
    "### Concept of Functional Programming  \n",
    "\n",
    "**Pure functions:** These are functions that have two main properties, always produce the same output and it does not change or modify the input variable.\n",
    "\n",
    "**Recursion:** There are no for or while loops in functional programming. \n",
    "\n",
    "**First-class functions:** Functions are first-class and can be higher-order. First-class functions are treated as first-class variables that can be passed to functions as a parameter.\n",
    "\n",
    "**Immutablility:** Variables are immutable so they can't be modified after being initialized. New variables can be created but the existing variables can't be modified.\n",
    "\n",
    "### Advanatges of the functional style [[4]](#References)\n",
    "\n",
    "- Formal provability.\n",
    "- Modularity.\n",
    "- Composability.\n",
    "- Easy to debug and test."
   ]
  },
  {
   "cell_type": "markdown",
   "id": "10d83fd3",
   "metadata": {},
   "source": [
    "# End\n",
    "\n",
    "***"
   ]
  },
  {
   "cell_type": "markdown",
   "id": "1f73a1d2",
   "metadata": {},
   "source": [
    "# References\n",
    "\n",
    "1. [*Countdown (game show)*, <br> https://en.wikipedia.org/wiki/Countdown_(game_show)](https://en.wikipedia.org/wiki/Countdown_(game_show))\n",
    "2. [*(The Final) Countdown Preprint*, Jean-Marc Alliot*,<br> https://arxiv.org/pdf/1502.05450.pdf](https://arxiv.org/pdf/1502.05450.pdf)\n",
    "3. [*Countdown Game Show*, <br> https://datagenetics.com/blog/august32014/index.html](https://datagenetics.com/blog/august32014/index.html)\n",
    "4. [*Functional Programming HOWTO*, <br> https://docs.python.org/3/howto/functional.html](https://docs.python.org/3/howto/functional.html)\n",
    "5. [*Et tu, Brute Force?*, <br> https://realpython.com/python-itertools/#et-tu-brute-force](https://realpython.com/python-itertools/#et-tu-brute-force)\n",
    "6. [*Countdown Numbers Game: Solved, Analysed, Extended*, Simon Colton, <br> http://doc.gold.ac.uk/aisb50/AISB50-S02/AISB50-S2-Colton-paper.pdf](http://doc.gold.ac.uk/aisb50/AISB50-S02/AISB50-S2-Colton-paper.pdf)\n",
    "7. [*Functional Programming in Python*, <br> https://www.geeksforgeeks.org/functional-programming-in-python/](https://www.geeksforgeeks.org/functional-programming-in-python/)"
   ]
  }
 ],
 "metadata": {
  "kernelspec": {
   "display_name": "Python 3",
   "language": "python",
   "name": "python3"
  },
  "language_info": {
   "codemirror_mode": {
    "name": "ipython",
    "version": 3
   },
   "file_extension": ".py",
   "mimetype": "text/x-python",
   "name": "python",
   "nbconvert_exporter": "python",
   "pygments_lexer": "ipython3",
   "version": "3.8.8"
  }
 },
 "nbformat": 4,
 "nbformat_minor": 5
}
