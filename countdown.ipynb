{
 "cells": [
  {
   "cell_type": "markdown",
   "id": "b4a5f405",
   "metadata": {},
   "source": [
    "# Countdown Numbers Game\n",
    "\n",
    "https://en.wikipedia.org/wiki/Countdown_(game_show)\n",
    "\n",
    "***"
   ]
  },
  {
   "cell_type": "code",
   "execution_count": 1,
   "id": "a06b10c4",
   "metadata": {},
   "outputs": [],
   "source": [
    "# Permutations and combinations.\n",
    "import itertools as it"
   ]
  },
  {
   "cell_type": "code",
   "execution_count": 2,
   "id": "bc996994",
   "metadata": {},
   "outputs": [],
   "source": [
    "# Random number generation.\n",
    "import random"
   ]
  },
  {
   "cell_type": "code",
   "execution_count": 3,
   "id": "ba6def2e",
   "metadata": {},
   "outputs": [],
   "source": [
    "# Operators as functions.\n",
    "import operator"
   ]
  },
  {
   "cell_type": "markdown",
   "id": "493370c2",
   "metadata": {},
   "source": [
    "## Simulate a game \n",
    "\n",
    "***"
   ]
  },
  {
   "cell_type": "code",
   "execution_count": 4,
   "id": "82d16473",
   "metadata": {},
   "outputs": [
    {
     "data": {
      "text/plain": [
       "[25, 50, 75, 100]"
      ]
     },
     "execution_count": 4,
     "metadata": {},
     "output_type": "execute_result"
    }
   ],
   "source": [
    "# The large numbers.\n",
    "large = [25, 50, 75, 100]\n",
    "large"
   ]
  },
  {
   "cell_type": "code",
   "execution_count": 5,
   "id": "cb1f78b2",
   "metadata": {},
   "outputs": [
    {
     "data": {
      "text/plain": [
       "[1, 2, 3, 4, 5, 6, 7, 8, 9, 10, 1, 2, 3, 4, 5, 6, 7, 8, 9, 10]"
      ]
     },
     "execution_count": 5,
     "metadata": {},
     "output_type": "execute_result"
    }
   ],
   "source": [
    "# The small numbers.\n",
    "small = list(range(1, 11)) * 2\n",
    "small"
   ]
  },
  {
   "cell_type": "code",
   "execution_count": 6,
   "id": "ddb21b55",
   "metadata": {},
   "outputs": [
    {
     "data": {
      "text/plain": [
       "1"
      ]
     },
     "execution_count": 6,
     "metadata": {},
     "output_type": "execute_result"
    }
   ],
   "source": [
    "# The number of large numbers to pick - between 0 and 4 inclusive.\n",
    "no_large = random.randrange(0, 5)\n",
    "no_large"
   ]
  },
  {
   "cell_type": "code",
   "execution_count": 7,
   "id": "b3a6cdcc",
   "metadata": {},
   "outputs": [
    {
     "data": {
      "text/plain": [
       "[100]"
      ]
     },
     "execution_count": 7,
     "metadata": {},
     "output_type": "execute_result"
    }
   ],
   "source": [
    "# Select no_large large numbers at random.\n",
    "large_rand = random.sample(large, no_large)\n",
    "large_rand"
   ]
  },
  {
   "cell_type": "code",
   "execution_count": 8,
   "id": "1462512f",
   "metadata": {},
   "outputs": [
    {
     "data": {
      "text/plain": [
       "[9, 1, 6, 5, 4]"
      ]
     },
     "execution_count": 8,
     "metadata": {},
     "output_type": "execute_result"
    }
   ],
   "source": [
    "# Select (6 - no_large) small numbers at random.\n",
    "small_rand = random.sample(small, 6 - no_large)\n",
    "small_rand"
   ]
  },
  {
   "cell_type": "code",
   "execution_count": 9,
   "id": "cca9528f",
   "metadata": {},
   "outputs": [
    {
     "data": {
      "text/plain": [
       "[100, 9, 1, 6, 5, 4]"
      ]
     },
     "execution_count": 9,
     "metadata": {},
     "output_type": "execute_result"
    }
   ],
   "source": [
    "# The six random numbers in a list.\n",
    "play_nos = large_rand + small_rand\n",
    "play_nos"
   ]
  },
  {
   "cell_type": "code",
   "execution_count": 10,
   "id": "912dcbb8",
   "metadata": {},
   "outputs": [
    {
     "data": {
      "text/plain": [
       "917"
      ]
     },
     "execution_count": 10,
     "metadata": {},
     "output_type": "execute_result"
    }
   ],
   "source": [
    "# Pick a random target number.\n",
    "target = random.randrange(101, 1000)\n",
    "target"
   ]
  },
  {
   "cell_type": "code",
   "execution_count": 11,
   "id": "a402e0a3",
   "metadata": {},
   "outputs": [],
   "source": [
    "# For random numbers and samples.\n",
    "import random\n",
    "\n",
    "def new_numbers_game(no_large=None):\n",
    "    \"\"\" Returns six numbers and a target number representing a Countdown numbers game.\n",
    "    \"\"\"\n",
    "    # If no_large in None, randomly pick value between 0 and 4 inclusive.\n",
    "    if no_large is None:\n",
    "        # Randomly set the value.\n",
    "        no_large = random.randrange(0, 5)\n",
    "    \n",
    "    # Select random large numbers.\n",
    "    large_rand = random.sample([25, 50, 75, 100], no_large)\n",
    "    # select random small numbers.\n",
    "    small_rand = random.sample(list(range(1, 11)) * 2, 6 - no_large)\n",
    "    # The playing numbers.\n",
    "    play_nos = large_rand + small_rand\n",
    "    \n",
    "    # Select a target number.\n",
    "    target = random.randrange(101, 1000)\n",
    "    \n",
    "    # Return the game.\n",
    "    return play_nos, target"
   ]
  },
  {
   "cell_type": "code",
   "execution_count": 12,
   "id": "7933ddfc",
   "metadata": {},
   "outputs": [
    {
     "data": {
      "text/plain": [
       "([50, 25, 9, 10, 6, 1], 935)"
      ]
     },
     "execution_count": 12,
     "metadata": {},
     "output_type": "execute_result"
    }
   ],
   "source": [
    "# Random numbers game.\n",
    "new_numbers_game()"
   ]
  },
  {
   "cell_type": "markdown",
   "id": "887f14df",
   "metadata": {},
   "source": [
    "## Working towards a solution\n",
    "\n",
    "***"
   ]
  },
  {
   "cell_type": "code",
   "execution_count": 13,
   "id": "6b495c06",
   "metadata": {},
   "outputs": [
    {
     "data": {
      "text/plain": [
       "([50, 25, 8, 4, 2, 3], 785)"
      ]
     },
     "execution_count": 13,
     "metadata": {},
     "output_type": "execute_result"
    }
   ],
   "source": [
    "# A new example game.\n",
    "play_nos, target = new_numbers_game()\n",
    "play_nos, target "
   ]
  },
  {
   "cell_type": "code",
   "execution_count": 14,
   "id": "87d5c667",
   "metadata": {},
   "outputs": [
    {
     "name": "stdout",
     "output_type": "stream",
     "text": [
      "(50, 25)\n",
      "50 + 25 = 75\n",
      "50 * 25 = 1250\n",
      "50 - 25 = 25\n",
      "50 / 25 = 2\n",
      "\n",
      "(50, 8)\n",
      "50 + 8 = 58\n",
      "50 * 8 = 400\n",
      "50 - 8 = 42\n",
      "\n",
      "(50, 4)\n",
      "50 + 4 = 54\n",
      "50 * 4 = 200\n",
      "50 - 4 = 46\n",
      "\n",
      "(50, 2)\n",
      "50 + 2 = 52\n",
      "50 * 2 = 100\n",
      "50 - 2 = 48\n",
      "50 / 2 = 25\n",
      "\n",
      "(50, 3)\n",
      "50 + 3 = 53\n",
      "50 * 3 = 150\n",
      "50 - 3 = 47\n",
      "\n",
      "(25, 50)\n",
      "25 + 50 = 75\n",
      "25 * 50 = 1250\n",
      "\n",
      "(25, 8)\n",
      "25 + 8 = 33\n",
      "25 * 8 = 200\n",
      "25 - 8 = 17\n",
      "\n",
      "(25, 4)\n",
      "25 + 4 = 29\n",
      "25 * 4 = 100\n",
      "25 - 4 = 21\n",
      "\n",
      "(25, 2)\n",
      "25 + 2 = 27\n",
      "25 * 2 = 50\n",
      "25 - 2 = 23\n",
      "\n",
      "(25, 3)\n",
      "25 + 3 = 28\n",
      "25 * 3 = 75\n",
      "25 - 3 = 22\n",
      "\n",
      "(8, 50)\n",
      "8 + 50 = 58\n",
      "8 * 50 = 400\n",
      "\n",
      "(8, 25)\n",
      "8 + 25 = 33\n",
      "8 * 25 = 200\n",
      "\n",
      "(8, 4)\n",
      "8 + 4 = 12\n",
      "8 * 4 = 32\n",
      "8 - 4 = 4\n",
      "8 / 4 = 2\n",
      "\n",
      "(8, 2)\n",
      "8 + 2 = 10\n",
      "8 * 2 = 16\n",
      "8 - 2 = 6\n",
      "8 / 2 = 4\n",
      "\n",
      "(8, 3)\n",
      "8 + 3 = 11\n",
      "8 * 3 = 24\n",
      "8 - 3 = 5\n",
      "\n",
      "(4, 50)\n",
      "4 + 50 = 54\n",
      "4 * 50 = 200\n",
      "\n",
      "(4, 25)\n",
      "4 + 25 = 29\n",
      "4 * 25 = 100\n",
      "\n",
      "(4, 8)\n",
      "4 + 8 = 12\n",
      "4 * 8 = 32\n",
      "\n",
      "(4, 2)\n",
      "4 + 2 = 6\n",
      "4 * 2 = 8\n",
      "4 - 2 = 2\n",
      "4 / 2 = 2\n",
      "\n",
      "(4, 3)\n",
      "4 + 3 = 7\n",
      "4 * 3 = 12\n",
      "4 - 3 = 1\n",
      "\n",
      "(2, 50)\n",
      "2 + 50 = 52\n",
      "2 * 50 = 100\n",
      "\n",
      "(2, 25)\n",
      "2 + 25 = 27\n",
      "2 * 25 = 50\n",
      "\n",
      "(2, 8)\n",
      "2 + 8 = 10\n",
      "2 * 8 = 16\n",
      "\n",
      "(2, 4)\n",
      "2 + 4 = 6\n",
      "2 * 4 = 8\n",
      "\n",
      "(2, 3)\n",
      "2 + 3 = 5\n",
      "2 * 3 = 6\n",
      "\n",
      "(3, 50)\n",
      "3 + 50 = 53\n",
      "3 * 50 = 150\n",
      "\n",
      "(3, 25)\n",
      "3 + 25 = 28\n",
      "3 * 25 = 75\n",
      "\n",
      "(3, 8)\n",
      "3 + 8 = 11\n",
      "3 * 8 = 24\n",
      "\n",
      "(3, 4)\n",
      "3 + 4 = 7\n",
      "3 * 4 = 12\n",
      "\n",
      "(3, 2)\n",
      "3 + 2 = 5\n",
      "3 * 2 = 6\n",
      "3 - 2 = 1\n",
      "\n"
     ]
    }
   ],
   "source": [
    "# Looping through all permutations of two playing numbers.\n",
    "for p in it.permutations(play_nos, 2):\n",
    "  # Print the two numbers.\n",
    "  print(p)\n",
    "  # Print their sum.\n",
    "  print(f'{p[0]} + {p[1]} = {p[0]+p[1]}')\n",
    "  # Print their product.\n",
    "  print(f'{p[0]} * {p[1]} = {p[0]*p[1]}')\n",
    "  # Print their difference if it is positive.\n",
    "  if p[0] - p[1] > 0:\n",
    "    print(f'{p[0]} - {p[1]} = {p[0]-p[1]}')\n",
    "  # Print their quotient if it is an integer.\n",
    "  if p[0] % p[1] == 0:\n",
    "    print(f'{p[0]} / {p[1]} = {p[0]//p[1]}')\n",
    "  # Print a blank line.\n",
    "  print()"
   ]
  },
  {
   "cell_type": "markdown",
   "id": "fe78a76e",
   "metadata": {},
   "source": [
    "## Et tu, Brute Force?\n",
    "You have three 20 dollar bills, five 10 dollar bills, two 5 dollar bills, and five 1 dollar bills. How many ways can you make change for a 100 dollar bill?\n",
    "\n",
    "https://realpython.com/python-itertools/#et-tu-brute-force"
   ]
  },
  {
   "cell_type": "code",
   "execution_count": 15,
   "id": "324afff2",
   "metadata": {},
   "outputs": [],
   "source": [
    "# list of the bills.\n",
    "bills = [20, 20, 20, 10, 10, 10, 10, 10, 5, 5, 1, 1, 1, 1, 1]"
   ]
  },
  {
   "cell_type": "code",
   "execution_count": 16,
   "id": "914b9617",
   "metadata": {},
   "outputs": [
    {
     "data": {
      "text/plain": [
       "[(20, 20, 20),\n",
       " (20, 20, 10),\n",
       " (20, 20, 10),\n",
       " (20, 20, 10),\n",
       " (20, 20, 10),\n",
       " (20, 20, 10),\n",
       " (20, 20, 5),\n",
       " (20, 20, 5),\n",
       " (20, 20, 1),\n",
       " (20, 20, 1),\n",
       " (20, 20, 1),\n",
       " (20, 20, 1),\n",
       " (20, 20, 1),\n",
       " (20, 20, 10),\n",
       " (20, 20, 10),\n",
       " (20, 20, 10),\n",
       " (20, 20, 10),\n",
       " (20, 20, 10),\n",
       " (20, 20, 5),\n",
       " (20, 20, 5),\n",
       " (20, 20, 1),\n",
       " (20, 20, 1),\n",
       " (20, 20, 1),\n",
       " (20, 20, 1),\n",
       " (20, 20, 1),\n",
       " (20, 10, 10),\n",
       " (20, 10, 10),\n",
       " (20, 10, 10),\n",
       " (20, 10, 10),\n",
       " (20, 10, 5),\n",
       " (20, 10, 5),\n",
       " (20, 10, 1),\n",
       " (20, 10, 1),\n",
       " (20, 10, 1),\n",
       " (20, 10, 1),\n",
       " (20, 10, 1),\n",
       " (20, 10, 10),\n",
       " (20, 10, 10),\n",
       " (20, 10, 10),\n",
       " (20, 10, 5),\n",
       " (20, 10, 5),\n",
       " (20, 10, 1),\n",
       " (20, 10, 1),\n",
       " (20, 10, 1),\n",
       " (20, 10, 1),\n",
       " (20, 10, 1),\n",
       " (20, 10, 10),\n",
       " (20, 10, 10),\n",
       " (20, 10, 5),\n",
       " (20, 10, 5),\n",
       " (20, 10, 1),\n",
       " (20, 10, 1),\n",
       " (20, 10, 1),\n",
       " (20, 10, 1),\n",
       " (20, 10, 1),\n",
       " (20, 10, 10),\n",
       " (20, 10, 5),\n",
       " (20, 10, 5),\n",
       " (20, 10, 1),\n",
       " (20, 10, 1),\n",
       " (20, 10, 1),\n",
       " (20, 10, 1),\n",
       " (20, 10, 1),\n",
       " (20, 10, 5),\n",
       " (20, 10, 5),\n",
       " (20, 10, 1),\n",
       " (20, 10, 1),\n",
       " (20, 10, 1),\n",
       " (20, 10, 1),\n",
       " (20, 10, 1),\n",
       " (20, 5, 5),\n",
       " (20, 5, 1),\n",
       " (20, 5, 1),\n",
       " (20, 5, 1),\n",
       " (20, 5, 1),\n",
       " (20, 5, 1),\n",
       " (20, 5, 1),\n",
       " (20, 5, 1),\n",
       " (20, 5, 1),\n",
       " (20, 5, 1),\n",
       " (20, 5, 1),\n",
       " (20, 1, 1),\n",
       " (20, 1, 1),\n",
       " (20, 1, 1),\n",
       " (20, 1, 1),\n",
       " (20, 1, 1),\n",
       " (20, 1, 1),\n",
       " (20, 1, 1),\n",
       " (20, 1, 1),\n",
       " (20, 1, 1),\n",
       " (20, 1, 1),\n",
       " (20, 20, 10),\n",
       " (20, 20, 10),\n",
       " (20, 20, 10),\n",
       " (20, 20, 10),\n",
       " (20, 20, 10),\n",
       " (20, 20, 5),\n",
       " (20, 20, 5),\n",
       " (20, 20, 1),\n",
       " (20, 20, 1),\n",
       " (20, 20, 1),\n",
       " (20, 20, 1),\n",
       " (20, 20, 1),\n",
       " (20, 10, 10),\n",
       " (20, 10, 10),\n",
       " (20, 10, 10),\n",
       " (20, 10, 10),\n",
       " (20, 10, 5),\n",
       " (20, 10, 5),\n",
       " (20, 10, 1),\n",
       " (20, 10, 1),\n",
       " (20, 10, 1),\n",
       " (20, 10, 1),\n",
       " (20, 10, 1),\n",
       " (20, 10, 10),\n",
       " (20, 10, 10),\n",
       " (20, 10, 10),\n",
       " (20, 10, 5),\n",
       " (20, 10, 5),\n",
       " (20, 10, 1),\n",
       " (20, 10, 1),\n",
       " (20, 10, 1),\n",
       " (20, 10, 1),\n",
       " (20, 10, 1),\n",
       " (20, 10, 10),\n",
       " (20, 10, 10),\n",
       " (20, 10, 5),\n",
       " (20, 10, 5),\n",
       " (20, 10, 1),\n",
       " (20, 10, 1),\n",
       " (20, 10, 1),\n",
       " (20, 10, 1),\n",
       " (20, 10, 1),\n",
       " (20, 10, 10),\n",
       " (20, 10, 5),\n",
       " (20, 10, 5),\n",
       " (20, 10, 1),\n",
       " (20, 10, 1),\n",
       " (20, 10, 1),\n",
       " (20, 10, 1),\n",
       " (20, 10, 1),\n",
       " (20, 10, 5),\n",
       " (20, 10, 5),\n",
       " (20, 10, 1),\n",
       " (20, 10, 1),\n",
       " (20, 10, 1),\n",
       " (20, 10, 1),\n",
       " (20, 10, 1),\n",
       " (20, 5, 5),\n",
       " (20, 5, 1),\n",
       " (20, 5, 1),\n",
       " (20, 5, 1),\n",
       " (20, 5, 1),\n",
       " (20, 5, 1),\n",
       " (20, 5, 1),\n",
       " (20, 5, 1),\n",
       " (20, 5, 1),\n",
       " (20, 5, 1),\n",
       " (20, 5, 1),\n",
       " (20, 1, 1),\n",
       " (20, 1, 1),\n",
       " (20, 1, 1),\n",
       " (20, 1, 1),\n",
       " (20, 1, 1),\n",
       " (20, 1, 1),\n",
       " (20, 1, 1),\n",
       " (20, 1, 1),\n",
       " (20, 1, 1),\n",
       " (20, 1, 1),\n",
       " (20, 10, 10),\n",
       " (20, 10, 10),\n",
       " (20, 10, 10),\n",
       " (20, 10, 10),\n",
       " (20, 10, 5),\n",
       " (20, 10, 5),\n",
       " (20, 10, 1),\n",
       " (20, 10, 1),\n",
       " (20, 10, 1),\n",
       " (20, 10, 1),\n",
       " (20, 10, 1),\n",
       " (20, 10, 10),\n",
       " (20, 10, 10),\n",
       " (20, 10, 10),\n",
       " (20, 10, 5),\n",
       " (20, 10, 5),\n",
       " (20, 10, 1),\n",
       " (20, 10, 1),\n",
       " (20, 10, 1),\n",
       " (20, 10, 1),\n",
       " (20, 10, 1),\n",
       " (20, 10, 10),\n",
       " (20, 10, 10),\n",
       " (20, 10, 5),\n",
       " (20, 10, 5),\n",
       " (20, 10, 1),\n",
       " (20, 10, 1),\n",
       " (20, 10, 1),\n",
       " (20, 10, 1),\n",
       " (20, 10, 1),\n",
       " (20, 10, 10),\n",
       " (20, 10, 5),\n",
       " (20, 10, 5),\n",
       " (20, 10, 1),\n",
       " (20, 10, 1),\n",
       " (20, 10, 1),\n",
       " (20, 10, 1),\n",
       " (20, 10, 1),\n",
       " (20, 10, 5),\n",
       " (20, 10, 5),\n",
       " (20, 10, 1),\n",
       " (20, 10, 1),\n",
       " (20, 10, 1),\n",
       " (20, 10, 1),\n",
       " (20, 10, 1),\n",
       " (20, 5, 5),\n",
       " (20, 5, 1),\n",
       " (20, 5, 1),\n",
       " (20, 5, 1),\n",
       " (20, 5, 1),\n",
       " (20, 5, 1),\n",
       " (20, 5, 1),\n",
       " (20, 5, 1),\n",
       " (20, 5, 1),\n",
       " (20, 5, 1),\n",
       " (20, 5, 1),\n",
       " (20, 1, 1),\n",
       " (20, 1, 1),\n",
       " (20, 1, 1),\n",
       " (20, 1, 1),\n",
       " (20, 1, 1),\n",
       " (20, 1, 1),\n",
       " (20, 1, 1),\n",
       " (20, 1, 1),\n",
       " (20, 1, 1),\n",
       " (20, 1, 1),\n",
       " (10, 10, 10),\n",
       " (10, 10, 10),\n",
       " (10, 10, 10),\n",
       " (10, 10, 5),\n",
       " (10, 10, 5),\n",
       " (10, 10, 1),\n",
       " (10, 10, 1),\n",
       " (10, 10, 1),\n",
       " (10, 10, 1),\n",
       " (10, 10, 1),\n",
       " (10, 10, 10),\n",
       " (10, 10, 10),\n",
       " (10, 10, 5),\n",
       " (10, 10, 5),\n",
       " (10, 10, 1),\n",
       " (10, 10, 1),\n",
       " (10, 10, 1),\n",
       " (10, 10, 1),\n",
       " (10, 10, 1),\n",
       " (10, 10, 10),\n",
       " (10, 10, 5),\n",
       " (10, 10, 5),\n",
       " (10, 10, 1),\n",
       " (10, 10, 1),\n",
       " (10, 10, 1),\n",
       " (10, 10, 1),\n",
       " (10, 10, 1),\n",
       " (10, 10, 5),\n",
       " (10, 10, 5),\n",
       " (10, 10, 1),\n",
       " (10, 10, 1),\n",
       " (10, 10, 1),\n",
       " (10, 10, 1),\n",
       " (10, 10, 1),\n",
       " (10, 5, 5),\n",
       " (10, 5, 1),\n",
       " (10, 5, 1),\n",
       " (10, 5, 1),\n",
       " (10, 5, 1),\n",
       " (10, 5, 1),\n",
       " (10, 5, 1),\n",
       " (10, 5, 1),\n",
       " (10, 5, 1),\n",
       " (10, 5, 1),\n",
       " (10, 5, 1),\n",
       " (10, 1, 1),\n",
       " (10, 1, 1),\n",
       " (10, 1, 1),\n",
       " (10, 1, 1),\n",
       " (10, 1, 1),\n",
       " (10, 1, 1),\n",
       " (10, 1, 1),\n",
       " (10, 1, 1),\n",
       " (10, 1, 1),\n",
       " (10, 1, 1),\n",
       " (10, 10, 10),\n",
       " (10, 10, 10),\n",
       " (10, 10, 5),\n",
       " (10, 10, 5),\n",
       " (10, 10, 1),\n",
       " (10, 10, 1),\n",
       " (10, 10, 1),\n",
       " (10, 10, 1),\n",
       " (10, 10, 1),\n",
       " (10, 10, 10),\n",
       " (10, 10, 5),\n",
       " (10, 10, 5),\n",
       " (10, 10, 1),\n",
       " (10, 10, 1),\n",
       " (10, 10, 1),\n",
       " (10, 10, 1),\n",
       " (10, 10, 1),\n",
       " (10, 10, 5),\n",
       " (10, 10, 5),\n",
       " (10, 10, 1),\n",
       " (10, 10, 1),\n",
       " (10, 10, 1),\n",
       " (10, 10, 1),\n",
       " (10, 10, 1),\n",
       " (10, 5, 5),\n",
       " (10, 5, 1),\n",
       " (10, 5, 1),\n",
       " (10, 5, 1),\n",
       " (10, 5, 1),\n",
       " (10, 5, 1),\n",
       " (10, 5, 1),\n",
       " (10, 5, 1),\n",
       " (10, 5, 1),\n",
       " (10, 5, 1),\n",
       " (10, 5, 1),\n",
       " (10, 1, 1),\n",
       " (10, 1, 1),\n",
       " (10, 1, 1),\n",
       " (10, 1, 1),\n",
       " (10, 1, 1),\n",
       " (10, 1, 1),\n",
       " (10, 1, 1),\n",
       " (10, 1, 1),\n",
       " (10, 1, 1),\n",
       " (10, 1, 1),\n",
       " (10, 10, 10),\n",
       " (10, 10, 5),\n",
       " (10, 10, 5),\n",
       " (10, 10, 1),\n",
       " (10, 10, 1),\n",
       " (10, 10, 1),\n",
       " (10, 10, 1),\n",
       " (10, 10, 1),\n",
       " (10, 10, 5),\n",
       " (10, 10, 5),\n",
       " (10, 10, 1),\n",
       " (10, 10, 1),\n",
       " (10, 10, 1),\n",
       " (10, 10, 1),\n",
       " (10, 10, 1),\n",
       " (10, 5, 5),\n",
       " (10, 5, 1),\n",
       " (10, 5, 1),\n",
       " (10, 5, 1),\n",
       " (10, 5, 1),\n",
       " (10, 5, 1),\n",
       " (10, 5, 1),\n",
       " (10, 5, 1),\n",
       " (10, 5, 1),\n",
       " (10, 5, 1),\n",
       " (10, 5, 1),\n",
       " (10, 1, 1),\n",
       " (10, 1, 1),\n",
       " (10, 1, 1),\n",
       " (10, 1, 1),\n",
       " (10, 1, 1),\n",
       " (10, 1, 1),\n",
       " (10, 1, 1),\n",
       " (10, 1, 1),\n",
       " (10, 1, 1),\n",
       " (10, 1, 1),\n",
       " (10, 10, 5),\n",
       " (10, 10, 5),\n",
       " (10, 10, 1),\n",
       " (10, 10, 1),\n",
       " (10, 10, 1),\n",
       " (10, 10, 1),\n",
       " (10, 10, 1),\n",
       " (10, 5, 5),\n",
       " (10, 5, 1),\n",
       " (10, 5, 1),\n",
       " (10, 5, 1),\n",
       " (10, 5, 1),\n",
       " (10, 5, 1),\n",
       " (10, 5, 1),\n",
       " (10, 5, 1),\n",
       " (10, 5, 1),\n",
       " (10, 5, 1),\n",
       " (10, 5, 1),\n",
       " (10, 1, 1),\n",
       " (10, 1, 1),\n",
       " (10, 1, 1),\n",
       " (10, 1, 1),\n",
       " (10, 1, 1),\n",
       " (10, 1, 1),\n",
       " (10, 1, 1),\n",
       " (10, 1, 1),\n",
       " (10, 1, 1),\n",
       " (10, 1, 1),\n",
       " (10, 5, 5),\n",
       " (10, 5, 1),\n",
       " (10, 5, 1),\n",
       " (10, 5, 1),\n",
       " (10, 5, 1),\n",
       " (10, 5, 1),\n",
       " (10, 5, 1),\n",
       " (10, 5, 1),\n",
       " (10, 5, 1),\n",
       " (10, 5, 1),\n",
       " (10, 5, 1),\n",
       " (10, 1, 1),\n",
       " (10, 1, 1),\n",
       " (10, 1, 1),\n",
       " (10, 1, 1),\n",
       " (10, 1, 1),\n",
       " (10, 1, 1),\n",
       " (10, 1, 1),\n",
       " (10, 1, 1),\n",
       " (10, 1, 1),\n",
       " (10, 1, 1),\n",
       " (5, 5, 1),\n",
       " (5, 5, 1),\n",
       " (5, 5, 1),\n",
       " (5, 5, 1),\n",
       " (5, 5, 1),\n",
       " (5, 1, 1),\n",
       " (5, 1, 1),\n",
       " (5, 1, 1),\n",
       " (5, 1, 1),\n",
       " (5, 1, 1),\n",
       " (5, 1, 1),\n",
       " (5, 1, 1),\n",
       " (5, 1, 1),\n",
       " (5, 1, 1),\n",
       " (5, 1, 1),\n",
       " (5, 1, 1),\n",
       " (5, 1, 1),\n",
       " (5, 1, 1),\n",
       " (5, 1, 1),\n",
       " (5, 1, 1),\n",
       " (5, 1, 1),\n",
       " (5, 1, 1),\n",
       " (5, 1, 1),\n",
       " (5, 1, 1),\n",
       " (5, 1, 1),\n",
       " (1, 1, 1),\n",
       " (1, 1, 1),\n",
       " (1, 1, 1),\n",
       " (1, 1, 1),\n",
       " (1, 1, 1),\n",
       " (1, 1, 1),\n",
       " (1, 1, 1),\n",
       " (1, 1, 1),\n",
       " (1, 1, 1),\n",
       " (1, 1, 1)]"
      ]
     },
     "execution_count": 16,
     "metadata": {},
     "output_type": "execute_result"
    }
   ],
   "source": [
    "# list the combinations of 3.\n",
    "list(it.combinations(bills, 3))"
   ]
  },
  {
   "cell_type": "code",
   "execution_count": 17,
   "id": "6cc1db9e",
   "metadata": {},
   "outputs": [],
   "source": [
    "makes_100 = []\n",
    "\n",
    "# loop over the positive integers.\n",
    "for n in range(1, len(bills) + 1):\n",
    "    # check which combination of each size add up to 100 dollars.\n",
    "    for combination in it.combinations(bills, n):\n",
    "        if sum(combination) == 100:\n",
    "            makes_100.append(combination)"
   ]
  },
  {
   "cell_type": "code",
   "execution_count": 18,
   "id": "54feacb6",
   "metadata": {},
   "outputs": [
    {
     "data": {
      "text/plain": [
       "{(20, 20, 10, 10, 10, 10, 10, 5, 1, 1, 1, 1, 1),\n",
       " (20, 20, 10, 10, 10, 10, 10, 5, 5),\n",
       " (20, 20, 20, 10, 10, 10, 5, 1, 1, 1, 1, 1),\n",
       " (20, 20, 20, 10, 10, 10, 5, 5),\n",
       " (20, 20, 20, 10, 10, 10, 10)}"
      ]
     },
     "execution_count": 18,
     "metadata": {},
     "output_type": "execute_result"
    }
   ],
   "source": [
    "# to remove duplicates from makes_100, \n",
    "# convert it to a set.\n",
    "set(makes_100)"
   ]
  },
  {
   "cell_type": "markdown",
   "id": "15cbb385",
   "metadata": {},
   "source": [
    "How many ways are there to make change for a 100 bill using any number of 50, 20, 10, 5, and 1 dollar bills?"
   ]
  },
  {
   "cell_type": "code",
   "execution_count": 19,
   "id": "221a579a",
   "metadata": {},
   "outputs": [
    {
     "data": {
      "text/plain": [
       "[(1, 1), (1, 2), (2, 2)]"
      ]
     },
     "execution_count": 19,
     "metadata": {},
     "output_type": "execute_result"
    }
   ],
   "source": [
    "list(it.combinations_with_replacement([1, 2], 2))"
   ]
  },
  {
   "cell_type": "code",
   "execution_count": 20,
   "id": "f227f587",
   "metadata": {},
   "outputs": [
    {
     "data": {
      "text/plain": [
       "[(1, 2)]"
      ]
     },
     "execution_count": 20,
     "metadata": {},
     "output_type": "execute_result"
    }
   ],
   "source": [
    "# compare the combination.\n",
    "list(it.combinations([1, 2], 2))"
   ]
  },
  {
   "cell_type": "code",
   "execution_count": 21,
   "id": "d51af845",
   "metadata": {},
   "outputs": [],
   "source": [
    "bills = [50, 20, 10, 5, 1]\n",
    "make_100 = []\n",
    "for n in range(1, 101):\n",
    "    for combination in it.combinations_with_replacement(bills, n):\n",
    "        if sum(combination) == 100:\n",
    "            makes_100.append(combination)"
   ]
  },
  {
   "cell_type": "code",
   "execution_count": 22,
   "id": "b96e7263",
   "metadata": {},
   "outputs": [
    {
     "data": {
      "text/plain": [
       "387"
      ]
     },
     "execution_count": 22,
     "metadata": {},
     "output_type": "execute_result"
    }
   ],
   "source": [
    "len(makes_100)"
   ]
  },
  {
   "cell_type": "code",
   "execution_count": 23,
   "id": "57c9953e",
   "metadata": {},
   "outputs": [
    {
     "data": {
      "text/plain": [
       "[('a', 'b', 'c'),\n",
       " ('a', 'c', 'b'),\n",
       " ('b', 'a', 'c'),\n",
       " ('b', 'c', 'a'),\n",
       " ('c', 'a', 'b'),\n",
       " ('c', 'b', 'a')]"
      ]
     },
     "execution_count": 23,
     "metadata": {},
     "output_type": "execute_result"
    }
   ],
   "source": [
    "list(it.permutations(['a', 'b', 'c']))"
   ]
  }
 ],
 "metadata": {
  "kernelspec": {
   "display_name": "Python 3",
   "language": "python",
   "name": "python3"
  },
  "language_info": {
   "codemirror_mode": {
    "name": "ipython",
    "version": 3
   },
   "file_extension": ".py",
   "mimetype": "text/x-python",
   "name": "python",
   "nbconvert_exporter": "python",
   "pygments_lexer": "ipython3",
   "version": "3.8.8"
  }
 },
 "nbformat": 4,
 "nbformat_minor": 5
}
